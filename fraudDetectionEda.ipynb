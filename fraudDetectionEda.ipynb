{
  "cells": [
    {
      "cell_type": "markdown",
      "metadata": {
        "id": "T9sXcpkuNbSW"
      },
      "source": [
        "# Fraud Detection for Banking\n",
        "\n"
      ]
    },
    {
      "cell_type": "markdown",
      "metadata": {},
      "source": [
        "## Sample Guys\n",
        "\n",
        "#### Hergen Meyer \n",
        "#### Maitha Alshaali \n",
        "#### Nafitha Najeeb \n",
        "#### Dominique Duclayan  "
      ]
    },
    {
      "cell_type": "markdown",
      "metadata": {},
      "source": [
        "## Overview"
      ]
    },
    {
      "cell_type": "markdown",
      "metadata": {},
      "source": [
        "In this project, we are detecting fraudulent transactions from the Banksim dataset that can be found in the link below. \n",
        "\n",
        "Source: https://www.kaggle.com/turkayavci/fraud-detection-on-bank-payments\n",
        "\n",
        "\n",
        "### Feature Description\n",
        "\n",
        "Source: https://www.kaggle.com/turkayavci/fraud-detection-on-bank-payments\n",
        "\n",
        "* Step: This feature represents the day from the start of simulation. It has 180 steps so simulation ran for virtually 6 months.\n",
        "\n",
        "* Customer: This feature represents the customer id\n",
        "\n",
        "* zipCodeOrigin: The zip code of origin/source.\n",
        "\n",
        "* Merchant: The merchant's id\n",
        "\n",
        "* zipMerchant: The merchant's zip code\n",
        "\n",
        "* Age: Categorized age\n",
        "    * 0: <= 18,\n",
        "    * 1: 19-25,\n",
        "    * 2: 26-35,\n",
        "    * 3: 36-45,\n",
        "    * 4: 46:55,\n",
        "    * 5: 56:65,\n",
        "    * 6: > 65\n",
        "    * U: Unknown\n",
        "\n",
        "* Gender: Gender for customer\n",
        "    * E : Enterprise,\n",
        "    * F: Female,\n",
        "    * M: Male,\n",
        "    * U: Unknown\n",
        "\n",
        "* Category: Category of the purchase.\n",
        "\n",
        "* Amount: Amount of the purchase\n",
        "\n",
        "* Fraud: Target variable which shows if the transaction fraudulent(1) or benign(0)"
      ]
    },
    {
      "cell_type": "code",
      "execution_count": 76,
      "metadata": {
        "id": "46bCi9D7NbSc"
      },
      "outputs": [],
      "source": [
        "# (1) Import libraries\n",
        "import pandas as pd\n",
        "import numpy as np\n",
        "\n",
        "from sklearn.model_selection import train_test_split\n",
        "\n",
        "import matplotlib.pyplot as plt\n",
        "import seaborn as sns\n",
        "\n",
        "#Magic Function \n",
        "%matplotlib inline\n",
        "\n",
        "# Hide warnings\n",
        "import warnings\n",
        "warnings.filterwarnings('ignore', category=FutureWarning)\n"
      ]
    },
    {
      "cell_type": "code",
      "execution_count": 2,
      "metadata": {
        "colab": {
          "base_uri": "https://localhost:8080/"
        },
        "id": "PFTSVmFGNbSd",
        "outputId": "40320726-6485-4ce3-f402-00b2feee12b3"
      },
      "outputs": [],
      "source": [
        "# (2) Import data file(s)\n",
        "# Use the SQL method from Spark to import the data as DataFrames. \n",
        "# See the reference code below. Also see the DataBricks Fraud Detection code as example.\n",
        "# For basic exploration, you can also use Pandas.\n",
        "# bs140513_032310.csv\n",
        "# bsNET140513_032310.csv\n",
        "\n",
        "# !curl -O https://storage.googleapis.com/datascience-practice/bs140513_032310.csv.zip\n",
        "# !curl -O https://storage.googleapis.com/datascience-practice/bsNET140513_032310.csv.zip"
      ]
    },
    {
      "cell_type": "code",
      "execution_count": 3,
      "metadata": {
        "colab": {
          "base_uri": "https://localhost:8080/"
        },
        "id": "sjWQIVe1NmtR",
        "outputId": "d80f99d8-171f-455b-8cdb-cec2ad5d29d2"
      },
      "outputs": [
        {
          "name": "stdout",
          "output_type": "stream",
          "text": [
            "EDA_Hergen.ipynb           bsNET140513_032310.csv\n",
            "README.md                  bsNET140513_032310.csv.zip\n",
            "bs140513_032310.csv        fraudDetectionEda.ipynb\n",
            "bs140513_032310.csv.zip    option-9-guide.ipynb\n"
          ]
        }
      ],
      "source": [
        "# (2.a) See the downloaded files\n",
        "!ls"
      ]
    },
    {
      "cell_type": "code",
      "execution_count": 4,
      "metadata": {
        "colab": {
          "base_uri": "https://localhost:8080/"
        },
        "id": "a03iL_UNNtE5",
        "outputId": "cf96695d-6ea4-49e6-f459-09295ab14e8c"
      },
      "outputs": [],
      "source": [
        "# (2.b) Unzip the files\n",
        "# !unzip bs140513_032310.csv.zip\n",
        "# !unzip bsNET140513_032310.csv.zip"
      ]
    },
    {
      "cell_type": "code",
      "execution_count": 5,
      "metadata": {
        "id": "fMJQSLI7N2Df"
      },
      "outputs": [],
      "source": [
        "# (2.c) Read transaction data into Pandas DataFrame\n",
        "dft = pd.read_csv('bs140513_032310.csv')\n",
        "# (2.d) Read network data into Pandas DataFrame\n",
        "dff = pd.read_csv('bsNET140513_032310.csv')\n",
        "\n",
        "# Note: the equivalent method for a PySpark DataFrame is\n",
        "# df = spark.read.csv()"
      ]
    },
    {
      "cell_type": "markdown",
      "metadata": {},
      "source": [
        "# General Exploration"
      ]
    },
    {
      "cell_type": "code",
      "execution_count": 6,
      "metadata": {},
      "outputs": [
        {
          "data": {
            "text/html": [
              "<div>\n",
              "<style scoped>\n",
              "    .dataframe tbody tr th:only-of-type {\n",
              "        vertical-align: middle;\n",
              "    }\n",
              "\n",
              "    .dataframe tbody tr th {\n",
              "        vertical-align: top;\n",
              "    }\n",
              "\n",
              "    .dataframe thead th {\n",
              "        text-align: right;\n",
              "    }\n",
              "</style>\n",
              "<table border=\"1\" class=\"dataframe\">\n",
              "  <thead>\n",
              "    <tr style=\"text-align: right;\">\n",
              "      <th></th>\n",
              "      <th>step</th>\n",
              "      <th>customer</th>\n",
              "      <th>age</th>\n",
              "      <th>gender</th>\n",
              "      <th>zipcodeOri</th>\n",
              "      <th>merchant</th>\n",
              "      <th>zipMerchant</th>\n",
              "      <th>category</th>\n",
              "      <th>amount</th>\n",
              "      <th>fraud</th>\n",
              "    </tr>\n",
              "  </thead>\n",
              "  <tbody>\n",
              "    <tr>\n",
              "      <th>0</th>\n",
              "      <td>0</td>\n",
              "      <td>'C1093826151'</td>\n",
              "      <td>'4'</td>\n",
              "      <td>'M'</td>\n",
              "      <td>'28007'</td>\n",
              "      <td>'M348934600'</td>\n",
              "      <td>'28007'</td>\n",
              "      <td>'es_transportation'</td>\n",
              "      <td>4.55</td>\n",
              "      <td>0</td>\n",
              "    </tr>\n",
              "    <tr>\n",
              "      <th>1</th>\n",
              "      <td>0</td>\n",
              "      <td>'C352968107'</td>\n",
              "      <td>'2'</td>\n",
              "      <td>'M'</td>\n",
              "      <td>'28007'</td>\n",
              "      <td>'M348934600'</td>\n",
              "      <td>'28007'</td>\n",
              "      <td>'es_transportation'</td>\n",
              "      <td>39.68</td>\n",
              "      <td>0</td>\n",
              "    </tr>\n",
              "    <tr>\n",
              "      <th>2</th>\n",
              "      <td>0</td>\n",
              "      <td>'C2054744914'</td>\n",
              "      <td>'4'</td>\n",
              "      <td>'F'</td>\n",
              "      <td>'28007'</td>\n",
              "      <td>'M1823072687'</td>\n",
              "      <td>'28007'</td>\n",
              "      <td>'es_transportation'</td>\n",
              "      <td>26.89</td>\n",
              "      <td>0</td>\n",
              "    </tr>\n",
              "  </tbody>\n",
              "</table>\n",
              "</div>"
            ],
            "text/plain": [
              "   step       customer  age gender zipcodeOri       merchant zipMerchant  \\\n",
              "0     0  'C1093826151'  '4'    'M'    '28007'   'M348934600'     '28007'   \n",
              "1     0   'C352968107'  '2'    'M'    '28007'   'M348934600'     '28007'   \n",
              "2     0  'C2054744914'  '4'    'F'    '28007'  'M1823072687'     '28007'   \n",
              "\n",
              "              category  amount  fraud  \n",
              "0  'es_transportation'    4.55      0  \n",
              "1  'es_transportation'   39.68      0  \n",
              "2  'es_transportation'   26.89      0  "
            ]
          },
          "execution_count": 6,
          "metadata": {},
          "output_type": "execute_result"
        }
      ],
      "source": [
        "# (3) Explore data (for example, see what is categorial and numerical)\n",
        "# Lets start with analysing / comparing dft and dff\n",
        "dft.head(3)"
      ]
    },
    {
      "cell_type": "code",
      "execution_count": 7,
      "metadata": {},
      "outputs": [
        {
          "data": {
            "text/plain": [
              "Index(['step', 'customer', 'age', 'gender', 'zipcodeOri', 'merchant',\n",
              "       'zipMerchant', 'category', 'amount', 'fraud'],\n",
              "      dtype='object')"
            ]
          },
          "execution_count": 7,
          "metadata": {},
          "output_type": "execute_result"
        }
      ],
      "source": [
        "# Checking the columns in our dataset\n",
        "dft.columns"
      ]
    },
    {
      "cell_type": "code",
      "execution_count": 8,
      "metadata": {},
      "outputs": [
        {
          "name": "stdout",
          "output_type": "stream",
          "text": [
            "<class 'pandas.core.frame.DataFrame'>\n",
            "RangeIndex: 594643 entries, 0 to 594642\n",
            "Data columns (total 10 columns):\n",
            " #   Column       Non-Null Count   Dtype  \n",
            "---  ------       --------------   -----  \n",
            " 0   step         594643 non-null  int64  \n",
            " 1   customer     594643 non-null  object \n",
            " 2   age          594643 non-null  object \n",
            " 3   gender       594643 non-null  object \n",
            " 4   zipcodeOri   594643 non-null  object \n",
            " 5   merchant     594643 non-null  object \n",
            " 6   zipMerchant  594643 non-null  object \n",
            " 7   category     594643 non-null  object \n",
            " 8   amount       594643 non-null  float64\n",
            " 9   fraud        594643 non-null  int64  \n",
            "dtypes: float64(1), int64(2), object(7)\n",
            "memory usage: 45.4+ MB\n"
          ]
        }
      ],
      "source": [
        "dft.info()\n"
      ]
    },
    {
      "cell_type": "code",
      "execution_count": 9,
      "metadata": {},
      "outputs": [],
      "source": [
        "# No missing data. Great!"
      ]
    },
    {
      "cell_type": "code",
      "execution_count": 10,
      "metadata": {},
      "outputs": [
        {
          "data": {
            "text/html": [
              "<div>\n",
              "<style scoped>\n",
              "    .dataframe tbody tr th:only-of-type {\n",
              "        vertical-align: middle;\n",
              "    }\n",
              "\n",
              "    .dataframe tbody tr th {\n",
              "        vertical-align: top;\n",
              "    }\n",
              "\n",
              "    .dataframe thead th {\n",
              "        text-align: right;\n",
              "    }\n",
              "</style>\n",
              "<table border=\"1\" class=\"dataframe\">\n",
              "  <thead>\n",
              "    <tr style=\"text-align: right;\">\n",
              "      <th></th>\n",
              "      <th>step</th>\n",
              "      <th>amount</th>\n",
              "      <th>fraud</th>\n",
              "    </tr>\n",
              "  </thead>\n",
              "  <tbody>\n",
              "    <tr>\n",
              "      <th>count</th>\n",
              "      <td>594643.000000</td>\n",
              "      <td>594643.000000</td>\n",
              "      <td>594643.000000</td>\n",
              "    </tr>\n",
              "    <tr>\n",
              "      <th>mean</th>\n",
              "      <td>94.986827</td>\n",
              "      <td>37.890135</td>\n",
              "      <td>0.012108</td>\n",
              "    </tr>\n",
              "    <tr>\n",
              "      <th>std</th>\n",
              "      <td>51.053632</td>\n",
              "      <td>111.402831</td>\n",
              "      <td>0.109369</td>\n",
              "    </tr>\n",
              "    <tr>\n",
              "      <th>min</th>\n",
              "      <td>0.000000</td>\n",
              "      <td>0.000000</td>\n",
              "      <td>0.000000</td>\n",
              "    </tr>\n",
              "    <tr>\n",
              "      <th>25%</th>\n",
              "      <td>52.000000</td>\n",
              "      <td>13.740000</td>\n",
              "      <td>0.000000</td>\n",
              "    </tr>\n",
              "    <tr>\n",
              "      <th>50%</th>\n",
              "      <td>97.000000</td>\n",
              "      <td>26.900000</td>\n",
              "      <td>0.000000</td>\n",
              "    </tr>\n",
              "    <tr>\n",
              "      <th>75%</th>\n",
              "      <td>139.000000</td>\n",
              "      <td>42.540000</td>\n",
              "      <td>0.000000</td>\n",
              "    </tr>\n",
              "    <tr>\n",
              "      <th>max</th>\n",
              "      <td>179.000000</td>\n",
              "      <td>8329.960000</td>\n",
              "      <td>1.000000</td>\n",
              "    </tr>\n",
              "  </tbody>\n",
              "</table>\n",
              "</div>"
            ],
            "text/plain": [
              "                step         amount          fraud\n",
              "count  594643.000000  594643.000000  594643.000000\n",
              "mean       94.986827      37.890135       0.012108\n",
              "std        51.053632     111.402831       0.109369\n",
              "min         0.000000       0.000000       0.000000\n",
              "25%        52.000000      13.740000       0.000000\n",
              "50%        97.000000      26.900000       0.000000\n",
              "75%       139.000000      42.540000       0.000000\n",
              "max       179.000000    8329.960000       1.000000"
            ]
          },
          "execution_count": 10,
          "metadata": {},
          "output_type": "execute_result"
        }
      ],
      "source": [
        "# Overview of some statistics\n",
        "dft.describe()"
      ]
    },
    {
      "cell_type": "code",
      "execution_count": 11,
      "metadata": {},
      "outputs": [
        {
          "data": {
            "text/plain": [
              "<bound method Series.unique of 0           0\n",
              "1           0\n",
              "2           0\n",
              "3           0\n",
              "4           0\n",
              "         ... \n",
              "594638    179\n",
              "594639    179\n",
              "594640    179\n",
              "594641    179\n",
              "594642    179\n",
              "Name: step, Length: 594643, dtype: int64>"
            ]
          },
          "execution_count": 11,
          "metadata": {},
          "output_type": "execute_result"
        }
      ],
      "source": [
        "# Checking for weird values \n",
        "dft['step'].unique"
      ]
    },
    {
      "cell_type": "code",
      "execution_count": 12,
      "metadata": {},
      "outputs": [],
      "source": [
        "def addlabels (x,y):\n",
        "    for i in range(len(x)):\n",
        "        plt.text(i,y[i]+4000, y[i], ha= 'center')\n",
        "        "
      ]
    },
    {
      "cell_type": "code",
      "execution_count": 13,
      "metadata": {},
      "outputs": [],
      "source": [
        "def addlabels_1 (x,y):\n",
        "    for i in range(len(x)):\n",
        "        plt.text(i,y[i]+4000, y[i], ha= 'center', rotation=90)"
      ]
    },
    {
      "cell_type": "code",
      "execution_count": 14,
      "metadata": {},
      "outputs": [
        {
          "data": {
            "text/plain": [
              "Text(0.5, 1.0, 'Fraud frequency')"
            ]
          },
          "execution_count": 14,
          "metadata": {},
          "output_type": "execute_result"
        },
        {
          "data": {
            "image/png": "[encoded data removed]",
            "text/plain": [
              "<Figure size 432x288 with 1 Axes>"
            ]
          },
          "metadata": {},
          "output_type": "display_data"
        }
      ],
      "source": [
        "plt.pie(dft['fraud'].value_counts(), labels=[587443*100/(587443+7200), 7200*100/(587443+7200)])\n",
        "plt.title('Fraud frequency')"
      ]
    },
    {
      "cell_type": "code",
      "execution_count": 15,
      "metadata": {},
      "outputs": [
        {
          "data": {
            "image/png": "[encoded data removed]",
            "text/plain": [
              "<Figure size 432x288 with 1 Axes>"
            ]
          },
          "metadata": {
            "needs_background": "light"
          },
          "output_type": "display_data"
        }
      ],
      "source": [
        "sns.countplot(x=\"fraud\",data=dft,edgecolor=\"black\",palette=\"bright\")\n",
        "plt.title(\"Count of Fraudulent Payments\",fontsize=21)\n",
        "addlabels([\"0\",\"1\"],dft.fraud.value_counts())\n",
        "plt.show()\n"
      ]
    },
    {
      "cell_type": "code",
      "execution_count": 16,
      "metadata": {},
      "outputs": [
        {
          "name": "stdout",
          "output_type": "stream",
          "text": [
            "fraud\n",
            "0        587443\n",
            "1          7200\n",
            "dtype: int64\n"
          ]
        }
      ],
      "source": [
        "fraudCount = dft[['fraud']].value_counts()\n",
        "print(fraudCount)\n",
        "\n",
        "# The results show us that there is a total of 587443 non fraudelant transactions \n",
        "# that are benign (0) and a total of 7200 fraudelant transactions (1)\n"
      ]
    },
    {
      "cell_type": "code",
      "execution_count": 17,
      "metadata": {},
      "outputs": [
        {
          "name": "stdout",
          "output_type": "stream",
          "text": [
            "No. of fraud transactions: 7200, No. of non-fraud transactions: 587443\n"
          ]
        }
      ],
      "source": [
        "# Printing the Number of fraud transactions and non-fraud transactions\n",
        "print('No. of fraud transactions: {}, No. of non-fraud transactions: {}'.format((dft.fraud == 1).sum(), (dft.fraud == 0).sum()))"
      ]
    },
    {
      "cell_type": "code",
      "execution_count": 18,
      "metadata": {},
      "outputs": [
        {
          "name": "stdout",
          "output_type": "stream",
          "text": [
            "Percentage of fraud cases: 1.2%\n"
          ]
        }
      ],
      "source": [
        "percent = dft[['fraud']].value_counts()[1] / len(dft) * 100\n",
        "percent = percent.round(1)\n",
        "print(\"Percentage of fraud cases: {}%\".format(percent) )\n"
      ]
    },
    {
      "cell_type": "code",
      "execution_count": 19,
      "metadata": {},
      "outputs": [
        {
          "data": {
            "text/html": [
              "<div>\n",
              "<style scoped>\n",
              "    .dataframe tbody tr th:only-of-type {\n",
              "        vertical-align: middle;\n",
              "    }\n",
              "\n",
              "    .dataframe tbody tr th {\n",
              "        vertical-align: top;\n",
              "    }\n",
              "\n",
              "    .dataframe thead th {\n",
              "        text-align: right;\n",
              "    }\n",
              "</style>\n",
              "<table border=\"1\" class=\"dataframe\">\n",
              "  <thead>\n",
              "    <tr style=\"text-align: right;\">\n",
              "      <th></th>\n",
              "      <th>step</th>\n",
              "      <th>customer</th>\n",
              "      <th>age</th>\n",
              "      <th>gender</th>\n",
              "      <th>zipcodeOri</th>\n",
              "      <th>merchant</th>\n",
              "      <th>zipMerchant</th>\n",
              "      <th>category</th>\n",
              "      <th>amount</th>\n",
              "      <th>fraud</th>\n",
              "    </tr>\n",
              "  </thead>\n",
              "  <tbody>\n",
              "    <tr>\n",
              "      <th>0</th>\n",
              "      <td>0</td>\n",
              "      <td>'C1093826151'</td>\n",
              "      <td>'4'</td>\n",
              "      <td>'M'</td>\n",
              "      <td>'28007'</td>\n",
              "      <td>'M348934600'</td>\n",
              "      <td>'28007'</td>\n",
              "      <td>'es_transportation'</td>\n",
              "      <td>4.55</td>\n",
              "      <td>0</td>\n",
              "    </tr>\n",
              "  </tbody>\n",
              "</table>\n",
              "</div>"
            ],
            "text/plain": [
              "   step       customer  age gender zipcodeOri      merchant zipMerchant  \\\n",
              "0     0  'C1093826151'  '4'    'M'    '28007'  'M348934600'     '28007'   \n",
              "\n",
              "              category  amount  fraud  \n",
              "0  'es_transportation'    4.55      0  "
            ]
          },
          "execution_count": 19,
          "metadata": {},
          "output_type": "execute_result"
        }
      ],
      "source": [
        "dft.head(1)\n"
      ]
    },
    {
      "cell_type": "code",
      "execution_count": 20,
      "metadata": {},
      "outputs": [
        {
          "data": {
            "text/html": [
              "<div>\n",
              "<style scoped>\n",
              "    .dataframe tbody tr th:only-of-type {\n",
              "        vertical-align: middle;\n",
              "    }\n",
              "\n",
              "    .dataframe tbody tr th {\n",
              "        vertical-align: top;\n",
              "    }\n",
              "\n",
              "    .dataframe thead th {\n",
              "        text-align: right;\n",
              "    }\n",
              "</style>\n",
              "<table border=\"1\" class=\"dataframe\">\n",
              "  <thead>\n",
              "    <tr style=\"text-align: right;\">\n",
              "      <th></th>\n",
              "      <th>Source</th>\n",
              "      <th>Target</th>\n",
              "      <th>Weight</th>\n",
              "      <th>typeTrans</th>\n",
              "      <th>fraud</th>\n",
              "    </tr>\n",
              "  </thead>\n",
              "  <tbody>\n",
              "    <tr>\n",
              "      <th>0</th>\n",
              "      <td>'C1093826151'</td>\n",
              "      <td>'M348934600'</td>\n",
              "      <td>4.55</td>\n",
              "      <td>'es_transportation'</td>\n",
              "      <td>0</td>\n",
              "    </tr>\n",
              "  </tbody>\n",
              "</table>\n",
              "</div>"
            ],
            "text/plain": [
              "          Source        Target  Weight            typeTrans  fraud\n",
              "0  'C1093826151'  'M348934600'    4.55  'es_transportation'      0"
            ]
          },
          "execution_count": 20,
          "metadata": {},
          "output_type": "execute_result"
        }
      ],
      "source": [
        "dff.head(1)"
      ]
    },
    {
      "cell_type": "code",
      "execution_count": 21,
      "metadata": {},
      "outputs": [
        {
          "data": {
            "text/plain": [
              "fraud\n",
              "0        587443\n",
              "1          7200\n",
              "dtype: int64"
            ]
          },
          "execution_count": 21,
          "metadata": {},
          "output_type": "execute_result"
        }
      ],
      "source": [
        "dff[['fraud']].value_counts()\n"
      ]
    },
    {
      "cell_type": "code",
      "execution_count": 22,
      "metadata": {},
      "outputs": [
        {
          "name": "stdout",
          "output_type": "stream",
          "text": [
            "<class 'pandas.core.frame.DataFrame'>\n",
            "RangeIndex: 594643 entries, 0 to 594642\n",
            "Data columns (total 5 columns):\n",
            " #   Column     Non-Null Count   Dtype  \n",
            "---  ------     --------------   -----  \n",
            " 0   Source     594643 non-null  object \n",
            " 1   Target     594643 non-null  object \n",
            " 2   Weight     594643 non-null  float64\n",
            " 3   typeTrans  594643 non-null  object \n",
            " 4   fraud      594643 non-null  int64  \n",
            "dtypes: float64(1), int64(1), object(3)\n",
            "memory usage: 22.7+ MB\n"
          ]
        }
      ],
      "source": [
        "dff.info()"
      ]
    },
    {
      "cell_type": "markdown",
      "metadata": {},
      "source": [
        "\n",
        "### I conclude: The DFF dataset can be ignored as it is redundant to DFT\n"
      ]
    },
    {
      "cell_type": "markdown",
      "metadata": {},
      "source": [
        "# Feature Analysis"
      ]
    },
    {
      "cell_type": "code",
      "execution_count": 23,
      "metadata": {},
      "outputs": [],
      "source": [
        "# Fraud cases:\n",
        "trans_fraud = dft[dft['fraud'] == 1]\n"
      ]
    },
    {
      "cell_type": "code",
      "execution_count": 24,
      "metadata": {},
      "outputs": [
        {
          "data": {
            "text/plain": [
              "step  customer       age  gender  zipcodeOri  merchant       zipMerchant  category                 amount   fraud\n",
              "0     'C1038215695'  '4'  'M'     '28007'     'M2122776122'  '28007'      'es_home'                328.02   1        1\n",
              "120   'C916694479'   '4'  'F'     '28007'     'M480139044'   '28007'      'es_health'              443.60   1        1\n",
              "      'C1394467199'  '3'  'M'     '28007'     'M980657600'   '28007'      'es_sportsandtoys'       344.16   1        1\n",
              "      'C1382187685'  '1'  'F'     '28007'     'M151143676'   '28007'      'es_barsandrestaurants'  134.63   1        1\n",
              "      'C1294166760'  '3'  'M'     '28007'     'M209847108'   '28007'      'es_wellnessandbeauty'   135.91   1        1\n",
              "                                                                                                                    ..\n",
              "59    'C806399525'   '2'  'F'     '28007'     'M980657600'   '28007'      'es_sportsandtoys'       29.22    1        1\n",
              "                                              'M480139044'   '28007'      'es_health'              166.89   1        1\n",
              "      'C77017704'    '2'  'F'     '28007'     'M1873032707'  '28007'      'es_hotelservices'       616.24   1        1\n",
              "      'C611182051'   '2'  'F'     '28007'     'M732195782'   '28007'      'es_travel'              1921.75  1        1\n",
              "179   'C95082443'    '2'  'M'     '28007'     'M980657600'   '28007'      'es_sportsandtoys'       518.50   1        1\n",
              "Length: 7200, dtype: int64"
            ]
          },
          "execution_count": 24,
          "metadata": {},
          "output_type": "execute_result"
        }
      ],
      "source": [
        "# Checking to see the details and number of fraud (1) transactions \n",
        "dft.loc[dft.fraud == 1].value_counts()"
      ]
    },
    {
      "cell_type": "code",
      "execution_count": 25,
      "metadata": {},
      "outputs": [
        {
          "data": {
            "text/plain": [
              "step  customer       age  gender  zipcodeOri  merchant       zipMerchant  category                 amount  fraud\n",
              "0     'C100045114'   '4'  'M'     '28007'     'M348934600'   '28007'      'es_transportation'      35.13   0        1\n",
              "126   'C1175419672'  '2'  'M'     '28007'     'M1823072687'  '28007'      'es_transportation'      58.11   0        1\n",
              "      'C1171622243'  '5'  'M'     '28007'     'M151143676'   '28007'      'es_barsandrestaurants'  35.76   0        1\n",
              "      'C1173530601'  '2'  'M'     '28007'     'M1823072687'  '28007'      'es_transportation'      42.77   0        1\n",
              "      'C1174105749'  '5'  'M'     '28007'     'M348934600'   '28007'      'es_transportation'      21.85   0        1\n",
              "                                                                                                                   ..\n",
              "68    'C1687751654'  '3'  'M'     '28007'     'M1823072687'  '28007'      'es_transportation'      60.55   0        1\n",
              "      'C1687722078'  '2'  'M'     '28007'     'M1823072687'  '28007'      'es_transportation'      33.33   0        1\n",
              "      'C168710517'   '4'  'F'     '28007'     'M1823072687'  '28007'      'es_transportation'      9.91    0        1\n",
              "      'C1687101094'  '2'  'F'     '28007'     'M1823072687'  '28007'      'es_transportation'      0.30    0        1\n",
              "179   'C999723254'   '2'  'M'     '28007'     'M1823072687'  '28007'      'es_transportation'      32.96   0        1\n",
              "Length: 587443, dtype: int64"
            ]
          },
          "execution_count": 25,
          "metadata": {},
          "output_type": "execute_result"
        }
      ],
      "source": [
        "# Checking to see the details and number of non-fraud (0) transactions \n",
        "dft.loc[dft.fraud == 0].value_counts()"
      ]
    },
    {
      "cell_type": "code",
      "execution_count": 26,
      "metadata": {},
      "outputs": [
        {
          "data": {
            "text/plain": [
              "'2'    2344\n",
              "'3'    1755\n",
              "'4'    1410\n",
              "'1'     689\n",
              "'5'     686\n",
              "'6'     261\n",
              "'0'      48\n",
              "'U'       7\n",
              "Name: age, dtype: int64"
            ]
          },
          "execution_count": 26,
          "metadata": {},
          "output_type": "execute_result"
        }
      ],
      "source": [
        "# Checking to see the number of fraud (1) transactions and its correlation with age\n",
        "dft.loc[dft.fraud == 1,'age'].value_counts()"
      ]
    },
    {
      "cell_type": "markdown",
      "metadata": {},
      "source": [
        "### step"
      ]
    },
    {
      "cell_type": "code",
      "execution_count": 27,
      "metadata": {},
      "outputs": [
        {
          "data": {
            "text/plain": [
              "step\n",
              "175     3774\n",
              "177     3758\n",
              "152     3746\n",
              "178     3743\n",
              "174     3743\n",
              "        ... \n",
              "5       2525\n",
              "3       2499\n",
              "2       2462\n",
              "0       2430\n",
              "1       2424\n",
              "Length: 180, dtype: int64"
            ]
          },
          "execution_count": 27,
          "metadata": {},
          "output_type": "execute_result"
        }
      ],
      "source": [
        "# dft.groupby('step').describe()['fraud']\n",
        "dft[['step']].value_counts()\n"
      ]
    },
    {
      "cell_type": "code",
      "execution_count": 28,
      "metadata": {},
      "outputs": [
        {
          "data": {
            "text/plain": [
              "step\n",
              "0       40\n",
              "113     40\n",
              "115     40\n",
              "116     40\n",
              "117     40\n",
              "        ..\n",
              "61      40\n",
              "62      40\n",
              "63      40\n",
              "64      40\n",
              "179     40\n",
              "Length: 180, dtype: int64"
            ]
          },
          "execution_count": 28,
          "metadata": {},
          "output_type": "execute_result"
        }
      ],
      "source": [
        "trans_fraud[['step']].value_counts()\n"
      ]
    },
    {
      "cell_type": "code",
      "execution_count": 29,
      "metadata": {},
      "outputs": [],
      "source": [
        "# I have not clue what step is .... but it seams, each step holds 40 fraud cases...."
      ]
    },
    {
      "cell_type": "markdown",
      "metadata": {},
      "source": [
        "### customers"
      ]
    },
    {
      "cell_type": "code",
      "execution_count": 30,
      "metadata": {},
      "outputs": [
        {
          "name": "stdout",
          "output_type": "stream",
          "text": [
            "4112\n"
          ]
        }
      ],
      "source": [
        "# Unique customers:\n",
        "print(len(np.unique(dft[['customer']].values)))\n"
      ]
    },
    {
      "cell_type": "markdown",
      "metadata": {},
      "source": [
        "### gender"
      ]
    },
    {
      "cell_type": "code",
      "execution_count": 31,
      "metadata": {},
      "outputs": [
        {
          "data": {
            "text/html": [
              "<div>\n",
              "<style scoped>\n",
              "    .dataframe tbody tr th:only-of-type {\n",
              "        vertical-align: middle;\n",
              "    }\n",
              "\n",
              "    .dataframe tbody tr th {\n",
              "        vertical-align: top;\n",
              "    }\n",
              "\n",
              "    .dataframe thead th {\n",
              "        text-align: right;\n",
              "    }\n",
              "</style>\n",
              "<table border=\"1\" class=\"dataframe\">\n",
              "  <thead>\n",
              "    <tr style=\"text-align: right;\">\n",
              "      <th></th>\n",
              "      <th>gender</th>\n",
              "    </tr>\n",
              "  </thead>\n",
              "  <tbody>\n",
              "    <tr>\n",
              "      <th>'F'</th>\n",
              "      <td>324565</td>\n",
              "    </tr>\n",
              "    <tr>\n",
              "      <th>'M'</th>\n",
              "      <td>268385</td>\n",
              "    </tr>\n",
              "    <tr>\n",
              "      <th>'E'</th>\n",
              "      <td>1178</td>\n",
              "    </tr>\n",
              "    <tr>\n",
              "      <th>'U'</th>\n",
              "      <td>515</td>\n",
              "    </tr>\n",
              "  </tbody>\n",
              "</table>\n",
              "</div>"
            ],
            "text/plain": [
              "     gender\n",
              "'F'  324565\n",
              "'M'  268385\n",
              "'E'    1178\n",
              "'U'     515"
            ]
          },
          "execution_count": 31,
          "metadata": {},
          "output_type": "execute_result"
        }
      ],
      "source": [
        "dft1 = pd.DataFrame(dft[ 'gender' ].value_counts())\n",
        "dft1"
      ]
    },
    {
      "cell_type": "code",
      "execution_count": 32,
      "metadata": {},
      "outputs": [],
      "source": [
        "# And what about all the other gernders ... LBTQ ... ???? ;-)"
      ]
    },
    {
      "cell_type": "code",
      "execution_count": 33,
      "metadata": {},
      "outputs": [
        {
          "data": {
            "image/png": "[encoded data removed]",
            "text/plain": [
              "<Figure size 864x720 with 1 Axes>"
            ]
          },
          "metadata": {
            "needs_background": "light"
          },
          "output_type": "display_data"
        }
      ],
      "source": [
        "plt.figure(figsize=(12,10))\n",
        "sns.barplot(dft1.index,dft1.gender,data=dft1,ec=\"black\", palette=\"bright\")\n",
        "plt.title(\"Gender-wise transactions\",fontsize=21)\n",
        "plt.xticks(rotation=0)\n",
        "addlabels(dft1.index,dft1.gender)"
      ]
    },
    {
      "cell_type": "code",
      "execution_count": 34,
      "metadata": {},
      "outputs": [],
      "source": [
        "# I suggest we ignore E and U"
      ]
    },
    {
      "cell_type": "markdown",
      "metadata": {},
      "source": [
        "### age"
      ]
    },
    {
      "cell_type": "code",
      "execution_count": 35,
      "metadata": {},
      "outputs": [
        {
          "data": {
            "text/plain": [
              "age\n",
              "'2'    2344\n",
              "'3'    1755\n",
              "'4'    1410\n",
              "'1'     689\n",
              "'5'     686\n",
              "'6'     261\n",
              "'0'      48\n",
              "'U'       7\n",
              "dtype: int64"
            ]
          },
          "execution_count": 35,
          "metadata": {},
          "output_type": "execute_result"
        }
      ],
      "source": [
        "trans_fraud[['age']].value_counts()\n"
      ]
    },
    {
      "cell_type": "code",
      "execution_count": 36,
      "metadata": {},
      "outputs": [
        {
          "data": {
            "text/html": [
              "<div>\n",
              "<style scoped>\n",
              "    .dataframe tbody tr th:only-of-type {\n",
              "        vertical-align: middle;\n",
              "    }\n",
              "\n",
              "    .dataframe tbody tr th {\n",
              "        vertical-align: top;\n",
              "    }\n",
              "\n",
              "    .dataframe thead th {\n",
              "        text-align: right;\n",
              "    }\n",
              "</style>\n",
              "<table border=\"1\" class=\"dataframe\">\n",
              "  <thead>\n",
              "    <tr style=\"text-align: right;\">\n",
              "      <th></th>\n",
              "      <th>age</th>\n",
              "    </tr>\n",
              "  </thead>\n",
              "  <tbody>\n",
              "    <tr>\n",
              "      <th>'2'</th>\n",
              "      <td>187310</td>\n",
              "    </tr>\n",
              "    <tr>\n",
              "      <th>'3'</th>\n",
              "      <td>147131</td>\n",
              "    </tr>\n",
              "    <tr>\n",
              "      <th>'4'</th>\n",
              "      <td>109025</td>\n",
              "    </tr>\n",
              "    <tr>\n",
              "      <th>'5'</th>\n",
              "      <td>62642</td>\n",
              "    </tr>\n",
              "    <tr>\n",
              "      <th>'1'</th>\n",
              "      <td>58131</td>\n",
              "    </tr>\n",
              "    <tr>\n",
              "      <th>'6'</th>\n",
              "      <td>26774</td>\n",
              "    </tr>\n",
              "    <tr>\n",
              "      <th>'0'</th>\n",
              "      <td>2452</td>\n",
              "    </tr>\n",
              "    <tr>\n",
              "      <th>'U'</th>\n",
              "      <td>1178</td>\n",
              "    </tr>\n",
              "  </tbody>\n",
              "</table>\n",
              "</div>"
            ],
            "text/plain": [
              "        age\n",
              "'2'  187310\n",
              "'3'  147131\n",
              "'4'  109025\n",
              "'5'   62642\n",
              "'1'   58131\n",
              "'6'   26774\n",
              "'0'    2452\n",
              "'U'    1178"
            ]
          },
          "execution_count": 36,
          "metadata": {},
          "output_type": "execute_result"
        }
      ],
      "source": [
        "dft2 = pd.DataFrame(dft['age'].value_counts())\n",
        "dft2\n",
        "# We need to know the meaning of these values    =>    Dany"
      ]
    },
    {
      "cell_type": "code",
      "execution_count": 37,
      "metadata": {},
      "outputs": [
        {
          "data": {
            "image/png": "[encoded data removed]",
            "text/plain": [
              "<Figure size 864x720 with 1 Axes>"
            ]
          },
          "metadata": {
            "needs_background": "light"
          },
          "output_type": "display_data"
        }
      ],
      "source": [
        "plt.figure(figsize=(12,10))\n",
        "sns.barplot(dft2.index,dft2.age,data=dft2,ec=\"black\")\n",
        "plt.title(\"age-wise transactions\",fontsize=21)\n",
        "plt.xticks(rotation=0)\n",
        "addlabels(dft2.index,dft2.age)"
      ]
    },
    {
      "cell_type": "code",
      "execution_count": 38,
      "metadata": {},
      "outputs": [
        {
          "data": {
            "text/plain": [
              "<seaborn.axisgrid.FacetGrid at 0x7f9e910b6c40>"
            ]
          },
          "execution_count": 38,
          "metadata": {},
          "output_type": "execute_result"
        },
        {
          "data": {
            "image/png": "[encoded data removed]",
            "text/plain": [
              "<Figure size 720x360 with 1 Axes>"
            ]
          },
          "metadata": {
            "needs_background": "light"
          },
          "output_type": "display_data"
        }
      ],
      "source": [
        "\n",
        "\n",
        "sns.catplot(x='age', y='fraud', data=dft, kind='point', aspect=2)\n"
      ]
    },
    {
      "cell_type": "code",
      "execution_count": 39,
      "metadata": {},
      "outputs": [],
      "source": [
        "# I suggest we ignore E and U"
      ]
    },
    {
      "cell_type": "markdown",
      "metadata": {},
      "source": [
        "### zipcodeOri"
      ]
    },
    {
      "cell_type": "code",
      "execution_count": 40,
      "metadata": {},
      "outputs": [
        {
          "data": {
            "text/plain": [
              "zipcodeOri\n",
              "'28007'       594643\n",
              "dtype: int64"
            ]
          },
          "execution_count": 40,
          "metadata": {},
          "output_type": "execute_result"
        }
      ],
      "source": [
        "dft[['zipcodeOri']].value_counts()\n"
      ]
    },
    {
      "cell_type": "code",
      "execution_count": 41,
      "metadata": {},
      "outputs": [],
      "source": [
        "# We can drop this."
      ]
    },
    {
      "cell_type": "markdown",
      "metadata": {},
      "source": [
        "### zipMerchant"
      ]
    },
    {
      "cell_type": "code",
      "execution_count": 42,
      "metadata": {},
      "outputs": [
        {
          "data": {
            "text/plain": [
              "zipMerchant\n",
              "'28007'        594643\n",
              "dtype: int64"
            ]
          },
          "execution_count": 42,
          "metadata": {},
          "output_type": "execute_result"
        }
      ],
      "source": [
        "dft[['zipMerchant']].value_counts()\n"
      ]
    },
    {
      "cell_type": "code",
      "execution_count": 43,
      "metadata": {},
      "outputs": [],
      "source": [
        "# We can drop this."
      ]
    },
    {
      "cell_type": "markdown",
      "metadata": {},
      "source": [
        "### merchant"
      ]
    },
    {
      "cell_type": "code",
      "execution_count": 44,
      "metadata": {},
      "outputs": [
        {
          "data": {
            "text/plain": [
              "merchant     \n",
              "'M480139044'     1634\n",
              "'M980657600'     1472\n",
              "'M732195782'      518\n",
              "'M1198415165'     358\n",
              "'M3697346'        290\n",
              "dtype: int64"
            ]
          },
          "execution_count": 44,
          "metadata": {},
          "output_type": "execute_result"
        }
      ],
      "source": [
        "trans_fraud[['merchant']].value_counts()[:5]\n"
      ]
    },
    {
      "cell_type": "code",
      "execution_count": 45,
      "metadata": {},
      "outputs": [
        {
          "data": {
            "text/plain": [
              "fraud\n",
              "0        1874\n",
              "1        1634\n",
              "dtype: int64"
            ]
          },
          "execution_count": 45,
          "metadata": {},
          "output_type": "execute_result"
        }
      ],
      "source": [
        "worstMerachentDf = dft[dft['merchant'].str.contains(\"M480139044\")]\n",
        "# Note regarding above: I dont understand why I had to use 'contains' rather than \"==\" but...\n",
        "\n",
        "worstMerachentDf[['fraud']].value_counts()"
      ]
    },
    {
      "cell_type": "code",
      "execution_count": 46,
      "metadata": {},
      "outputs": [],
      "source": [
        "# Ok, not always fraud.... ;-)\n"
      ]
    },
    {
      "cell_type": "markdown",
      "metadata": {},
      "source": [
        "### categories"
      ]
    },
    {
      "cell_type": "code",
      "execution_count": 47,
      "metadata": {},
      "outputs": [
        {
          "data": {
            "text/html": [
              "<div>\n",
              "<style scoped>\n",
              "    .dataframe tbody tr th:only-of-type {\n",
              "        vertical-align: middle;\n",
              "    }\n",
              "\n",
              "    .dataframe tbody tr th {\n",
              "        vertical-align: top;\n",
              "    }\n",
              "\n",
              "    .dataframe thead th {\n",
              "        text-align: right;\n",
              "    }\n",
              "</style>\n",
              "<table border=\"1\" class=\"dataframe\">\n",
              "  <thead>\n",
              "    <tr style=\"text-align: right;\">\n",
              "      <th></th>\n",
              "      <th>category</th>\n",
              "    </tr>\n",
              "  </thead>\n",
              "  <tbody>\n",
              "    <tr>\n",
              "      <th>'es_transportation'</th>\n",
              "      <td>505119</td>\n",
              "    </tr>\n",
              "    <tr>\n",
              "      <th>'es_food'</th>\n",
              "      <td>26254</td>\n",
              "    </tr>\n",
              "    <tr>\n",
              "      <th>'es_health'</th>\n",
              "      <td>16133</td>\n",
              "    </tr>\n",
              "    <tr>\n",
              "      <th>'es_wellnessandbeauty'</th>\n",
              "      <td>15086</td>\n",
              "    </tr>\n",
              "    <tr>\n",
              "      <th>'es_fashion'</th>\n",
              "      <td>6454</td>\n",
              "    </tr>\n",
              "    <tr>\n",
              "      <th>'es_barsandrestaurants'</th>\n",
              "      <td>6373</td>\n",
              "    </tr>\n",
              "    <tr>\n",
              "      <th>'es_hyper'</th>\n",
              "      <td>6098</td>\n",
              "    </tr>\n",
              "    <tr>\n",
              "      <th>'es_sportsandtoys'</th>\n",
              "      <td>4002</td>\n",
              "    </tr>\n",
              "    <tr>\n",
              "      <th>'es_tech'</th>\n",
              "      <td>2370</td>\n",
              "    </tr>\n",
              "    <tr>\n",
              "      <th>'es_home'</th>\n",
              "      <td>1986</td>\n",
              "    </tr>\n",
              "    <tr>\n",
              "      <th>'es_hotelservices'</th>\n",
              "      <td>1744</td>\n",
              "    </tr>\n",
              "    <tr>\n",
              "      <th>'es_otherservices'</th>\n",
              "      <td>912</td>\n",
              "    </tr>\n",
              "    <tr>\n",
              "      <th>'es_contents'</th>\n",
              "      <td>885</td>\n",
              "    </tr>\n",
              "    <tr>\n",
              "      <th>'es_travel'</th>\n",
              "      <td>728</td>\n",
              "    </tr>\n",
              "    <tr>\n",
              "      <th>'es_leisure'</th>\n",
              "      <td>499</td>\n",
              "    </tr>\n",
              "  </tbody>\n",
              "</table>\n",
              "</div>"
            ],
            "text/plain": [
              "                         category\n",
              "'es_transportation'        505119\n",
              "'es_food'                   26254\n",
              "'es_health'                 16133\n",
              "'es_wellnessandbeauty'      15086\n",
              "'es_fashion'                 6454\n",
              "'es_barsandrestaurants'      6373\n",
              "'es_hyper'                   6098\n",
              "'es_sportsandtoys'           4002\n",
              "'es_tech'                    2370\n",
              "'es_home'                    1986\n",
              "'es_hotelservices'           1744\n",
              "'es_otherservices'            912\n",
              "'es_contents'                 885\n",
              "'es_travel'                   728\n",
              "'es_leisure'                  499"
            ]
          },
          "execution_count": 47,
          "metadata": {},
          "output_type": "execute_result"
        }
      ],
      "source": [
        "# Categories by fraud cases:\n",
        "dft3=pd.DataFrame(dft['category'].value_counts())\n",
        "dft3\n"
      ]
    },
    {
      "cell_type": "code",
      "execution_count": 48,
      "metadata": {},
      "outputs": [
        {
          "data": {
            "image/png": "[encoded data removed]",
            "text/plain": [
              "<Figure size 720x1080 with 1 Axes>"
            ]
          },
          "metadata": {
            "needs_background": "light"
          },
          "output_type": "display_data"
        }
      ],
      "source": [
        "plt.figure(figsize=(10,15))\n",
        "sns.barplot(dft3.index,dft3.category,data=dft3,ec=\"black\")\n",
        "plt.title(\"Category-wise transactions\",fontsize=21)\n",
        "plt.xticks(rotation=90)\n",
        "addlabels_1(dft3.index,dft3.category)"
      ]
    },
    {
      "cell_type": "code",
      "execution_count": 49,
      "metadata": {},
      "outputs": [],
      "source": [
        "# Note:  The two largest categories (es_transportation and es_food) have absolutely no fraud ....."
      ]
    },
    {
      "cell_type": "markdown",
      "metadata": {},
      "source": [
        "### amount"
      ]
    },
    {
      "cell_type": "code",
      "execution_count": 50,
      "metadata": {},
      "outputs": [
        {
          "data": {
            "text/html": [
              "<div>\n",
              "<style scoped>\n",
              "    .dataframe tbody tr th:only-of-type {\n",
              "        vertical-align: middle;\n",
              "    }\n",
              "\n",
              "    .dataframe tbody tr th {\n",
              "        vertical-align: top;\n",
              "    }\n",
              "\n",
              "    .dataframe thead th {\n",
              "        text-align: right;\n",
              "    }\n",
              "</style>\n",
              "<table border=\"1\" class=\"dataframe\">\n",
              "  <thead>\n",
              "    <tr style=\"text-align: right;\">\n",
              "      <th></th>\n",
              "      <th>amount</th>\n",
              "    </tr>\n",
              "  </thead>\n",
              "  <tbody>\n",
              "    <tr>\n",
              "      <th>count</th>\n",
              "      <td>594643.000000</td>\n",
              "    </tr>\n",
              "    <tr>\n",
              "      <th>mean</th>\n",
              "      <td>37.890135</td>\n",
              "    </tr>\n",
              "    <tr>\n",
              "      <th>std</th>\n",
              "      <td>111.402831</td>\n",
              "    </tr>\n",
              "    <tr>\n",
              "      <th>min</th>\n",
              "      <td>0.000000</td>\n",
              "    </tr>\n",
              "    <tr>\n",
              "      <th>25%</th>\n",
              "      <td>13.740000</td>\n",
              "    </tr>\n",
              "    <tr>\n",
              "      <th>50%</th>\n",
              "      <td>26.900000</td>\n",
              "    </tr>\n",
              "    <tr>\n",
              "      <th>75%</th>\n",
              "      <td>42.540000</td>\n",
              "    </tr>\n",
              "    <tr>\n",
              "      <th>max</th>\n",
              "      <td>8329.960000</td>\n",
              "    </tr>\n",
              "  </tbody>\n",
              "</table>\n",
              "</div>"
            ],
            "text/plain": [
              "              amount\n",
              "count  594643.000000\n",
              "mean       37.890135\n",
              "std       111.402831\n",
              "min         0.000000\n",
              "25%        13.740000\n",
              "50%        26.900000\n",
              "75%        42.540000\n",
              "max      8329.960000"
            ]
          },
          "execution_count": 50,
          "metadata": {},
          "output_type": "execute_result"
        }
      ],
      "source": [
        "dft[['amount']].describe()\n"
      ]
    },
    {
      "cell_type": "code",
      "execution_count": 51,
      "metadata": {},
      "outputs": [
        {
          "data": {
            "text/html": [
              "<div>\n",
              "<style scoped>\n",
              "    .dataframe tbody tr th:only-of-type {\n",
              "        vertical-align: middle;\n",
              "    }\n",
              "\n",
              "    .dataframe tbody tr th {\n",
              "        vertical-align: top;\n",
              "    }\n",
              "\n",
              "    .dataframe thead th {\n",
              "        text-align: right;\n",
              "    }\n",
              "</style>\n",
              "<table border=\"1\" class=\"dataframe\">\n",
              "  <thead>\n",
              "    <tr style=\"text-align: right;\">\n",
              "      <th></th>\n",
              "      <th>amount</th>\n",
              "    </tr>\n",
              "  </thead>\n",
              "  <tbody>\n",
              "    <tr>\n",
              "      <th>count</th>\n",
              "      <td>7200.000000</td>\n",
              "    </tr>\n",
              "    <tr>\n",
              "      <th>mean</th>\n",
              "      <td>530.926551</td>\n",
              "    </tr>\n",
              "    <tr>\n",
              "      <th>std</th>\n",
              "      <td>835.587112</td>\n",
              "    </tr>\n",
              "    <tr>\n",
              "      <th>min</th>\n",
              "      <td>0.030000</td>\n",
              "    </tr>\n",
              "    <tr>\n",
              "      <th>25%</th>\n",
              "      <td>159.980000</td>\n",
              "    </tr>\n",
              "    <tr>\n",
              "      <th>50%</th>\n",
              "      <td>319.175000</td>\n",
              "    </tr>\n",
              "    <tr>\n",
              "      <th>75%</th>\n",
              "      <td>548.977500</td>\n",
              "    </tr>\n",
              "    <tr>\n",
              "      <th>max</th>\n",
              "      <td>8329.960000</td>\n",
              "    </tr>\n",
              "  </tbody>\n",
              "</table>\n",
              "</div>"
            ],
            "text/plain": [
              "            amount\n",
              "count  7200.000000\n",
              "mean    530.926551\n",
              "std     835.587112\n",
              "min       0.030000\n",
              "25%     159.980000\n",
              "50%     319.175000\n",
              "75%     548.977500\n",
              "max    8329.960000"
            ]
          },
          "execution_count": 51,
          "metadata": {},
          "output_type": "execute_result"
        }
      ],
      "source": [
        "trans_fraud[['amount']].describe()\n"
      ]
    },
    {
      "cell_type": "code",
      "execution_count": 52,
      "metadata": {},
      "outputs": [],
      "source": [
        "# The higher amount the higher the likelihood of being fraud"
      ]
    },
    {
      "cell_type": "markdown",
      "metadata": {},
      "source": [
        "# Advanced EDA"
      ]
    },
    {
      "cell_type": "markdown",
      "metadata": {},
      "source": [
        "### Related cases not identified as fraud"
      ]
    },
    {
      "cell_type": "code",
      "execution_count": 53,
      "metadata": {},
      "outputs": [
        {
          "name": "stdout",
          "output_type": "stream",
          "text": [
            "10\n",
            "[Int64Index([17015], dtype='int64'), Int64Index([247317, 369060, 398912], dtype='int64'), Int64Index([], dtype='int64'), Int64Index([], dtype='int64'), Int64Index([98011], dtype='int64'), Int64Index([], dtype='int64'), Int64Index([170375, 210412], dtype='int64'), Int64Index([], dtype='int64'), Int64Index([], dtype='int64'), Int64Index([], dtype='int64')]\n"
          ]
        }
      ],
      "source": [
        "trans_benign = dft[dft['fraud'] == 0]\n",
        "\n",
        "indicators = []\n",
        "\n",
        "for i, element in enumerate( trans_fraud):\n",
        "    case = trans_fraud.iloc[i]\n",
        "    x = trans_benign[(trans_benign['merchant'] == case['merchant']) & (\n",
        "        trans_benign['customer'] == case['customer'])]\n",
        "    indicators.append(x.index)\n",
        "\n",
        "print(len(indicators))\n",
        "\n",
        "print (indicators)\n"
      ]
    },
    {
      "cell_type": "code",
      "execution_count": 54,
      "metadata": {},
      "outputs": [],
      "source": [
        "# not enough cases to be relevant"
      ]
    },
    {
      "cell_type": "markdown",
      "metadata": {},
      "source": [
        "### Cases with multiple transactions"
      ]
    },
    {
      "cell_type": "code",
      "execution_count": 55,
      "metadata": {},
      "outputs": [
        {
          "name": "stdout",
          "output_type": "stream",
          "text": [
            "10\n",
            "[Int64Index([88, 853, 3906, 37947], dtype='int64'), Int64Index([89, 245420, 357436, 432259], dtype='int64'), Int64Index([434, 53059], dtype='int64'), Int64Index([435], dtype='int64'), Int64Index([553], dtype='int64'), Int64Index([554], dtype='int64'), Int64Index([   604,   1005,   2362,   9972, 100096, 148706, 213295, 219350,\n",
            "            232730, 289310, 310188, 350137, 362736, 401290, 402421],\n",
            "           dtype='int64'), Int64Index([   605,   1004,   5536,  12128,  17660,  20461,  21918,  29605,\n",
            "             44048,  46954,  50993,  58021,  58406,  60908,  60909,  71699,\n",
            "             80850,  91297,  94326, 102764, 107053, 111507, 111594, 118670,\n",
            "            142176, 142177, 173500, 176208, 198625, 214869, 248193, 283599,\n",
            "            325489, 335847, 346585, 364248, 429699, 429700],\n",
            "           dtype='int64'), Int64Index([801], dtype='int64'), Int64Index([802, 82502], dtype='int64')]\n"
          ]
        }
      ],
      "source": [
        "indicators = []\n",
        "\n",
        "for i, element in enumerate(trans_fraud):\n",
        "    case = trans_fraud.iloc[i]\n",
        "    x = trans_fraud[(trans_fraud['merchant'] == case['merchant']) & (\n",
        "        trans_fraud['customer'] == case['customer'])]\n",
        "    indicators.append(x.index)\n",
        "\n",
        "print(len(indicators))\n",
        "\n",
        "print(indicators)\n"
      ]
    },
    {
      "cell_type": "code",
      "execution_count": 56,
      "metadata": {},
      "outputs": [],
      "source": [
        "# not enough cases to be relevant\n",
        "\n",
        "# => we can drop 'step'"
      ]
    },
    {
      "cell_type": "markdown",
      "metadata": {},
      "source": [
        "# Conclusions:"
      ]
    },
    {
      "cell_type": "code",
      "execution_count": 74,
      "metadata": {},
      "outputs": [],
      "source": [
        "# (4) Choose the label and features\n",
        "\n",
        "labelDf = dft[['fraud']].values\n",
        "# features: category, amount\n"
      ]
    },
    {
      "cell_type": "code",
      "execution_count": 58,
      "metadata": {
        "id": "qgKdodxeNbSg"
      },
      "outputs": [
        {
          "data": {
            "text/html": [
              "<div>\n",
              "<style scoped>\n",
              "    .dataframe tbody tr th:only-of-type {\n",
              "        vertical-align: middle;\n",
              "    }\n",
              "\n",
              "    .dataframe tbody tr th {\n",
              "        vertical-align: top;\n",
              "    }\n",
              "\n",
              "    .dataframe thead th {\n",
              "        text-align: right;\n",
              "    }\n",
              "</style>\n",
              "<table border=\"1\" class=\"dataframe\">\n",
              "  <thead>\n",
              "    <tr style=\"text-align: right;\">\n",
              "      <th></th>\n",
              "      <th>category</th>\n",
              "      <th>amount</th>\n",
              "      <th>fraud</th>\n",
              "    </tr>\n",
              "  </thead>\n",
              "  <tbody>\n",
              "    <tr>\n",
              "      <th>0</th>\n",
              "      <td>'es_transportation'</td>\n",
              "      <td>4.55</td>\n",
              "      <td>0</td>\n",
              "    </tr>\n",
              "    <tr>\n",
              "      <th>1</th>\n",
              "      <td>'es_transportation'</td>\n",
              "      <td>39.68</td>\n",
              "      <td>0</td>\n",
              "    </tr>\n",
              "    <tr>\n",
              "      <th>2</th>\n",
              "      <td>'es_transportation'</td>\n",
              "      <td>26.89</td>\n",
              "      <td>0</td>\n",
              "    </tr>\n",
              "    <tr>\n",
              "      <th>3</th>\n",
              "      <td>'es_transportation'</td>\n",
              "      <td>17.25</td>\n",
              "      <td>0</td>\n",
              "    </tr>\n",
              "    <tr>\n",
              "      <th>4</th>\n",
              "      <td>'es_transportation'</td>\n",
              "      <td>35.72</td>\n",
              "      <td>0</td>\n",
              "    </tr>\n",
              "  </tbody>\n",
              "</table>\n",
              "</div>"
            ],
            "text/plain": [
              "              category  amount  fraud\n",
              "0  'es_transportation'    4.55      0\n",
              "1  'es_transportation'   39.68      0\n",
              "2  'es_transportation'   26.89      0\n",
              "3  'es_transportation'   17.25      0\n",
              "4  'es_transportation'   35.72      0"
            ]
          },
          "execution_count": 58,
          "metadata": {},
          "output_type": "execute_result"
        }
      ],
      "source": [
        "# (5) Feature engineer for data that is\n",
        "# (a) relevant \n",
        "# (b) unique\n",
        "# (c) correct \n",
        "# (d) not missing\n",
        "\n",
        "irrelevantFeats = [\n",
        "    'step', # as there are only 20 repetitions\n",
        "    'customer', # well, everybody can be a victum..\n",
        "    'age',  # no obvious correllation\n",
        "    'gender',  # no obvious correllation\n",
        "    'zipMerchant', # as same for all\n",
        "    'zipcodeOri',  # as same for all\n",
        "    'merchant', # probably not a good indicator,     \n",
        "]\n",
        "\n",
        "# Drop data that is not a,b,c, or d\n",
        "dft = dft.drop(irrelevantFeats, axis=1, inplace=False)\n",
        "dft.head()\n"
      ]
    },
    {
      "cell_type": "code",
      "execution_count": 59,
      "metadata": {},
      "outputs": [],
      "source": [
        "# Use one-hot encoding for nominal"
      ]
    },
    {
      "cell_type": "code",
      "execution_count": 80,
      "metadata": {},
      "outputs": [
        {
          "data": {
            "text/html": [
              "<div>\n",
              "<style scoped>\n",
              "    .dataframe tbody tr th:only-of-type {\n",
              "        vertical-align: middle;\n",
              "    }\n",
              "\n",
              "    .dataframe tbody tr th {\n",
              "        vertical-align: top;\n",
              "    }\n",
              "\n",
              "    .dataframe thead th {\n",
              "        text-align: right;\n",
              "    }\n",
              "</style>\n",
              "<table border=\"1\" class=\"dataframe\">\n",
              "  <thead>\n",
              "    <tr style=\"text-align: right;\">\n",
              "      <th></th>\n",
              "      <th>'es_barsandrestaurants'</th>\n",
              "      <th>'es_contents'</th>\n",
              "      <th>'es_fashion'</th>\n",
              "      <th>'es_food'</th>\n",
              "      <th>'es_health'</th>\n",
              "      <th>'es_home'</th>\n",
              "      <th>'es_hotelservices'</th>\n",
              "      <th>'es_hyper'</th>\n",
              "      <th>'es_leisure'</th>\n",
              "      <th>'es_otherservices'</th>\n",
              "      <th>'es_sportsandtoys'</th>\n",
              "      <th>'es_tech'</th>\n",
              "      <th>'es_transportation'</th>\n",
              "      <th>'es_travel'</th>\n",
              "      <th>'es_wellnessandbeauty'</th>\n",
              "    </tr>\n",
              "  </thead>\n",
              "  <tbody>\n",
              "    <tr>\n",
              "      <th>0</th>\n",
              "      <td>0</td>\n",
              "      <td>0</td>\n",
              "      <td>0</td>\n",
              "      <td>0</td>\n",
              "      <td>0</td>\n",
              "      <td>0</td>\n",
              "      <td>0</td>\n",
              "      <td>0</td>\n",
              "      <td>0</td>\n",
              "      <td>0</td>\n",
              "      <td>0</td>\n",
              "      <td>0</td>\n",
              "      <td>1</td>\n",
              "      <td>0</td>\n",
              "      <td>0</td>\n",
              "    </tr>\n",
              "    <tr>\n",
              "      <th>1</th>\n",
              "      <td>0</td>\n",
              "      <td>0</td>\n",
              "      <td>0</td>\n",
              "      <td>0</td>\n",
              "      <td>0</td>\n",
              "      <td>0</td>\n",
              "      <td>0</td>\n",
              "      <td>0</td>\n",
              "      <td>0</td>\n",
              "      <td>0</td>\n",
              "      <td>0</td>\n",
              "      <td>0</td>\n",
              "      <td>1</td>\n",
              "      <td>0</td>\n",
              "      <td>0</td>\n",
              "    </tr>\n",
              "    <tr>\n",
              "      <th>2</th>\n",
              "      <td>0</td>\n",
              "      <td>0</td>\n",
              "      <td>0</td>\n",
              "      <td>0</td>\n",
              "      <td>0</td>\n",
              "      <td>0</td>\n",
              "      <td>0</td>\n",
              "      <td>0</td>\n",
              "      <td>0</td>\n",
              "      <td>0</td>\n",
              "      <td>0</td>\n",
              "      <td>0</td>\n",
              "      <td>1</td>\n",
              "      <td>0</td>\n",
              "      <td>0</td>\n",
              "    </tr>\n",
              "    <tr>\n",
              "      <th>3</th>\n",
              "      <td>0</td>\n",
              "      <td>0</td>\n",
              "      <td>0</td>\n",
              "      <td>0</td>\n",
              "      <td>0</td>\n",
              "      <td>0</td>\n",
              "      <td>0</td>\n",
              "      <td>0</td>\n",
              "      <td>0</td>\n",
              "      <td>0</td>\n",
              "      <td>0</td>\n",
              "      <td>0</td>\n",
              "      <td>1</td>\n",
              "      <td>0</td>\n",
              "      <td>0</td>\n",
              "    </tr>\n",
              "    <tr>\n",
              "      <th>4</th>\n",
              "      <td>0</td>\n",
              "      <td>0</td>\n",
              "      <td>0</td>\n",
              "      <td>0</td>\n",
              "      <td>0</td>\n",
              "      <td>0</td>\n",
              "      <td>0</td>\n",
              "      <td>0</td>\n",
              "      <td>0</td>\n",
              "      <td>0</td>\n",
              "      <td>0</td>\n",
              "      <td>0</td>\n",
              "      <td>1</td>\n",
              "      <td>0</td>\n",
              "      <td>0</td>\n",
              "    </tr>\n",
              "  </tbody>\n",
              "</table>\n",
              "</div>"
            ],
            "text/plain": [
              "   'es_barsandrestaurants'  'es_contents'  'es_fashion'  'es_food'  \\\n",
              "0                        0              0             0          0   \n",
              "1                        0              0             0          0   \n",
              "2                        0              0             0          0   \n",
              "3                        0              0             0          0   \n",
              "4                        0              0             0          0   \n",
              "\n",
              "   'es_health'  'es_home'  'es_hotelservices'  'es_hyper'  'es_leisure'  \\\n",
              "0            0          0                   0           0             0   \n",
              "1            0          0                   0           0             0   \n",
              "2            0          0                   0           0             0   \n",
              "3            0          0                   0           0             0   \n",
              "4            0          0                   0           0             0   \n",
              "\n",
              "   'es_otherservices'  'es_sportsandtoys'  'es_tech'  'es_transportation'  \\\n",
              "0                   0                   0          0                    1   \n",
              "1                   0                   0          0                    1   \n",
              "2                   0                   0          0                    1   \n",
              "3                   0                   0          0                    1   \n",
              "4                   0                   0          0                    1   \n",
              "\n",
              "   'es_travel'  'es_wellnessandbeauty'  \n",
              "0            0                       0  \n",
              "1            0                       0  \n",
              "2            0                       0  \n",
              "3            0                       0  \n",
              "4            0                       0  "
            ]
          },
          "execution_count": 80,
          "metadata": {},
          "output_type": "execute_result"
        }
      ],
      "source": [
        "# => one-hot encoding for category\n",
        "categories = pd.get_dummies(dft.category)\n",
        "categories.head()\n"
      ]
    },
    {
      "cell_type": "code",
      "execution_count": 81,
      "metadata": {},
      "outputs": [
        {
          "data": {
            "text/html": [
              "<div>\n",
              "<style scoped>\n",
              "    .dataframe tbody tr th:only-of-type {\n",
              "        vertical-align: middle;\n",
              "    }\n",
              "\n",
              "    .dataframe tbody tr th {\n",
              "        vertical-align: top;\n",
              "    }\n",
              "\n",
              "    .dataframe thead th {\n",
              "        text-align: right;\n",
              "    }\n",
              "</style>\n",
              "<table border=\"1\" class=\"dataframe\">\n",
              "  <thead>\n",
              "    <tr style=\"text-align: right;\">\n",
              "      <th></th>\n",
              "      <th>amount</th>\n",
              "      <th>fraud</th>\n",
              "      <th>'es_barsandrestaurants'</th>\n",
              "      <th>'es_contents'</th>\n",
              "      <th>'es_fashion'</th>\n",
              "      <th>'es_food'</th>\n",
              "      <th>'es_health'</th>\n",
              "      <th>'es_home'</th>\n",
              "      <th>'es_hotelservices'</th>\n",
              "      <th>'es_hyper'</th>\n",
              "      <th>'es_leisure'</th>\n",
              "      <th>'es_otherservices'</th>\n",
              "      <th>'es_sportsandtoys'</th>\n",
              "      <th>'es_tech'</th>\n",
              "      <th>'es_transportation'</th>\n",
              "      <th>'es_travel'</th>\n",
              "      <th>'es_wellnessandbeauty'</th>\n",
              "    </tr>\n",
              "  </thead>\n",
              "  <tbody>\n",
              "    <tr>\n",
              "      <th>0</th>\n",
              "      <td>4.55</td>\n",
              "      <td>0</td>\n",
              "      <td>0</td>\n",
              "      <td>0</td>\n",
              "      <td>0</td>\n",
              "      <td>0</td>\n",
              "      <td>0</td>\n",
              "      <td>0</td>\n",
              "      <td>0</td>\n",
              "      <td>0</td>\n",
              "      <td>0</td>\n",
              "      <td>0</td>\n",
              "      <td>0</td>\n",
              "      <td>0</td>\n",
              "      <td>1</td>\n",
              "      <td>0</td>\n",
              "      <td>0</td>\n",
              "    </tr>\n",
              "    <tr>\n",
              "      <th>1</th>\n",
              "      <td>39.68</td>\n",
              "      <td>0</td>\n",
              "      <td>0</td>\n",
              "      <td>0</td>\n",
              "      <td>0</td>\n",
              "      <td>0</td>\n",
              "      <td>0</td>\n",
              "      <td>0</td>\n",
              "      <td>0</td>\n",
              "      <td>0</td>\n",
              "      <td>0</td>\n",
              "      <td>0</td>\n",
              "      <td>0</td>\n",
              "      <td>0</td>\n",
              "      <td>1</td>\n",
              "      <td>0</td>\n",
              "      <td>0</td>\n",
              "    </tr>\n",
              "    <tr>\n",
              "      <th>2</th>\n",
              "      <td>26.89</td>\n",
              "      <td>0</td>\n",
              "      <td>0</td>\n",
              "      <td>0</td>\n",
              "      <td>0</td>\n",
              "      <td>0</td>\n",
              "      <td>0</td>\n",
              "      <td>0</td>\n",
              "      <td>0</td>\n",
              "      <td>0</td>\n",
              "      <td>0</td>\n",
              "      <td>0</td>\n",
              "      <td>0</td>\n",
              "      <td>0</td>\n",
              "      <td>1</td>\n",
              "      <td>0</td>\n",
              "      <td>0</td>\n",
              "    </tr>\n",
              "    <tr>\n",
              "      <th>3</th>\n",
              "      <td>17.25</td>\n",
              "      <td>0</td>\n",
              "      <td>0</td>\n",
              "      <td>0</td>\n",
              "      <td>0</td>\n",
              "      <td>0</td>\n",
              "      <td>0</td>\n",
              "      <td>0</td>\n",
              "      <td>0</td>\n",
              "      <td>0</td>\n",
              "      <td>0</td>\n",
              "      <td>0</td>\n",
              "      <td>0</td>\n",
              "      <td>0</td>\n",
              "      <td>1</td>\n",
              "      <td>0</td>\n",
              "      <td>0</td>\n",
              "    </tr>\n",
              "    <tr>\n",
              "      <th>4</th>\n",
              "      <td>35.72</td>\n",
              "      <td>0</td>\n",
              "      <td>0</td>\n",
              "      <td>0</td>\n",
              "      <td>0</td>\n",
              "      <td>0</td>\n",
              "      <td>0</td>\n",
              "      <td>0</td>\n",
              "      <td>0</td>\n",
              "      <td>0</td>\n",
              "      <td>0</td>\n",
              "      <td>0</td>\n",
              "      <td>0</td>\n",
              "      <td>0</td>\n",
              "      <td>1</td>\n",
              "      <td>0</td>\n",
              "      <td>0</td>\n",
              "    </tr>\n",
              "  </tbody>\n",
              "</table>\n",
              "</div>"
            ],
            "text/plain": [
              "   amount  fraud  'es_barsandrestaurants'  'es_contents'  'es_fashion'  \\\n",
              "0    4.55      0                        0              0             0   \n",
              "1   39.68      0                        0              0             0   \n",
              "2   26.89      0                        0              0             0   \n",
              "3   17.25      0                        0              0             0   \n",
              "4   35.72      0                        0              0             0   \n",
              "\n",
              "   'es_food'  'es_health'  'es_home'  'es_hotelservices'  'es_hyper'  \\\n",
              "0          0            0          0                   0           0   \n",
              "1          0            0          0                   0           0   \n",
              "2          0            0          0                   0           0   \n",
              "3          0            0          0                   0           0   \n",
              "4          0            0          0                   0           0   \n",
              "\n",
              "   'es_leisure'  'es_otherservices'  'es_sportsandtoys'  'es_tech'  \\\n",
              "0             0                   0                   0          0   \n",
              "1             0                   0                   0          0   \n",
              "2             0                   0                   0          0   \n",
              "3             0                   0                   0          0   \n",
              "4             0                   0                   0          0   \n",
              "\n",
              "   'es_transportation'  'es_travel'  'es_wellnessandbeauty'  \n",
              "0                    1            0                       0  \n",
              "1                    1            0                       0  \n",
              "2                    1            0                       0  \n",
              "3                    1            0                       0  \n",
              "4                    1            0                       0  "
            ]
          },
          "execution_count": 81,
          "metadata": {},
          "output_type": "execute_result"
        }
      ],
      "source": [
        "dft_data = dft.join(categories).drop('category', axis=1)\n",
        "dft_data.head()\n"
      ]
    },
    {
      "cell_type": "code",
      "execution_count": 82,
      "metadata": {},
      "outputs": [],
      "source": [
        "# Set features:\n",
        "featuresDf = dft_data.drop(['fraud'], axis=1, inplace=False).values\n"
      ]
    },
    {
      "cell_type": "code",
      "execution_count": 63,
      "metadata": {},
      "outputs": [],
      "source": [
        "\n",
        "# Reduce dimensions of your features\n",
        "\n",
        "# done above"
      ]
    },
    {
      "cell_type": "code",
      "execution_count": 64,
      "metadata": {
        "id": "qQUJ5CbjNbSg"
      },
      "outputs": [],
      "source": [
        "# (6) Confirm data is ready with further exploratory analysis"
      ]
    },
    {
      "cell_type": "code",
      "execution_count": 84,
      "metadata": {
        "id": "b6iXRi3DNbSh"
      },
      "outputs": [],
      "source": [
        "# (7) Training, Testing (and/or Validation) data split \n",
        "\n",
        "# for example, 60/20/20\n",
        "\n",
        "# Training we have 60% and 40% for test\n",
        "trainF, testF, trainL, testL = train_test_split(\n",
        "    featuresDf, labelDf, test_size=0.4, random_state=42)\n",
        "\n",
        "# Divide the test into two parts: 50% for test and 50% for validation\n",
        "testF, valF, testL, valL = train_test_split(\n",
        "    testF, testL, test_size=0.5, random_state=42)\n"
      ]
    },
    {
      "cell_type": "code",
      "execution_count": 66,
      "metadata": {
        "id": "dQeJh0J5NbSh"
      },
      "outputs": [],
      "source": [
        "# (7.b) If using Deep Learning, building the model\n",
        "\n",
        "# Add Input Layer\n",
        "# Add Hidden Layers\n",
        "# Add Output"
      ]
    },
    {
      "cell_type": "code",
      "execution_count": 67,
      "metadata": {
        "id": "Yg1qe2-3NbSi"
      },
      "outputs": [],
      "source": [
        "# (8) Training the Machine Learning Model (i.e, Fitting the Model)"
      ]
    },
    {
      "cell_type": "code",
      "execution_count": 68,
      "metadata": {
        "id": "oeeZqh7YNbSj"
      },
      "outputs": [],
      "source": [
        "# (9) Evaluate the model metrics for Training (and/or Validation) data"
      ]
    },
    {
      "cell_type": "code",
      "execution_count": 69,
      "metadata": {
        "id": "aSK7W4-ZNbSk"
      },
      "outputs": [],
      "source": [
        "# (10) Evaluate the model metris for Testing data\n",
        "\n",
        "\n",
        "# If metrics are poor, optimize either (a) the data, (b) the hyperpamaters"
      ]
    },
    {
      "cell_type": "code",
      "execution_count": 70,
      "metadata": {
        "id": "2nKxnZfqNbSk"
      },
      "outputs": [],
      "source": [
        "# (11) Use the model for prediction"
      ]
    },
    {
      "cell_type": "code",
      "execution_count": 71,
      "metadata": {
        "id": "dEcPvK3PNbSk"
      },
      "outputs": [],
      "source": [
        "# (12) Write final predicted data  (e.g, to CSV or JSON, etc.)"
      ]
    }
  ],
  "metadata": {
    "colab": {
      "name": "option-c-guide.ipynb",
      "provenance": []
    },
    "interpreter": {
      "hash": "aee8b7b246df8f9039afb4144a1f6fd8d2ca17a180786b69acc140d282b71a49"
    },
    "kernelspec": {
      "display_name": "Python 3.9.7 64-bit",
      "name": "python3"
    },
    "language_info": {
      "codemirror_mode": {
        "name": "ipython",
        "version": 3
      },
      "file_extension": ".py",
      "mimetype": "text/x-python",
      "name": "python",
      "nbconvert_exporter": "python",
      "pygments_lexer": "ipython3",
      "version": "3.9.7"
    },
    "orig_nbformat": 2
  },
  "nbformat": 4,
  "nbformat_minor": 2
}