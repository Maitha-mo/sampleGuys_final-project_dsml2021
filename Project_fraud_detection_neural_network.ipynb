{
  "nbformat": 4,
  "nbformat_minor": 0,
  "metadata": {
    "orig_nbformat": 4,
    "language_info": {
      "name": "python",
      "version": "3.9.7",
      "mimetype": "text/x-python",
      "codemirror_mode": {
        "name": "ipython",
        "version": 3
      },
      "pygments_lexer": "ipython3",
      "nbconvert_exporter": "python",
      "file_extension": ".py"
    },
    "kernelspec": {
      "name": "python3",
      "display_name": "Python 3.9.7 64-bit"
    },
    "interpreter": {
      "hash": "aee8b7b246df8f9039afb4144a1f6fd8d2ca17a180786b69acc140d282b71a49"
    },
    "colab": {
      "name": "Project_fraud-detection_neural-network.ipynb",
      "provenance": []
    }
  },
  "cells": [
    {
      "cell_type": "markdown",
      "metadata": {
        "id": "zrSTbU5APaGv"
      },
      "source": [
        "## Import Libraries"
      ]
    },
    {
      "cell_type": "code",
      "metadata": {
        "id": "5QhEw8BPPaG0"
      },
      "source": [
        "import pandas as pd\n",
        "\n",
        "# Sequential will be used to create the three layers of neural networks:\n",
        "# layers of neural networks:\n",
        "# (1) Input Layer, (2) Hidden Layers and (3) Output Layer\n",
        "from keras.models import Sequential\n",
        "\n",
        "# Use '*' to import all the three types of layers\n",
        "from keras.layers import *\n",
        "from sklearn.model_selection import train_test_split"
      ],
      "execution_count": null,
      "outputs": []
    },
    {
      "cell_type": "code",
      "metadata": {
        "id": "aCB7fAP9PaG3"
      },
      "source": [
        "features = pd.read_csv('./test_features.csv')\n",
        "labels = pd.read_csv('./test_labels.csv')"
      ],
      "execution_count": 30,
      "outputs": []
    },
    {
      "cell_type": "code",
      "metadata": {
        "id": "Hqkw1tvaSs7M"
      },
      "source": [
        "dimensions = len(features.columns)"
      ],
      "execution_count": 31,
      "outputs": []
    },
    {
      "cell_type": "markdown",
      "metadata": {
        "id": "tX0CWDUUVXkS"
      },
      "source": [
        "# Neural network for Deep Learning Model"
      ]
    },
    {
      "cell_type": "code",
      "metadata": {
        "id": "eTS0untvSvFI"
      },
      "source": [
        "# Instantiate the Sequential class\n",
        "modelDL = Sequential()\n",
        "\n",
        "# Add the Input Layer\n",
        "# Note:\n",
        "# Dense: is the neural network architecture type\n",
        "# input_dim: is the number of features\n",
        "# activation: is the activation function ReLU (Rectified Linear Unit)\n",
        "modelDL.add( Dense(50, input_dim=dimensions, activation='relu') )\n",
        "\n",
        "# Add the Hidden Layers\n",
        "modelDL.add( Dense(100, activation='relu') )\n",
        "modelDL.add( Dense(50, activation='relu') )\n",
        "\n",
        "# Add the Output Layer\n",
        "modelDL.add( Dense(1, activation='linear') )\n",
        "\n",
        "# Compile the Deep Learning model\n",
        "modelDL.compile(loss='mean_squared_error', optimizer='adam')"
      ],
      "execution_count": 32,
      "outputs": []
    },
    {
      "cell_type": "code",
      "metadata": {
        "colab": {
          "base_uri": "https://localhost:8080/"
        },
        "id": "4vySs8BOVmpv",
        "outputId": "ecdba4b5-108f-430b-de40-508c6be8a3ca"
      },
      "source": [
        "# Note:\n",
        "# features is the array of explanatory (random) variables\n",
        "# label is the array of response (random) variable\n",
        "# epochs is the number of times to feed the entire data to the model\n",
        "# shuffle will randomize the features\n",
        "# verbose will control the logging of TensorFlow\n",
        "modelDL.fit( features, labels, epochs=3, shuffle=True, verbose=20)"
      ],
      "execution_count": 33,
      "outputs": [
        {
          "output_type": "stream",
          "name": "stdout",
          "text": [
            "Epoch 1/3\n",
            "Epoch 2/3\n",
            "Epoch 3/3\n"
          ]
        },
        {
          "output_type": "execute_result",
          "data": {
            "text/plain": [
              "<keras.callbacks.History at 0x7f81eccd2250>"
            ]
          },
          "metadata": {},
          "execution_count": 33
        }
      ]
    },
    {
      "cell_type": "code",
      "metadata": {
        "id": "BRhY_lKyfzEh"
      },
      "source": [
        "features_test = pd.read_csv('./test_features.csv')\n",
        "labels_test = pd.read_csv('./test_labels.csv')\n",
        "\n",
        "predictions = modelDL.predict(features_test)"
      ],
      "execution_count": 34,
      "outputs": []
    },
    {
      "cell_type": "code",
      "metadata": {
        "colab": {
          "base_uri": "https://localhost:8080/"
        },
        "id": "obLY6cKXgY-W",
        "outputId": "c25644fd-e071-45cc-d84e-cf0c5cd330ad"
      },
      "source": [
        "print(predictions.max())\n",
        "print(predictions.min())"
      ],
      "execution_count": 35,
      "outputs": [
        {
          "output_type": "stream",
          "name": "stdout",
          "text": [
            "4.5693865\n",
            "-0.052263863\n"
          ]
        }
      ]
    },
    {
      "cell_type": "code",
      "metadata": {
        "colab": {
          "base_uri": "https://localhost:8080/"
        },
        "id": "v0eilJ2-ghSR",
        "outputId": "2d083f07-b8c9-4d6d-afb6-88c3721d8b2a"
      },
      "source": [
        "certainty_param = 0.2\n",
        "\n",
        "likelyFraud = []\n",
        "actuallyFraud = []\n",
        "test = predictions[:5]\n",
        "for index, prediction in enumerate(predictions):\n",
        "  if prediction > certainty_param:\n",
        "    likelyFraud.append(prediction)\n",
        "    if (labels_test.loc[index] == 1).bool():\n",
        "      actuallyFraud.append(prediction)\n",
        "\n",
        "print( 'Total Fraud Cases: {}'.format(len(predictions)))\n",
        "print( 'Likely Fraud: {}'.format( len( likelyFraud) ) )\n",
        "print( 'Actual Fraud: {}'.format( len( actuallyFraud) ))\n",
        "\n",
        "detection = len( actuallyFraud) / len( predictions)*100\n",
        "accuracy = len( actuallyFraud) / len( likelyFraud)*100\n",
        "print ('This model is able to predict {} % of fraud with an accuracy of {}%'.format(detection, accuracy))\n"
      ],
      "execution_count": 36,
      "outputs": [
        {
          "output_type": "stream",
          "name": "stdout",
          "text": [
            "Total Fraud Cases: 118929\n",
            "Likely Fraud: 1692\n",
            "Actual Fraud: 1134\n",
            "This model is able to predict 0.9535100774411625 % of fraud with an accuracy of 67.02127659574468%\n"
          ]
        }
      ]
    }
  ]
}