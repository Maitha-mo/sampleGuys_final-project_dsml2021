{
  "nbformat": 4,
  "nbformat_minor": 0,
  "metadata": {
    "colab": {
      "name": "colab_ML.ipynb",
      "provenance": [],
      "collapsed_sections": [],
      "authorship_tag": "ABX9TyNI2oA05/z+4yczEH1qYA3/",
      "include_colab_link": true
    },
    "kernelspec": {
      "name": "python3",
      "display_name": "Python 3"
    },
    "language_info": {
      "name": "python"
    }
  },
  "cells": [
    {
      "cell_type": "markdown",
      "metadata": {
        "id": "view-in-github",
        "colab_type": "text"
      },
      "source": [
        "<a href=\"https://colab.research.google.com/github/maitha065/sampleGuys_final-project_dsml2021/blob/main/colab_ML.ipynb\" target=\"_parent\"><img src=\"https://colab.research.google.com/assets/colab-badge.svg\" alt=\"Open In Colab\"/></a>"
      ]
    },
    {
      "cell_type": "markdown",
      "metadata": {
        "id": "nl3CSM_vTdRQ"
      },
      "source": [
        "# Let's do some ML   <= to be improved   ;-)"
      ]
    },
    {
      "cell_type": "markdown",
      "metadata": {
        "id": "YilXJInHiwkO"
      },
      "source": [
        "### Unzip Files"
      ]
    },
    {
      "cell_type": "code",
      "metadata": {
        "colab": {
          "base_uri": "https://localhost:8080/"
        },
        "id": "Qmpe-PgTNQyM",
        "outputId": "70fd1604-5087-424f-80a7-0eb0e2881bb4"
      },
      "source": [
        "!unzip csv_collection.zip"
      ],
      "execution_count": 4,
      "outputs": [
        {
          "output_type": "stream",
          "name": "stdout",
          "text": [
            "Archive:  csv_collection.zip\n",
            "  inflating: train_features.csv      \n",
            "  inflating: train_labels.csv        \n",
            "  inflating: validation_features.csv  \n",
            "  inflating: validation_labels.csv   \n",
            "  inflating: test_features.csv       \n",
            "  inflating: test_labels.csv         \n"
          ]
        }
      ]
    },
    {
      "cell_type": "markdown",
      "metadata": {
        "id": "qbfX220lkROp"
      },
      "source": [
        "### Import Libraries"
      ]
    },
    {
      "cell_type": "code",
      "metadata": {
        "id": "gCghO2-okQZU"
      },
      "source": [
        "import pandas as pd\n",
        "\n",
        "# Sequential will be used to create the three\n",
        "# layers of neural networks: \n",
        "# (1) Input Layer, (2) Hiddens Layers, and (3) Output Layer\n",
        "from keras.models import Sequential\n",
        "\n",
        "# Use '*' to import all three types of layers\n",
        "from keras.layers import *\n",
        "from sklearn.model_selection import train_test_split"
      ],
      "execution_count": null,
      "outputs": []
    }
  ]
}