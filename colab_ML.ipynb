{
  "nbformat": 4,
  "nbformat_minor": 0,
  "metadata": {
    "colab": {
      "name": "colab_ML.ipynb",
      "provenance": [],
      "collapsed_sections": [],
      "include_colab_link": true
    },
    "kernelspec": {
      "name": "python3",
      "display_name": "Python 3"
    },
    "language_info": {
      "name": "python"
    }
  },
  "cells": [
    {
      "cell_type": "markdown",
      "metadata": {
        "id": "view-in-github",
        "colab_type": "text"
      },
      "source": [
        "<a href=\"https://colab.research.google.com/github/maitha065/sampleGuys_final-project_dsml2021/blob/Maitha/colab_ML.ipynb\" target=\"_parent\"><img src=\"https://colab.research.google.com/assets/colab-badge.svg\" alt=\"Open In Colab\"/></a>"
      ]
    },
    {
      "cell_type": "markdown",
      "metadata": {
        "id": "nl3CSM_vTdRQ"
      },
      "source": [
        "# Let's do some ML   <= to be improved   ;-)"
      ]
    },
    {
      "cell_type": "markdown",
      "metadata": {
        "id": "qbfX220lkROp"
      },
      "source": [
        "### Import Libraries"
      ]
    },
    {
      "cell_type": "code",
      "metadata": {
        "id": "gCghO2-okQZU"
      },
      "source": [
        "import pandas as pd\n",
        "\n",
        "# Sequential will be used to create the three\n",
        "# layers of neural networks: \n",
        "# (1) Input Layer, (2) Hiddens Layers, and (3) Output Layer\n",
        "from keras.models import Sequential\n",
        "\n",
        "# Use '*' to import all three types of layers\n",
        "from keras.layers import *\n",
        "from sklearn.model_selection import train_test_split"
      ],
      "execution_count": 2,
      "outputs": []
    },
    {
      "cell_type": "code",
      "metadata": {
        "id": "wkcfgMlH8eMd"
      },
      "source": [
        "# from google.colab import drive\n",
        "# drive.mount('/content/drive')"
      ],
      "execution_count": 1,
      "outputs": []
    },
    {
      "cell_type": "markdown",
      "metadata": {
        "id": "YilXJInHiwkO"
      },
      "source": [
        "### Unzip Files"
      ]
    },
    {
      "cell_type": "code",
      "metadata": {
        "colab": {
          "base_uri": "https://localhost:8080/",
          "height": 0
        },
        "id": "Qmpe-PgTNQyM",
        "outputId": "29fa6656-81de-4e3b-9dc5-935ac9f8a2ed"
      },
      "source": [
        "y!unzip csv_collection.zip"
      ],
      "execution_count": 5,
      "outputs": [
        {
          "output_type": "stream",
          "name": "stdout",
          "text": [
            "Archive:  csv_collection.zip\n",
            "replace train_features.csv? [y]es, [n]o, [A]ll, [N]one, [r]ename: y\n",
            "  inflating: train_features.csv      \n",
            "replace train_labels.csv? [y]es, [n]o, [A]ll, [N]one, [r]ename: yes\n",
            "  inflating: train_labels.csv        \n",
            "replace validation_features.csv? [y]es, [n]o, [A]ll, [N]one, [r]ename: y\n",
            "  inflating: validation_features.csv  \n",
            "replace validation_labels.csv? [y]es, [n]o, [A]ll, [N]one, [r]ename: y\n",
            "  inflating: validation_labels.csv   \n",
            "replace test_features.csv? [y]es, [n]o, [A]ll, [N]one, [r]ename: y\n",
            "  inflating: test_features.csv       \n",
            "replace test_labels.csv? [y]es, [n]o, [A]ll, [N]one, [r]ename: y\n",
            "  inflating: test_labels.csv         \n"
          ]
        }
      ]
    },
    {
      "cell_type": "code",
      "metadata": {
        "id": "HsUkVHyB11hv"
      },
      "source": [
        "features = pd.read_csv('./train_features.csv')\n",
        "labels = pd.read_csv('./train_labels.csv')"
      ],
      "execution_count": 6,
      "outputs": []
    },
    {
      "cell_type": "code",
      "metadata": {
        "id": "dj9HBSQm9iFV"
      },
      "source": [
        "dimensions = len(features.columns)"
      ],
      "execution_count": 7,
      "outputs": []
    },
    {
      "cell_type": "markdown",
      "metadata": {
        "id": "jnom90v33H72"
      },
      "source": [
        "### Build Neural Network for DL"
      ]
    },
    {
      "cell_type": "code",
      "metadata": {
        "id": "n9GSgWWW2isC"
      },
      "source": [
        "# Instantiate the Sequential class\n",
        "modelDL = Sequential()\n",
        "\n",
        "# Add the Input Layer\n",
        "# Note:\n",
        "# Dense: is the neural network architecture type\n",
        "# input_dim: is the number of features\n",
        "# activation: is the activation function ReLU (Rectified Linear Unit)\n",
        "modelDL.add( Dense(50, input_dim=dimensions, activation='relu') )\n",
        "\n",
        "# Add the Hidden Layers\n",
        "modelDL.add( Dense(100, activation='relu') )\n",
        "modelDL.add( Dense(50, activation='relu') )\n",
        "\n",
        "# Add the Output Layer\n",
        "modelDL.add( Dense(1, activation='linear') )\n",
        "\n",
        "# Compile the Deep Learning model\n",
        "modelDL.compile(loss='mean_squared_error', optimizer='adam')"
      ],
      "execution_count": 8,
      "outputs": []
    },
    {
      "cell_type": "code",
      "metadata": {
        "colab": {
          "base_uri": "https://localhost:8080/"
        },
        "id": "OIVTndqw47X4",
        "outputId": "11b672cd-0db0-4d8c-dc58-11a44e643ff1"
      },
      "source": [
        "# Note:\n",
        "# features is the array of explanatory (random) variables\n",
        "# label is the array of response (random) variable\n",
        "# epochs is the number of times to feed the entire data to the model\n",
        "# shuffle will randomize the features\n",
        "# verbose will control the logging of TensorFlow\n",
        "modelDL.fit( features, labels, epochs=2, shuffle=True, verbose=20)"
      ],
      "execution_count": 38,
      "outputs": [
        {
          "output_type": "stream",
          "name": "stdout",
          "text": [
            "Epoch 1/2\n",
            "Epoch 2/2\n"
          ]
        },
        {
          "output_type": "execute_result",
          "data": {
            "text/plain": [
              "<keras.callbacks.History at 0x7fc3bf7b3d90>"
            ]
          },
          "metadata": {},
          "execution_count": 38
        }
      ]
    },
    {
      "cell_type": "code",
      "metadata": {
        "id": "gRjXbJgS_DD8"
      },
      "source": [
        "features_test = pd.read_csv('./test_features.csv')\n",
        "labels_test = pd.read_csv('./test_labels.csv')\n",
        "\n",
        "predictions = modelDL.predict(features_test)"
      ],
      "execution_count": 39,
      "outputs": []
    },
    {
      "cell_type": "code",
      "metadata": {
        "colab": {
          "base_uri": "https://localhost:8080/"
        },
        "id": "L2-29UOkDqUp",
        "outputId": "047a2395-7e26-4d48-db66-38038b28af25"
      },
      "source": [
        "print(predictions.max())\n",
        "print(predictions.min())"
      ],
      "execution_count": 41,
      "outputs": [
        {
          "output_type": "stream",
          "name": "stdout",
          "text": [
            "0.95189726\n",
            "-0.08031106\n"
          ]
        }
      ]
    },
    {
      "cell_type": "code",
      "metadata": {
        "colab": {
          "base_uri": "https://localhost:8080/"
        },
        "id": "fJTmayuXBf8z",
        "outputId": "5c9c9142-90b0-4572-d632-aec511e9a615"
      },
      "source": [
        "certainty_param = 0.2\n",
        "\n",
        "likelyFraud = []\n",
        "actuallyFraud = []\n",
        "test = predictions[:5]\n",
        "for index, prediction in enumerate(predictions):\n",
        "  if prediction > certainty_param:\n",
        "    likelyFraud.append(prediction)\n",
        "    if (labels_test.loc[index] == 1).bool():\n",
        "      actuallyFraud.append(prediction)\n",
        "\n",
        "print( 'Total Fraud Cases: {}'.format(len(predictions)))\n",
        "print( 'Likely Fraud: {}'.format( len( likelyFraud) ) )\n",
        "print( 'Actual Fraud: {}'.format( len( actuallyFraud) ))\n",
        "\n",
        "detection = len( actuallyFraud) / len( predictions)*100\n",
        "accuracy = len( actuallyFraud) / len( likelyFraud)*100\n",
        "print ('This model is able to predict {} % of fraud with an accuracy of {}%'.format(detection, accuracy))"
      ],
      "execution_count": 43,
      "outputs": [
        {
          "output_type": "stream",
          "name": "stdout",
          "text": [
            "Total Fraud Cases: 118929\n",
            "Likely Fraud: 1522\n",
            "Actual Fraud: 1052\n",
            "This model is able to predict 0.8845613769559989 % of fraud with an accuracy of 69.11957950065704%\n"
          ]
        }
      ]
    },
    {
      "cell_type": "code",
      "metadata": {
        "id": "LNyDzMg8GYcG"
      },
      "source": [
        "# I dont think this is good."
      ],
      "execution_count": null,
      "outputs": []
    }
  ]
}