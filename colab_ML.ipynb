{
  "nbformat": 4,
  "nbformat_minor": 0,
  "metadata": {
    "colab": {
      "name": "colab_ML.ipynb",
      "provenance": [],
      "collapsed_sections": [],
      "authorship_tag": "ABX9TyOGOhGXQzPVga05/l9DBpDV",
      "include_colab_link": true
    },
    "kernelspec": {
      "name": "python3",
      "display_name": "Python 3"
    },
    "language_info": {
      "name": "python"
    }
  },
  "cells": [
    {
      "cell_type": "markdown",
      "metadata": {
        "id": "view-in-github",
        "colab_type": "text"
      },
      "source": [
        "<a href=\"https://colab.research.google.com/github/maitha065/sampleGuys_final-project_dsml2021/blob/main/colab_ML.ipynb\" target=\"_parent\"><img src=\"https://colab.research.google.com/assets/colab-badge.svg\" alt=\"Open In Colab\"/></a>"
      ]
    },
    {
      "cell_type": "markdown",
      "metadata": {
        "id": "nl3CSM_vTdRQ"
      },
      "source": [
        "# Let's do some ML   <= to be improved   ;-)"
      ]
    },
    {
      "cell_type": "markdown",
      "metadata": {
        "id": "qbfX220lkROp"
      },
      "source": [
        "### Import Libraries"
      ]
    },
    {
      "cell_type": "code",
      "metadata": {
        "id": "gCghO2-okQZU"
      },
      "source": [
        "import pandas as pd\n",
        "\n",
        "# Sequential will be used to create the three\n",
        "# layers of neural networks: \n",
        "# (1) Input Layer, (2) Hiddens Layers, and (3) Output Layer\n",
        "from keras.models import Sequential\n",
        "\n",
        "# Use '*' to import all three types of layers\n",
        "from keras.layers import *\n",
        "from sklearn.model_selection import train_test_split"
      ],
      "execution_count": 3,
      "outputs": []
    },
    {
      "cell_type": "code",
      "metadata": {
        "id": "wkcfgMlH8eMd"
      },
      "source": [
        "# from google.colab import drive\n",
        "# drive.mount('/content/drive')"
      ],
      "execution_count": null,
      "outputs": []
    },
    {
      "cell_type": "markdown",
      "metadata": {
        "id": "YilXJInHiwkO"
      },
      "source": [
        "### Unzip Files"
      ]
    },
    {
      "cell_type": "code",
      "metadata": {
        "colab": {
          "base_uri": "https://localhost:8080/"
        },
        "id": "Qmpe-PgTNQyM",
        "outputId": "5397b665-2e9e-4511-e884-5a02f7786415"
      },
      "source": [
        "!unzip csv_collection.zip"
      ],
      "execution_count": 14,
      "outputs": [
        {
          "output_type": "stream",
          "name": "stdout",
          "text": [
            "Archive:  csv_collection.zip\n",
            "  inflating: train_features.csv      \n",
            "  inflating: train_labels.csv        \n",
            "  inflating: validation_features.csv  \n",
            "  inflating: validation_labels.csv   \n",
            "  inflating: test_features.csv       \n",
            "  inflating: test_labels.csv         \n"
          ]
        }
      ]
    },
    {
      "cell_type": "code",
      "metadata": {
        "id": "HsUkVHyB11hv"
      },
      "source": [
        "features = pd.read_csv('./train_features.csv')\n",
        "labels = pd.read_csv('./train_labels.csv')"
      ],
      "execution_count": 15,
      "outputs": []
    },
    {
      "cell_type": "code",
      "metadata": {
        "id": "dj9HBSQm9iFV"
      },
      "source": [
        "dimensions = len(features.columns)"
      ],
      "execution_count": 25,
      "outputs": []
    },
    {
      "cell_type": "markdown",
      "metadata": {
        "id": "jnom90v33H72"
      },
      "source": [
        "### Build Neural Network for DL"
      ]
    },
    {
      "cell_type": "code",
      "metadata": {
        "id": "n9GSgWWW2isC"
      },
      "source": [
        "# Instantiate the Sequential class\n",
        "modelDL = Sequential()\n",
        "\n",
        "# Add the Input Layer\n",
        "# Note:\n",
        "# Dense: is the neural network architecture type\n",
        "# input_dim: is the number of features\n",
        "# activation: is the activation function ReLU (Rectified Linear Unit)\n",
        "modelDL.add( Dense(50, input_dim=dimensions, activation='relu') )\n",
        "\n",
        "# Add the Hidden Layers\n",
        "modelDL.add( Dense(100, activation='relu') )\n",
        "modelDL.add( Dense(50, activation='relu') )\n",
        "\n",
        "# Add the Output Layer\n",
        "modelDL.add( Dense(1, activation='linear') )\n",
        "\n",
        "# Compile the Deep Learning model\n",
        "modelDL.compile(loss='mean_squared_error', optimizer='adam')"
      ],
      "execution_count": 26,
      "outputs": []
    },
    {
      "cell_type": "code",
      "metadata": {
        "colab": {
          "base_uri": "https://localhost:8080/"
        },
        "id": "OIVTndqw47X4",
        "outputId": "bad17dd0-19e1-4ae7-f307-925beebb64d3"
      },
      "source": [
        "# Note:\n",
        "# features is the array of explanatory (random) variables\n",
        "# label is the array of response (random) variable\n",
        "# epochs is the number of times to feed the entire data to the model\n",
        "# shuffle will randomize the features\n",
        "# verbose will control the logging of TensorFlow\n",
        "modelDL.fit( features, labels, epochs=3, shuffle=True, verbose=20)"
      ],
      "execution_count": 28,
      "outputs": [
        {
          "output_type": "stream",
          "name": "stdout",
          "text": [
            "Epoch 1/3\n",
            "Epoch 2/3\n",
            "Epoch 3/3\n"
          ]
        },
        {
          "output_type": "execute_result",
          "data": {
            "text/plain": [
              "<keras.callbacks.History at 0x7ff0591f3f10>"
            ]
          },
          "metadata": {},
          "execution_count": 28
        }
      ]
    },
    {
      "cell_type": "code",
      "metadata": {
        "id": "gRjXbJgS_DD8"
      },
      "source": [
        "features_test = pd.read_csv('./test_features.csv')\n",
        "labels_test = pd.read_csv('./test_labels.csv')\n",
        "\n",
        "predictions = modelDL.predict(features_test)"
      ],
      "execution_count": 30,
      "outputs": []
    },
    {
      "cell_type": "code",
      "metadata": {
        "colab": {
          "base_uri": "https://localhost:8080/"
        },
        "id": "L2-29UOkDqUp",
        "outputId": "a8bfdf1e-09be-43de-be35-551c3dd7eba4"
      },
      "source": [
        "print(predictions.max())\n",
        "print(predictions.min())"
      ],
      "execution_count": 49,
      "outputs": [
        {
          "output_type": "stream",
          "name": "stdout",
          "text": [
            "0.9462508\n",
            "-0.01264745\n"
          ]
        }
      ]
    },
    {
      "cell_type": "code",
      "metadata": {
        "colab": {
          "base_uri": "https://localhost:8080/"
        },
        "id": "fJTmayuXBf8z",
        "outputId": "61cb6096-b8ae-4ab6-8517-9e3215b6df2f"
      },
      "source": [
        "certainty_param = 0.2\n",
        "\n",
        "likelyFraud = []\n",
        "actuallyFraud = []\n",
        "test = predictions[:5]\n",
        "for index, prediction in enumerate(predictions):\n",
        "  if prediction > certainty_param:\n",
        "    likelyFraud.append(prediction)\n",
        "    if (labels_test.loc[index] == 1).bool():\n",
        "      actuallyFraud.append(prediction)\n",
        "\n",
        "print( 'Total Fraud Cases: {}'.format(len(predictions)))\n",
        "print( 'Likely Fraud: {}'.format( len( likelyFraud) ) )\n",
        "print( 'Actual Fraud: {}'.format( len( actuallyFraud) ))\n",
        "\n",
        "detection = len( actuallyFraud) / len( predictions)*100\n",
        "accuracy = len( actuallyFraud) / len( likelyFraud)*100\n",
        "print ('This model is able to predict {} % of fraud with an accuracy of {}%'.format(detection, accuracy))"
      ],
      "execution_count": 80,
      "outputs": [
        {
          "output_type": "stream",
          "name": "stdout",
          "text": [
            "Total Fraud Cases: 118929\n",
            "Likely Fraud: 1847\n",
            "Actual Fraud: 1113\n",
            "This model is able to predict 0.9358524834144741 % of fraud with an accuracy of 60.259880887926364%\n"
          ]
        }
      ]
    },
    {
      "cell_type": "code",
      "metadata": {
        "id": "LNyDzMg8GYcG"
      },
      "source": [
        "# I dont think this is good."
      ],
      "execution_count": 81,
      "outputs": []
    }
  ]
}