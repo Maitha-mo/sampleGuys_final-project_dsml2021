{
  "cells": [
    {
      "cell_type": "markdown",
      "metadata": {
        "id": "T9sXcpkuNbSW"
      },
      "source": [
        "# Fraud Detection for Banking \n",
        "\n"
      ]
    },
    {
      "cell_type": "markdown",
      "metadata": {},
      "source": [
        "## Sample Guys \n",
        "\n",
        "\n",
        "#### Hergen Meyer \n",
        "#### Maitha Alshaali \n",
        "#### Nafitha Najeeb \n",
        "#### Dominique Duclayan  "
      ]
    },
    {
      "cell_type": "markdown",
      "metadata": {},
      "source": [
        "## Overview"
      ]
    },
    {
      "cell_type": "markdown",
      "metadata": {},
      "source": [
        "In this project, we are detecting fraudulent transactions from the Banksim dataset that can be found in the link below. \n",
        "\n",
        "Source: https://www.kaggle.com/turkayavci/fraud-detection-on-bank-payments\n",
        "\n",
        "\n",
        "### Feature Description\n",
        "\n",
        "Source: https://www.kaggle.com/turkayavci/fraud-detection-on-bank-payments\n",
        "\n",
        "* Step: This feature represents the day from the start of simulation. It has 180 steps so simulation ran for virtually 6 months.\n",
        "\n",
        "* Customer: This feature represents the customer id\n",
        "\n",
        "* zipCodeOrigin: The zip code of origin/source.\n",
        "\n",
        "* Merchant: The merchant's id\n",
        "\n",
        "* zipMerchant: The merchant's zip code\n",
        "\n",
        "* Age: Categorized age\n",
        "    * 0: <= 18,\n",
        "    * 1: 19-25,\n",
        "    * 2: 26-35,\n",
        "    * 3: 36-45,\n",
        "    * 4: 46:55,\n",
        "    * 5: 56:65,\n",
        "    * 6: > 65\n",
        "    * U: Unknown\n",
        "\n",
        "* Gender: Gender for customer\n",
        "    * E : Enterprise,\n",
        "    * F: Female,\n",
        "    * M: Male,\n",
        "    * U: Unknown\n",
        "\n",
        "* Category: Category of the purchase.\n",
        "\n",
        "* Amount: Amount of the purchase\n",
        "\n",
        "* Fraud: Target variable which shows if the transaction fraudulent(1) or benign(0)"
      ]
    },
    {
      "cell_type": "code",
      "execution_count": 337,
      "metadata": {
        "id": "46bCi9D7NbSc"
      },
      "outputs": [],
      "source": [
        "# (1) Import libraries\n",
        "import pandas as pd\n",
        "import numpy as np\n",
        "\n",
        "from sklearn.model_selection import train_test_split\n",
        "from sklearn.preprocessing import LabelEncoder\n",
        "\n",
        "# Importing the machine learning model\n",
        "from sklearn.ensemble import RandomForestClassifier\n",
        "\n",
        "# Import GridSearchCV to find the model with the best parameters\n",
        "from sklearn.model_selection import GridSearchCV\n",
        "\n",
        "# Importing the the functions to measure metrics for the model\n",
        "from sklearn.metrics import accuracy_score, precision_score, recall_score\n",
        "\n",
        "\n",
        "import matplotlib.pyplot as plt\n",
        "import seaborn as sns\n",
        "\n",
        "import zipfile\n",
        "\n",
        "#Magic Function \n",
        "%matplotlib inline\n",
        "\n",
        "# Hide warnings \n",
        "import warnings\n",
        "warnings.filterwarnings('ignore', category=FutureWarning)\n"
      ]
    },
    {
      "cell_type": "code",
      "execution_count": 338,
      "metadata": {
        "colab": {
          "base_uri": "https://localhost:8080/"
        },
        "id": "PFTSVmFGNbSd",
        "outputId": "40320726-6485-4ce3-f402-00b2feee12b3"
      },
      "outputs": [],
      "source": [
        "# (2) Import data file(s)\n",
        "# Use the SQL method from Spark to import the data as DataFrames. \n",
        "# See the reference code below. Also see the DataBricks Fraud Detection code as example.\n",
        "# For basic exploration, you can also use Pandas.\n",
        "# bs140513_032310.csv\n",
        "# bsNET140513_032310.csv\n",
        "\n",
        "# !curl -O https://storage.googleapis.com/datascience-practice/bs140513_032310.csv.zip\n",
        "# !curl -O https://storage.googleapis.com/datascience-practice/bsNET140513_032310.csv.zip"
      ]
    },
    {
      "cell_type": "code",
      "execution_count": 339,
      "metadata": {
        "colab": {
          "base_uri": "https://localhost:8080/"
        },
        "id": "sjWQIVe1NmtR",
        "outputId": "d80f99d8-171f-455b-8cdb-cec2ad5d29d2"
      },
      "outputs": [
        {
          "name": "stdout",
          "output_type": "stream",
          "text": [
            "Project Milestones - DS ML Bootcamp Sep Nov 2021.pdf\n",
            "bs140513_032310.csv\n",
            "bs140513_032310.csv.zip\n",
            "bsNET140513_032310.csv\n",
            "bsNET140513_032310.csv.zip\n",
            "csv_collection.zip\n",
            "\u001b[31mfraudDetectionEda.ipynb\u001b[m\u001b[m\n",
            "\u001b[31mfraudDetection_hergen.ipynb\u001b[m\u001b[m\n",
            "predictions.csv\n",
            "test_features.csv\n",
            "test_labels.csv\n",
            "train_features.csv\n",
            "train_labels.csv\n",
            "validation_features.csv\n",
            "validation_labels.csv\n",
            "workspace.code-workspace\n"
          ]
        }
      ],
      "source": [
        "# (2.a) See the downloaded files\n",
        "!ls"
      ]
    },
    {
      "cell_type": "code",
      "execution_count": 340,
      "metadata": {
        "colab": {
          "base_uri": "https://localhost:8080/"
        },
        "id": "a03iL_UNNtE5",
        "outputId": "cf96695d-6ea4-49e6-f459-09295ab14e8c"
      },
      "outputs": [],
      "source": [
        "# (2.b) Unzip the files\n",
        "# !unzip bs140513_032310.csv.zip\n",
        "# !unzip bsNET140513_032310.csv.zip"
      ]
    },
    {
      "cell_type": "code",
      "execution_count": 341,
      "metadata": {
        "id": "fMJQSLI7N2Df"
      },
      "outputs": [],
      "source": [
        "# (2.c) Read transaction data into Pandas DataFrame\n",
        "dft = pd.read_csv('bs140513_032310.csv')\n",
        "# (2.d) Read network data into Pandas DataFrame\n",
        "dff = pd.read_csv('bsNET140513_032310.csv')\n",
        "\n",
        "# Note: the equivalent method for a PySpark DataFrame is\n",
        "# df = spark.read.csv()"
      ]
    },
    {
      "cell_type": "markdown",
      "metadata": {},
      "source": [
        "# General Exploration"
      ]
    },
    {
      "cell_type": "code",
      "execution_count": 342,
      "metadata": {},
      "outputs": [
        {
          "data": {
            "text/html": [
              "<div>\n",
              "<style scoped>\n",
              "    .dataframe tbody tr th:only-of-type {\n",
              "        vertical-align: middle;\n",
              "    }\n",
              "\n",
              "    .dataframe tbody tr th {\n",
              "        vertical-align: top;\n",
              "    }\n",
              "\n",
              "    .dataframe thead th {\n",
              "        text-align: right;\n",
              "    }\n",
              "</style>\n",
              "<table border=\"1\" class=\"dataframe\">\n",
              "  <thead>\n",
              "    <tr style=\"text-align: right;\">\n",
              "      <th></th>\n",
              "      <th>step</th>\n",
              "      <th>customer</th>\n",
              "      <th>age</th>\n",
              "      <th>gender</th>\n",
              "      <th>zipcodeOri</th>\n",
              "      <th>merchant</th>\n",
              "      <th>zipMerchant</th>\n",
              "      <th>category</th>\n",
              "      <th>amount</th>\n",
              "      <th>fraud</th>\n",
              "    </tr>\n",
              "  </thead>\n",
              "  <tbody>\n",
              "    <tr>\n",
              "      <th>0</th>\n",
              "      <td>0</td>\n",
              "      <td>'C1093826151'</td>\n",
              "      <td>'4'</td>\n",
              "      <td>'M'</td>\n",
              "      <td>'28007'</td>\n",
              "      <td>'M348934600'</td>\n",
              "      <td>'28007'</td>\n",
              "      <td>'es_transportation'</td>\n",
              "      <td>4.55</td>\n",
              "      <td>0</td>\n",
              "    </tr>\n",
              "    <tr>\n",
              "      <th>1</th>\n",
              "      <td>0</td>\n",
              "      <td>'C352968107'</td>\n",
              "      <td>'2'</td>\n",
              "      <td>'M'</td>\n",
              "      <td>'28007'</td>\n",
              "      <td>'M348934600'</td>\n",
              "      <td>'28007'</td>\n",
              "      <td>'es_transportation'</td>\n",
              "      <td>39.68</td>\n",
              "      <td>0</td>\n",
              "    </tr>\n",
              "    <tr>\n",
              "      <th>2</th>\n",
              "      <td>0</td>\n",
              "      <td>'C2054744914'</td>\n",
              "      <td>'4'</td>\n",
              "      <td>'F'</td>\n",
              "      <td>'28007'</td>\n",
              "      <td>'M1823072687'</td>\n",
              "      <td>'28007'</td>\n",
              "      <td>'es_transportation'</td>\n",
              "      <td>26.89</td>\n",
              "      <td>0</td>\n",
              "    </tr>\n",
              "  </tbody>\n",
              "</table>\n",
              "</div>"
            ],
            "text/plain": [
              "   step       customer  age gender zipcodeOri       merchant zipMerchant  \\\n",
              "0     0  'C1093826151'  '4'    'M'    '28007'   'M348934600'     '28007'   \n",
              "1     0   'C352968107'  '2'    'M'    '28007'   'M348934600'     '28007'   \n",
              "2     0  'C2054744914'  '4'    'F'    '28007'  'M1823072687'     '28007'   \n",
              "\n",
              "              category  amount  fraud  \n",
              "0  'es_transportation'    4.55      0  \n",
              "1  'es_transportation'   39.68      0  \n",
              "2  'es_transportation'   26.89      0  "
            ]
          },
          "execution_count": 342,
          "metadata": {},
          "output_type": "execute_result"
        }
      ],
      "source": [
        "# (3) Explore data (for example, see what is categorial and numerical)\n",
        "# Lets start with analysing / comparing dft and dff\n",
        "dft.head(3)"
      ]
    },
    {
      "cell_type": "code",
      "execution_count": 343,
      "metadata": {},
      "outputs": [
        {
          "data": {
            "text/plain": [
              "Index(['step', 'customer', 'age', 'gender', 'zipcodeOri', 'merchant',\n",
              "       'zipMerchant', 'category', 'amount', 'fraud'],\n",
              "      dtype='object')"
            ]
          },
          "execution_count": 343,
          "metadata": {},
          "output_type": "execute_result"
        }
      ],
      "source": [
        "# Checking the columns in our dataset\n",
        "dft.columns"
      ]
    },
    {
      "cell_type": "code",
      "execution_count": 344,
      "metadata": {},
      "outputs": [
        {
          "name": "stdout",
          "output_type": "stream",
          "text": [
            "<class 'pandas.core.frame.DataFrame'>\n",
            "RangeIndex: 594643 entries, 0 to 594642\n",
            "Data columns (total 10 columns):\n",
            " #   Column       Non-Null Count   Dtype  \n",
            "---  ------       --------------   -----  \n",
            " 0   step         594643 non-null  int64  \n",
            " 1   customer     594643 non-null  object \n",
            " 2   age          594643 non-null  object \n",
            " 3   gender       594643 non-null  object \n",
            " 4   zipcodeOri   594643 non-null  object \n",
            " 5   merchant     594643 non-null  object \n",
            " 6   zipMerchant  594643 non-null  object \n",
            " 7   category     594643 non-null  object \n",
            " 8   amount       594643 non-null  float64\n",
            " 9   fraud        594643 non-null  int64  \n",
            "dtypes: float64(1), int64(2), object(7)\n",
            "memory usage: 45.4+ MB\n"
          ]
        }
      ],
      "source": [
        "dft.info()\n"
      ]
    },
    {
      "cell_type": "code",
      "execution_count": 345,
      "metadata": {},
      "outputs": [],
      "source": [
        "# No missing data. Great!"
      ]
    },
    {
      "cell_type": "code",
      "execution_count": 346,
      "metadata": {},
      "outputs": [
        {
          "data": {
            "text/html": [
              "<div>\n",
              "<style scoped>\n",
              "    .dataframe tbody tr th:only-of-type {\n",
              "        vertical-align: middle;\n",
              "    }\n",
              "\n",
              "    .dataframe tbody tr th {\n",
              "        vertical-align: top;\n",
              "    }\n",
              "\n",
              "    .dataframe thead th {\n",
              "        text-align: right;\n",
              "    }\n",
              "</style>\n",
              "<table border=\"1\" class=\"dataframe\">\n",
              "  <thead>\n",
              "    <tr style=\"text-align: right;\">\n",
              "      <th></th>\n",
              "      <th>step</th>\n",
              "      <th>amount</th>\n",
              "      <th>fraud</th>\n",
              "    </tr>\n",
              "  </thead>\n",
              "  <tbody>\n",
              "    <tr>\n",
              "      <th>count</th>\n",
              "      <td>594643.000000</td>\n",
              "      <td>594643.000000</td>\n",
              "      <td>594643.000000</td>\n",
              "    </tr>\n",
              "    <tr>\n",
              "      <th>mean</th>\n",
              "      <td>94.986827</td>\n",
              "      <td>37.890135</td>\n",
              "      <td>0.012108</td>\n",
              "    </tr>\n",
              "    <tr>\n",
              "      <th>std</th>\n",
              "      <td>51.053632</td>\n",
              "      <td>111.402831</td>\n",
              "      <td>0.109369</td>\n",
              "    </tr>\n",
              "    <tr>\n",
              "      <th>min</th>\n",
              "      <td>0.000000</td>\n",
              "      <td>0.000000</td>\n",
              "      <td>0.000000</td>\n",
              "    </tr>\n",
              "    <tr>\n",
              "      <th>25%</th>\n",
              "      <td>52.000000</td>\n",
              "      <td>13.740000</td>\n",
              "      <td>0.000000</td>\n",
              "    </tr>\n",
              "    <tr>\n",
              "      <th>50%</th>\n",
              "      <td>97.000000</td>\n",
              "      <td>26.900000</td>\n",
              "      <td>0.000000</td>\n",
              "    </tr>\n",
              "    <tr>\n",
              "      <th>75%</th>\n",
              "      <td>139.000000</td>\n",
              "      <td>42.540000</td>\n",
              "      <td>0.000000</td>\n",
              "    </tr>\n",
              "    <tr>\n",
              "      <th>max</th>\n",
              "      <td>179.000000</td>\n",
              "      <td>8329.960000</td>\n",
              "      <td>1.000000</td>\n",
              "    </tr>\n",
              "  </tbody>\n",
              "</table>\n",
              "</div>"
            ],
            "text/plain": [
              "                step         amount          fraud\n",
              "count  594643.000000  594643.000000  594643.000000\n",
              "mean       94.986827      37.890135       0.012108\n",
              "std        51.053632     111.402831       0.109369\n",
              "min         0.000000       0.000000       0.000000\n",
              "25%        52.000000      13.740000       0.000000\n",
              "50%        97.000000      26.900000       0.000000\n",
              "75%       139.000000      42.540000       0.000000\n",
              "max       179.000000    8329.960000       1.000000"
            ]
          },
          "execution_count": 346,
          "metadata": {},
          "output_type": "execute_result"
        }
      ],
      "source": [
        "# Overview of some statistics\n",
        "dft.describe()"
      ]
    },
    {
      "cell_type": "code",
      "execution_count": 347,
      "metadata": {},
      "outputs": [
        {
          "data": {
            "text/plain": [
              "<bound method Series.unique of 0           0\n",
              "1           0\n",
              "2           0\n",
              "3           0\n",
              "4           0\n",
              "         ... \n",
              "594638    179\n",
              "594639    179\n",
              "594640    179\n",
              "594641    179\n",
              "594642    179\n",
              "Name: step, Length: 594643, dtype: int64>"
            ]
          },
          "execution_count": 347,
          "metadata": {},
          "output_type": "execute_result"
        }
      ],
      "source": [
        "# Checking for weird values \n",
        "dft['step'].unique"
      ]
    },
    {
      "cell_type": "code",
      "execution_count": 348,
      "metadata": {},
      "outputs": [],
      "source": [
        "def addlabels (x,y):\n",
        "    for i in range(len(x)):\n",
        "        plt.text(i,y[i]+4000, y[i], ha= 'center')\n",
        "        "
      ]
    },
    {
      "cell_type": "code",
      "execution_count": 349,
      "metadata": {},
      "outputs": [],
      "source": [
        "def addlabels_1 (x,y):\n",
        "    for i in range(len(x)):\n",
        "        plt.text(i,y[i]+4000, y[i], ha= 'center', rotation=90)"
      ]
    },
    {
      "cell_type": "code",
      "execution_count": 350,
      "metadata": {},
      "outputs": [
        {
          "data": {
            "text/plain": [
              "Text(0.5, 1.0, 'Fraud frequency')"
            ]
          },
          "execution_count": 350,
          "metadata": {},
          "output_type": "execute_result"
        },
        {
          "data": {
            "image/png": "[encoded data removed]",
            "text/plain": [
              "<Figure size 432x288 with 1 Axes>"
            ]
          },
          "metadata": {},
          "output_type": "display_data"
        }
      ],
      "source": [
        "plt.pie(dft['fraud'].value_counts(), labels=[587443*100/(587443+7200), 7200*100/(587443+7200)])\n",
        "plt.title('Fraud frequency')"
      ]
    },
    {
      "cell_type": "code",
      "execution_count": 351,
      "metadata": {},
      "outputs": [
        {
          "data": {
            "image/png": "[encoded data removed]",
            "text/plain": [
              "<Figure size 432x288 with 1 Axes>"
            ]
          },
          "metadata": {
            "needs_background": "light"
          },
          "output_type": "display_data"
        }
      ],
      "source": [
        "sns.countplot(x=\"fraud\",data=dft,edgecolor=\"black\",palette=\"bright\")\n",
        "plt.title(\"Count of Fraudulent Payments\",fontsize=21)\n",
        "addlabels([\"0\",\"1\"],dft.fraud.value_counts())\n",
        "plt.show()\n"
      ]
    },
    {
      "cell_type": "code",
      "execution_count": 352,
      "metadata": {},
      "outputs": [
        {
          "name": "stdout",
          "output_type": "stream",
          "text": [
            "fraud\n",
            "0        587443\n",
            "1          7200\n",
            "dtype: int64\n"
          ]
        }
      ],
      "source": [
        "fraudCount = dft[['fraud']].value_counts()\n",
        "print(fraudCount)\n",
        "\n",
        "# The results show us that there is a total of 587443 non fraudelant transactions \n",
        "# that are benign (0) and a total of 7200 fraudelant transactions (1)\n"
      ]
    },
    {
      "cell_type": "code",
      "execution_count": 353,
      "metadata": {},
      "outputs": [
        {
          "name": "stdout",
          "output_type": "stream",
          "text": [
            "No. of fraud transactions: 7200, No. of non-fraud transactions: 587443\n"
          ]
        }
      ],
      "source": [
        "# Printing the Number of fraud transactions and non-fraud transactions\n",
        "print('No. of fraud transactions: {}, No. of non-fraud transactions: {}'.format((dft.fraud == 1).sum(), (dft.fraud == 0).sum()))"
      ]
    },
    {
      "cell_type": "code",
      "execution_count": 354,
      "metadata": {},
      "outputs": [
        {
          "name": "stdout",
          "output_type": "stream",
          "text": [
            "Percentage of fraud cases: 1.2%\n"
          ]
        }
      ],
      "source": [
        "percent = dft[['fraud']].value_counts()[1] / len(dft) * 100\n",
        "percent = percent.round(1)\n",
        "print(\"Percentage of fraud cases: {}%\".format(percent) )\n"
      ]
    },
    {
      "cell_type": "code",
      "execution_count": 355,
      "metadata": {},
      "outputs": [
        {
          "data": {
            "text/html": [
              "<div>\n",
              "<style scoped>\n",
              "    .dataframe tbody tr th:only-of-type {\n",
              "        vertical-align: middle;\n",
              "    }\n",
              "\n",
              "    .dataframe tbody tr th {\n",
              "        vertical-align: top;\n",
              "    }\n",
              "\n",
              "    .dataframe thead th {\n",
              "        text-align: right;\n",
              "    }\n",
              "</style>\n",
              "<table border=\"1\" class=\"dataframe\">\n",
              "  <thead>\n",
              "    <tr style=\"text-align: right;\">\n",
              "      <th></th>\n",
              "      <th>step</th>\n",
              "      <th>customer</th>\n",
              "      <th>age</th>\n",
              "      <th>gender</th>\n",
              "      <th>zipcodeOri</th>\n",
              "      <th>merchant</th>\n",
              "      <th>zipMerchant</th>\n",
              "      <th>category</th>\n",
              "      <th>amount</th>\n",
              "      <th>fraud</th>\n",
              "    </tr>\n",
              "  </thead>\n",
              "  <tbody>\n",
              "    <tr>\n",
              "      <th>0</th>\n",
              "      <td>0</td>\n",
              "      <td>'C1093826151'</td>\n",
              "      <td>'4'</td>\n",
              "      <td>'M'</td>\n",
              "      <td>'28007'</td>\n",
              "      <td>'M348934600'</td>\n",
              "      <td>'28007'</td>\n",
              "      <td>'es_transportation'</td>\n",
              "      <td>4.55</td>\n",
              "      <td>0</td>\n",
              "    </tr>\n",
              "  </tbody>\n",
              "</table>\n",
              "</div>"
            ],
            "text/plain": [
              "   step       customer  age gender zipcodeOri      merchant zipMerchant  \\\n",
              "0     0  'C1093826151'  '4'    'M'    '28007'  'M348934600'     '28007'   \n",
              "\n",
              "              category  amount  fraud  \n",
              "0  'es_transportation'    4.55      0  "
            ]
          },
          "execution_count": 355,
          "metadata": {},
          "output_type": "execute_result"
        }
      ],
      "source": [
        "dft.head(1)\n"
      ]
    },
    {
      "cell_type": "code",
      "execution_count": 356,
      "metadata": {},
      "outputs": [
        {
          "data": {
            "text/html": [
              "<div>\n",
              "<style scoped>\n",
              "    .dataframe tbody tr th:only-of-type {\n",
              "        vertical-align: middle;\n",
              "    }\n",
              "\n",
              "    .dataframe tbody tr th {\n",
              "        vertical-align: top;\n",
              "    }\n",
              "\n",
              "    .dataframe thead th {\n",
              "        text-align: right;\n",
              "    }\n",
              "</style>\n",
              "<table border=\"1\" class=\"dataframe\">\n",
              "  <thead>\n",
              "    <tr style=\"text-align: right;\">\n",
              "      <th></th>\n",
              "      <th>Source</th>\n",
              "      <th>Target</th>\n",
              "      <th>Weight</th>\n",
              "      <th>typeTrans</th>\n",
              "      <th>fraud</th>\n",
              "    </tr>\n",
              "  </thead>\n",
              "  <tbody>\n",
              "    <tr>\n",
              "      <th>0</th>\n",
              "      <td>'C1093826151'</td>\n",
              "      <td>'M348934600'</td>\n",
              "      <td>4.55</td>\n",
              "      <td>'es_transportation'</td>\n",
              "      <td>0</td>\n",
              "    </tr>\n",
              "  </tbody>\n",
              "</table>\n",
              "</div>"
            ],
            "text/plain": [
              "          Source        Target  Weight            typeTrans  fraud\n",
              "0  'C1093826151'  'M348934600'    4.55  'es_transportation'      0"
            ]
          },
          "execution_count": 356,
          "metadata": {},
          "output_type": "execute_result"
        }
      ],
      "source": [
        "dff.head(1)"
      ]
    },
    {
      "cell_type": "code",
      "execution_count": 357,
      "metadata": {},
      "outputs": [
        {
          "data": {
            "text/plain": [
              "fraud\n",
              "0        587443\n",
              "1          7200\n",
              "dtype: int64"
            ]
          },
          "execution_count": 357,
          "metadata": {},
          "output_type": "execute_result"
        }
      ],
      "source": [
        "dff[['fraud']].value_counts()\n"
      ]
    },
    {
      "cell_type": "code",
      "execution_count": 358,
      "metadata": {},
      "outputs": [
        {
          "name": "stdout",
          "output_type": "stream",
          "text": [
            "<class 'pandas.core.frame.DataFrame'>\n",
            "RangeIndex: 594643 entries, 0 to 594642\n",
            "Data columns (total 5 columns):\n",
            " #   Column     Non-Null Count   Dtype  \n",
            "---  ------     --------------   -----  \n",
            " 0   Source     594643 non-null  object \n",
            " 1   Target     594643 non-null  object \n",
            " 2   Weight     594643 non-null  float64\n",
            " 3   typeTrans  594643 non-null  object \n",
            " 4   fraud      594643 non-null  int64  \n",
            "dtypes: float64(1), int64(1), object(3)\n",
            "memory usage: 22.7+ MB\n"
          ]
        }
      ],
      "source": [
        "dff.info()"
      ]
    },
    {
      "cell_type": "markdown",
      "metadata": {},
      "source": [
        "\n",
        "### I conclude: The DFF dataset can be ignored as it is redundant to DFT\n"
      ]
    },
    {
      "cell_type": "markdown",
      "metadata": {},
      "source": [
        "# Feature Analysis"
      ]
    },
    {
      "cell_type": "code",
      "execution_count": 359,
      "metadata": {},
      "outputs": [],
      "source": [
        "# Fraud cases:\n",
        "trans_fraud = dft[dft['fraud'] == 1]\n"
      ]
    },
    {
      "cell_type": "code",
      "execution_count": 360,
      "metadata": {},
      "outputs": [
        {
          "data": {
            "text/plain": [
              "step  customer       age  gender  zipcodeOri  merchant       zipMerchant  category                 amount   fraud\n",
              "0     'C1038215695'  '4'  'M'     '28007'     'M2122776122'  '28007'      'es_home'                328.02   1        1\n",
              "120   'C916694479'   '4'  'F'     '28007'     'M480139044'   '28007'      'es_health'              443.60   1        1\n",
              "      'C1394467199'  '3'  'M'     '28007'     'M980657600'   '28007'      'es_sportsandtoys'       344.16   1        1\n",
              "      'C1382187685'  '1'  'F'     '28007'     'M151143676'   '28007'      'es_barsandrestaurants'  134.63   1        1\n",
              "      'C1294166760'  '3'  'M'     '28007'     'M209847108'   '28007'      'es_wellnessandbeauty'   135.91   1        1\n",
              "                                                                                                                    ..\n",
              "59    'C806399525'   '2'  'F'     '28007'     'M980657600'   '28007'      'es_sportsandtoys'       29.22    1        1\n",
              "                                              'M480139044'   '28007'      'es_health'              166.89   1        1\n",
              "      'C77017704'    '2'  'F'     '28007'     'M1873032707'  '28007'      'es_hotelservices'       616.24   1        1\n",
              "      'C611182051'   '2'  'F'     '28007'     'M732195782'   '28007'      'es_travel'              1921.75  1        1\n",
              "179   'C95082443'    '2'  'M'     '28007'     'M980657600'   '28007'      'es_sportsandtoys'       518.50   1        1\n",
              "Length: 7200, dtype: int64"
            ]
          },
          "execution_count": 360,
          "metadata": {},
          "output_type": "execute_result"
        }
      ],
      "source": [
        "# Checking to see the details and number of fraud (1) transactions \n",
        "dft.loc[dft.fraud == 1].value_counts()"
      ]
    },
    {
      "cell_type": "code",
      "execution_count": 361,
      "metadata": {},
      "outputs": [
        {
          "data": {
            "text/plain": [
              "step  customer       age  gender  zipcodeOri  merchant       zipMerchant  category                 amount  fraud\n",
              "0     'C100045114'   '4'  'M'     '28007'     'M348934600'   '28007'      'es_transportation'      35.13   0        1\n",
              "126   'C1175419672'  '2'  'M'     '28007'     'M1823072687'  '28007'      'es_transportation'      58.11   0        1\n",
              "      'C1171622243'  '5'  'M'     '28007'     'M151143676'   '28007'      'es_barsandrestaurants'  35.76   0        1\n",
              "      'C1173530601'  '2'  'M'     '28007'     'M1823072687'  '28007'      'es_transportation'      42.77   0        1\n",
              "      'C1174105749'  '5'  'M'     '28007'     'M348934600'   '28007'      'es_transportation'      21.85   0        1\n",
              "                                                                                                                   ..\n",
              "68    'C1687751654'  '3'  'M'     '28007'     'M1823072687'  '28007'      'es_transportation'      60.55   0        1\n",
              "      'C1687722078'  '2'  'M'     '28007'     'M1823072687'  '28007'      'es_transportation'      33.33   0        1\n",
              "      'C168710517'   '4'  'F'     '28007'     'M1823072687'  '28007'      'es_transportation'      9.91    0        1\n",
              "      'C1687101094'  '2'  'F'     '28007'     'M1823072687'  '28007'      'es_transportation'      0.30    0        1\n",
              "179   'C999723254'   '2'  'M'     '28007'     'M1823072687'  '28007'      'es_transportation'      32.96   0        1\n",
              "Length: 587443, dtype: int64"
            ]
          },
          "execution_count": 361,
          "metadata": {},
          "output_type": "execute_result"
        }
      ],
      "source": [
        "# Checking to see the details and number of non-fraud (0) transactions \n",
        "dft.loc[dft.fraud == 0].value_counts()"
      ]
    },
    {
      "cell_type": "code",
      "execution_count": 362,
      "metadata": {},
      "outputs": [
        {
          "data": {
            "text/plain": [
              "'2'    2344\n",
              "'3'    1755\n",
              "'4'    1410\n",
              "'1'     689\n",
              "'5'     686\n",
              "'6'     261\n",
              "'0'      48\n",
              "'U'       7\n",
              "Name: age, dtype: int64"
            ]
          },
          "execution_count": 362,
          "metadata": {},
          "output_type": "execute_result"
        }
      ],
      "source": [
        "# Checking to see the number of fraud (1) transactions and its correlation with age\n",
        "dft.loc[dft.fraud == 1,'age'].value_counts()"
      ]
    },
    {
      "cell_type": "markdown",
      "metadata": {},
      "source": [
        "### step"
      ]
    },
    {
      "cell_type": "code",
      "execution_count": 363,
      "metadata": {},
      "outputs": [
        {
          "data": {
            "text/plain": [
              "step\n",
              "175     3774\n",
              "177     3758\n",
              "152     3746\n",
              "178     3743\n",
              "174     3743\n",
              "        ... \n",
              "5       2525\n",
              "3       2499\n",
              "2       2462\n",
              "0       2430\n",
              "1       2424\n",
              "Length: 180, dtype: int64"
            ]
          },
          "execution_count": 363,
          "metadata": {},
          "output_type": "execute_result"
        }
      ],
      "source": [
        "# dft.groupby('step').describe()['fraud']\n",
        "dft[['step']].value_counts()\n"
      ]
    },
    {
      "cell_type": "code",
      "execution_count": 364,
      "metadata": {},
      "outputs": [
        {
          "data": {
            "text/plain": [
              "step\n",
              "0       40\n",
              "113     40\n",
              "115     40\n",
              "116     40\n",
              "117     40\n",
              "        ..\n",
              "61      40\n",
              "62      40\n",
              "63      40\n",
              "64      40\n",
              "179     40\n",
              "Length: 180, dtype: int64"
            ]
          },
          "execution_count": 364,
          "metadata": {},
          "output_type": "execute_result"
        }
      ],
      "source": [
        "trans_fraud[['step']].value_counts()\n"
      ]
    },
    {
      "cell_type": "code",
      "execution_count": 365,
      "metadata": {},
      "outputs": [],
      "source": [
        "# I have not clue what step is .... but it seams, each step holds 40 fraud cases...."
      ]
    },
    {
      "cell_type": "markdown",
      "metadata": {},
      "source": [
        "### customers"
      ]
    },
    {
      "cell_type": "code",
      "execution_count": 366,
      "metadata": {},
      "outputs": [
        {
          "name": "stdout",
          "output_type": "stream",
          "text": [
            "4112\n"
          ]
        }
      ],
      "source": [
        "# Unique customers:\n",
        "print(len(np.unique(dft[['customer']].values)))\n"
      ]
    },
    {
      "cell_type": "markdown",
      "metadata": {},
      "source": [
        "### gender"
      ]
    },
    {
      "cell_type": "code",
      "execution_count": 367,
      "metadata": {},
      "outputs": [
        {
          "data": {
            "text/html": [
              "<div>\n",
              "<style scoped>\n",
              "    .dataframe tbody tr th:only-of-type {\n",
              "        vertical-align: middle;\n",
              "    }\n",
              "\n",
              "    .dataframe tbody tr th {\n",
              "        vertical-align: top;\n",
              "    }\n",
              "\n",
              "    .dataframe thead th {\n",
              "        text-align: right;\n",
              "    }\n",
              "</style>\n",
              "<table border=\"1\" class=\"dataframe\">\n",
              "  <thead>\n",
              "    <tr style=\"text-align: right;\">\n",
              "      <th></th>\n",
              "      <th>gender</th>\n",
              "    </tr>\n",
              "  </thead>\n",
              "  <tbody>\n",
              "    <tr>\n",
              "      <th>'F'</th>\n",
              "      <td>324565</td>\n",
              "    </tr>\n",
              "    <tr>\n",
              "      <th>'M'</th>\n",
              "      <td>268385</td>\n",
              "    </tr>\n",
              "    <tr>\n",
              "      <th>'E'</th>\n",
              "      <td>1178</td>\n",
              "    </tr>\n",
              "    <tr>\n",
              "      <th>'U'</th>\n",
              "      <td>515</td>\n",
              "    </tr>\n",
              "  </tbody>\n",
              "</table>\n",
              "</div>"
            ],
            "text/plain": [
              "     gender\n",
              "'F'  324565\n",
              "'M'  268385\n",
              "'E'    1178\n",
              "'U'     515"
            ]
          },
          "execution_count": 367,
          "metadata": {},
          "output_type": "execute_result"
        }
      ],
      "source": [
        "dft1 = pd.DataFrame(dft[ 'gender' ].value_counts())\n",
        "dft1"
      ]
    },
    {
      "cell_type": "code",
      "execution_count": 368,
      "metadata": {},
      "outputs": [],
      "source": [
        "# And what about all the other gernders ... LBTQ ... ???? ;-)"
      ]
    },
    {
      "cell_type": "code",
      "execution_count": 369,
      "metadata": {},
      "outputs": [
        {
          "data": {
            "image/png": "[encoded data removed]",
            "text/plain": [
              "<Figure size 864x720 with 1 Axes>"
            ]
          },
          "metadata": {
            "needs_background": "light"
          },
          "output_type": "display_data"
        }
      ],
      "source": [
        "plt.figure(figsize=(12,10))\n",
        "sns.barplot(dft1.index,dft1.gender,data=dft1,ec=\"black\", palette=\"bright\")\n",
        "plt.title(\"Gender-wise transactions\",fontsize=21)\n",
        "plt.xticks(rotation=0)\n",
        "addlabels(dft1.index,dft1.gender)"
      ]
    },
    {
      "cell_type": "code",
      "execution_count": 370,
      "metadata": {},
      "outputs": [],
      "source": [
        "# I suggest we ignore E and U"
      ]
    },
    {
      "cell_type": "markdown",
      "metadata": {},
      "source": [
        "### age"
      ]
    },
    {
      "cell_type": "code",
      "execution_count": 371,
      "metadata": {},
      "outputs": [
        {
          "data": {
            "text/plain": [
              "age\n",
              "'2'    2344\n",
              "'3'    1755\n",
              "'4'    1410\n",
              "'1'     689\n",
              "'5'     686\n",
              "'6'     261\n",
              "'0'      48\n",
              "'U'       7\n",
              "dtype: int64"
            ]
          },
          "execution_count": 371,
          "metadata": {},
          "output_type": "execute_result"
        }
      ],
      "source": [
        "trans_fraud[['age']].value_counts()\n"
      ]
    },
    {
      "cell_type": "code",
      "execution_count": 372,
      "metadata": {},
      "outputs": [
        {
          "data": {
            "text/html": [
              "<div>\n",
              "<style scoped>\n",
              "    .dataframe tbody tr th:only-of-type {\n",
              "        vertical-align: middle;\n",
              "    }\n",
              "\n",
              "    .dataframe tbody tr th {\n",
              "        vertical-align: top;\n",
              "    }\n",
              "\n",
              "    .dataframe thead th {\n",
              "        text-align: right;\n",
              "    }\n",
              "</style>\n",
              "<table border=\"1\" class=\"dataframe\">\n",
              "  <thead>\n",
              "    <tr style=\"text-align: right;\">\n",
              "      <th></th>\n",
              "      <th>age</th>\n",
              "    </tr>\n",
              "  </thead>\n",
              "  <tbody>\n",
              "    <tr>\n",
              "      <th>'2'</th>\n",
              "      <td>187310</td>\n",
              "    </tr>\n",
              "    <tr>\n",
              "      <th>'3'</th>\n",
              "      <td>147131</td>\n",
              "    </tr>\n",
              "    <tr>\n",
              "      <th>'4'</th>\n",
              "      <td>109025</td>\n",
              "    </tr>\n",
              "    <tr>\n",
              "      <th>'5'</th>\n",
              "      <td>62642</td>\n",
              "    </tr>\n",
              "    <tr>\n",
              "      <th>'1'</th>\n",
              "      <td>58131</td>\n",
              "    </tr>\n",
              "    <tr>\n",
              "      <th>'6'</th>\n",
              "      <td>26774</td>\n",
              "    </tr>\n",
              "    <tr>\n",
              "      <th>'0'</th>\n",
              "      <td>2452</td>\n",
              "    </tr>\n",
              "    <tr>\n",
              "      <th>'U'</th>\n",
              "      <td>1178</td>\n",
              "    </tr>\n",
              "  </tbody>\n",
              "</table>\n",
              "</div>"
            ],
            "text/plain": [
              "        age\n",
              "'2'  187310\n",
              "'3'  147131\n",
              "'4'  109025\n",
              "'5'   62642\n",
              "'1'   58131\n",
              "'6'   26774\n",
              "'0'    2452\n",
              "'U'    1178"
            ]
          },
          "execution_count": 372,
          "metadata": {},
          "output_type": "execute_result"
        }
      ],
      "source": [
        "dft2 = pd.DataFrame(dft['age'].value_counts())\n",
        "dft2"
      ]
    },
    {
      "cell_type": "code",
      "execution_count": 373,
      "metadata": {},
      "outputs": [
        {
          "data": {
            "image/png": "[encoded data removed]",
            "text/plain": [
              "<Figure size 864x720 with 1 Axes>"
            ]
          },
          "metadata": {
            "needs_background": "light"
          },
          "output_type": "display_data"
        }
      ],
      "source": [
        "plt.figure(figsize=(12,10))\n",
        "sns.barplot(dft2.index,dft2.age,data=dft2,ec=\"black\")\n",
        "plt.title(\"age-wise transactions\",fontsize=21)\n",
        "plt.xticks(rotation=0)\n",
        "addlabels(dft2.index,dft2.age)"
      ]
    },
    {
      "cell_type": "code",
      "execution_count": 374,
      "metadata": {},
      "outputs": [
        {
          "data": {
            "text/plain": [
              "<seaborn.axisgrid.FacetGrid at 0x7fef590d8430>"
            ]
          },
          "execution_count": 374,
          "metadata": {},
          "output_type": "execute_result"
        },
        {
          "data": {
            "image/png": "[encoded data removed]",
            "text/plain": [
              "<Figure size 720x360 with 1 Axes>"
            ]
          },
          "metadata": {
            "needs_background": "light"
          },
          "output_type": "display_data"
        }
      ],
      "source": [
        "\n",
        "\n",
        "sns.catplot(x='age', y='fraud', data=dft, kind='point', aspect=2)\n"
      ]
    },
    {
      "cell_type": "markdown",
      "metadata": {},
      "source": [
        "### zipcodeOri"
      ]
    },
    {
      "cell_type": "code",
      "execution_count": 375,
      "metadata": {},
      "outputs": [
        {
          "data": {
            "text/plain": [
              "zipcodeOri\n",
              "'28007'       594643\n",
              "dtype: int64"
            ]
          },
          "execution_count": 375,
          "metadata": {},
          "output_type": "execute_result"
        }
      ],
      "source": [
        "dft[['zipcodeOri']].value_counts()\n"
      ]
    },
    {
      "cell_type": "code",
      "execution_count": 376,
      "metadata": {},
      "outputs": [],
      "source": [
        "# We can drop this."
      ]
    },
    {
      "cell_type": "markdown",
      "metadata": {},
      "source": [
        "### zipMerchant"
      ]
    },
    {
      "cell_type": "code",
      "execution_count": 377,
      "metadata": {},
      "outputs": [
        {
          "data": {
            "text/plain": [
              "zipMerchant\n",
              "'28007'        594643\n",
              "dtype: int64"
            ]
          },
          "execution_count": 377,
          "metadata": {},
          "output_type": "execute_result"
        }
      ],
      "source": [
        "dft[['zipMerchant']].value_counts()\n"
      ]
    },
    {
      "cell_type": "code",
      "execution_count": 378,
      "metadata": {},
      "outputs": [],
      "source": [
        "# We can drop this."
      ]
    },
    {
      "cell_type": "markdown",
      "metadata": {},
      "source": [
        "### merchant"
      ]
    },
    {
      "cell_type": "code",
      "execution_count": 379,
      "metadata": {},
      "outputs": [
        {
          "data": {
            "text/plain": [
              "merchant     \n",
              "'M480139044'     1634\n",
              "'M980657600'     1472\n",
              "'M732195782'      518\n",
              "'M1198415165'     358\n",
              "'M3697346'        290\n",
              "dtype: int64"
            ]
          },
          "execution_count": 379,
          "metadata": {},
          "output_type": "execute_result"
        }
      ],
      "source": [
        "trans_fraud[['merchant']].value_counts()[:5]\n"
      ]
    },
    {
      "cell_type": "code",
      "execution_count": 514,
      "metadata": {},
      "outputs": [
        {
          "data": {
            "text/plain": [
              "fraud\n",
              "0        1874\n",
              "1        1634\n",
              "dtype: int64"
            ]
          },
          "execution_count": 514,
          "metadata": {},
          "output_type": "execute_result"
        }
      ],
      "source": [
        "worstMerchant = \"M480139044\"\n",
        "worstMerchantDf = dft[dft['merchant'].str.contains(worstMerchant)]\n",
        "# Note regarding above: I dont understand why I had to use 'contains' rather than \"==\" but...\n",
        "\n",
        "worstMerchantDf[['fraud']].value_counts()\n"
      ]
    },
    {
      "cell_type": "code",
      "execution_count": 381,
      "metadata": {},
      "outputs": [],
      "source": [
        "# Ok, not always fraud.... ;-)\n"
      ]
    },
    {
      "cell_type": "code",
      "execution_count": 459,
      "metadata": {},
      "outputs": [],
      "source": [
        "worstMerchantsFraudDf = worstMerchantDf[worstMerchantDf['fraud'] == 1]\n",
        "\n"
      ]
    },
    {
      "cell_type": "code",
      "execution_count": 458,
      "metadata": {},
      "outputs": [
        {
          "data": {
            "text/plain": [
              "<seaborn.axisgrid.FacetGrid at 0x7fef595641f0>"
            ]
          },
          "execution_count": 458,
          "metadata": {},
          "output_type": "execute_result"
        },
        {
          "data": {
            "image/png": "[encoded data removed]",
            "text/plain": [
              "<Figure size 720x360 with 1 Axes>"
            ]
          },
          "metadata": {
            "needs_background": "light"
          },
          "output_type": "display_data"
        }
      ],
      "source": [
        "sns.catplot(x='customer', y='amount',\n",
        "            data=worstMerchantsFraudDf, kind='point', aspect=2)"
      ]
    },
    {
      "cell_type": "code",
      "execution_count": 434,
      "metadata": {},
      "outputs": [
        {
          "data": {
            "text/plain": [
              "<seaborn.axisgrid.FacetGrid at 0x7fef7dae6070>"
            ]
          },
          "execution_count": 434,
          "metadata": {},
          "output_type": "execute_result"
        },
        {
          "data": {
            "image/png": "[encoded data removed]",
            "text/plain": [
              "<Figure size 720x360 with 1 Axes>"
            ]
          },
          "metadata": {
            "needs_background": "light"
          },
          "output_type": "display_data"
        }
      ],
      "source": [
        "sns.catplot(x='step', y='customer',\n",
        "            data=worstMerchantsFraudDf, kind='point', aspect=2)\n"
      ]
    },
    {
      "cell_type": "code",
      "execution_count": 516,
      "metadata": {},
      "outputs": [
        {
          "data": {
            "text/plain": [
              "Text(0.5, 1.0, 'Merchant: M480139044')"
            ]
          },
          "execution_count": 516,
          "metadata": {},
          "output_type": "execute_result"
        },
        {
          "data": {
            "image/png": "[encoded data removed]",
            "text/plain": [
              "<Figure size 432x288 with 1 Axes>"
            ]
          },
          "metadata": {
            "needs_background": "light"
          },
          "output_type": "display_data"
        }
      ],
      "source": [
        "sns.scatterplot(x='step', y='customer', hue='fraud',\n",
        "                data=worstMerchantDf,).set_title('Merchant: ' + worstMerchant)\n"
      ]
    },
    {
      "cell_type": "code",
      "execution_count": 461,
      "metadata": {},
      "outputs": [
        {
          "data": {
            "text/html": [
              "<div>\n",
              "<style scoped>\n",
              "    .dataframe tbody tr th:only-of-type {\n",
              "        vertical-align: middle;\n",
              "    }\n",
              "\n",
              "    .dataframe tbody tr th {\n",
              "        vertical-align: top;\n",
              "    }\n",
              "\n",
              "    .dataframe thead th {\n",
              "        text-align: right;\n",
              "    }\n",
              "</style>\n",
              "<table border=\"1\" class=\"dataframe\">\n",
              "  <thead>\n",
              "    <tr style=\"text-align: right;\">\n",
              "      <th></th>\n",
              "      <th>step</th>\n",
              "      <th>amount</th>\n",
              "      <th>fraud</th>\n",
              "    </tr>\n",
              "    <tr>\n",
              "      <th>customer</th>\n",
              "      <th></th>\n",
              "      <th></th>\n",
              "      <th></th>\n",
              "    </tr>\n",
              "  </thead>\n",
              "  <tbody>\n",
              "    <tr>\n",
              "      <th>'C1175850429'</th>\n",
              "      <td>1680</td>\n",
              "      <td>14563.88</td>\n",
              "      <td>29</td>\n",
              "    </tr>\n",
              "    <tr>\n",
              "      <th>'C1350963410'</th>\n",
              "      <td>2431</td>\n",
              "      <td>10110.74</td>\n",
              "      <td>31</td>\n",
              "    </tr>\n",
              "    <tr>\n",
              "      <th>'C1464489812'</th>\n",
              "      <td>952</td>\n",
              "      <td>10331.19</td>\n",
              "      <td>23</td>\n",
              "    </tr>\n",
              "    <tr>\n",
              "      <th>'C1572610482'</th>\n",
              "      <td>917</td>\n",
              "      <td>9907.38</td>\n",
              "      <td>22</td>\n",
              "    </tr>\n",
              "    <tr>\n",
              "      <th>'C1817318774'</th>\n",
              "      <td>2278</td>\n",
              "      <td>8531.15</td>\n",
              "      <td>23</td>\n",
              "    </tr>\n",
              "    <tr>\n",
              "      <th>'C1849046345'</th>\n",
              "      <td>1648</td>\n",
              "      <td>10585.97</td>\n",
              "      <td>30</td>\n",
              "    </tr>\n",
              "    <tr>\n",
              "      <th>'C1978250683'</th>\n",
              "      <td>1601</td>\n",
              "      <td>9247.15</td>\n",
              "      <td>26</td>\n",
              "    </tr>\n",
              "    <tr>\n",
              "      <th>'C2004941826'</th>\n",
              "      <td>2691</td>\n",
              "      <td>11820.89</td>\n",
              "      <td>29</td>\n",
              "    </tr>\n",
              "    <tr>\n",
              "      <th>'C2113737065'</th>\n",
              "      <td>1746</td>\n",
              "      <td>10594.09</td>\n",
              "      <td>27</td>\n",
              "    </tr>\n",
              "    <tr>\n",
              "      <th>'C483912131'</th>\n",
              "      <td>2722</td>\n",
              "      <td>13128.94</td>\n",
              "      <td>25</td>\n",
              "    </tr>\n",
              "    <tr>\n",
              "      <th>'C806399525'</th>\n",
              "      <td>2580</td>\n",
              "      <td>10726.05</td>\n",
              "      <td>30</td>\n",
              "    </tr>\n",
              "  </tbody>\n",
              "</table>\n",
              "</div>"
            ],
            "text/plain": [
              "               step    amount  fraud\n",
              "customer                            \n",
              "'C1175850429'  1680  14563.88     29\n",
              "'C1350963410'  2431  10110.74     31\n",
              "'C1464489812'   952  10331.19     23\n",
              "'C1572610482'   917   9907.38     22\n",
              "'C1817318774'  2278   8531.15     23\n",
              "'C1849046345'  1648  10585.97     30\n",
              "'C1978250683'  1601   9247.15     26\n",
              "'C2004941826'  2691  11820.89     29\n",
              "'C2113737065'  1746  10594.09     27\n",
              "'C483912131'   2722  13128.94     25\n",
              "'C806399525'   2580  10726.05     30"
            ]
          },
          "execution_count": 461,
          "metadata": {},
          "output_type": "execute_result"
        }
      ],
      "source": [
        "fraudedCusts = worstMerchantsFraudDf.groupby('customer').sum()\n",
        "worstHitCusts = fraudedCusts[fraudedCusts['fraud'] > 20]\n",
        "worstHitCusts\n"
      ]
    },
    {
      "cell_type": "code",
      "execution_count": 477,
      "metadata": {},
      "outputs": [
        {
          "data": {
            "text/html": [
              "<div>\n",
              "<style scoped>\n",
              "    .dataframe tbody tr th:only-of-type {\n",
              "        vertical-align: middle;\n",
              "    }\n",
              "\n",
              "    .dataframe tbody tr th {\n",
              "        vertical-align: top;\n",
              "    }\n",
              "\n",
              "    .dataframe thead th {\n",
              "        text-align: right;\n",
              "    }\n",
              "</style>\n",
              "<table border=\"1\" class=\"dataframe\">\n",
              "  <thead>\n",
              "    <tr style=\"text-align: right;\">\n",
              "      <th></th>\n",
              "      <th>customer</th>\n",
              "      <th>step</th>\n",
              "      <th>amount</th>\n",
              "      <th>fraud</th>\n",
              "    </tr>\n",
              "  </thead>\n",
              "  <tbody>\n",
              "    <tr>\n",
              "      <th>0</th>\n",
              "      <td>'C1175850429'</td>\n",
              "      <td>1680</td>\n",
              "      <td>14563.88</td>\n",
              "      <td>29</td>\n",
              "    </tr>\n",
              "    <tr>\n",
              "      <th>1</th>\n",
              "      <td>'C1350963410'</td>\n",
              "      <td>2431</td>\n",
              "      <td>10110.74</td>\n",
              "      <td>31</td>\n",
              "    </tr>\n",
              "    <tr>\n",
              "      <th>2</th>\n",
              "      <td>'C1464489812'</td>\n",
              "      <td>952</td>\n",
              "      <td>10331.19</td>\n",
              "      <td>23</td>\n",
              "    </tr>\n",
              "    <tr>\n",
              "      <th>3</th>\n",
              "      <td>'C1572610482'</td>\n",
              "      <td>917</td>\n",
              "      <td>9907.38</td>\n",
              "      <td>22</td>\n",
              "    </tr>\n",
              "    <tr>\n",
              "      <th>4</th>\n",
              "      <td>'C1817318774'</td>\n",
              "      <td>2278</td>\n",
              "      <td>8531.15</td>\n",
              "      <td>23</td>\n",
              "    </tr>\n",
              "    <tr>\n",
              "      <th>5</th>\n",
              "      <td>'C1849046345'</td>\n",
              "      <td>1648</td>\n",
              "      <td>10585.97</td>\n",
              "      <td>30</td>\n",
              "    </tr>\n",
              "    <tr>\n",
              "      <th>6</th>\n",
              "      <td>'C1978250683'</td>\n",
              "      <td>1601</td>\n",
              "      <td>9247.15</td>\n",
              "      <td>26</td>\n",
              "    </tr>\n",
              "    <tr>\n",
              "      <th>7</th>\n",
              "      <td>'C2004941826'</td>\n",
              "      <td>2691</td>\n",
              "      <td>11820.89</td>\n",
              "      <td>29</td>\n",
              "    </tr>\n",
              "    <tr>\n",
              "      <th>8</th>\n",
              "      <td>'C2113737065'</td>\n",
              "      <td>1746</td>\n",
              "      <td>10594.09</td>\n",
              "      <td>27</td>\n",
              "    </tr>\n",
              "    <tr>\n",
              "      <th>9</th>\n",
              "      <td>'C483912131'</td>\n",
              "      <td>2722</td>\n",
              "      <td>13128.94</td>\n",
              "      <td>25</td>\n",
              "    </tr>\n",
              "    <tr>\n",
              "      <th>10</th>\n",
              "      <td>'C806399525'</td>\n",
              "      <td>2580</td>\n",
              "      <td>10726.05</td>\n",
              "      <td>30</td>\n",
              "    </tr>\n",
              "  </tbody>\n",
              "</table>\n",
              "</div>"
            ],
            "text/plain": [
              "         customer  step    amount  fraud\n",
              "0   'C1175850429'  1680  14563.88     29\n",
              "1   'C1350963410'  2431  10110.74     31\n",
              "2   'C1464489812'   952  10331.19     23\n",
              "3   'C1572610482'   917   9907.38     22\n",
              "4   'C1817318774'  2278   8531.15     23\n",
              "5   'C1849046345'  1648  10585.97     30\n",
              "6   'C1978250683'  1601   9247.15     26\n",
              "7   'C2004941826'  2691  11820.89     29\n",
              "8   'C2113737065'  1746  10594.09     27\n",
              "9    'C483912131'  2722  13128.94     25\n",
              "10   'C806399525'  2580  10726.05     30"
            ]
          },
          "execution_count": 477,
          "metadata": {},
          "output_type": "execute_result"
        }
      ],
      "source": [
        "worstHitCustsDf = worstHitCusts.reset_index()\n",
        "worstHitCustsDf"
      ]
    },
    {
      "cell_type": "code",
      "execution_count": 479,
      "metadata": {},
      "outputs": [
        {
          "data": {
            "text/plain": [
              "array([\"'C1175850429'\", \"'C1350963410'\", \"'C1464489812'\", \"'C1572610482'\",\n",
              "       \"'C1817318774'\", \"'C1849046345'\", \"'C1978250683'\", \"'C2004941826'\",\n",
              "       \"'C2113737065'\", \"'C483912131'\", \"'C806399525'\"], dtype=object)"
            ]
          },
          "execution_count": 479,
          "metadata": {},
          "output_type": "execute_result"
        }
      ],
      "source": [
        "worstHitCustsDf['customer'].values"
      ]
    },
    {
      "cell_type": "code",
      "execution_count": 482,
      "metadata": {},
      "outputs": [
        {
          "data": {
            "text/html": [
              "<div>\n",
              "<style scoped>\n",
              "    .dataframe tbody tr th:only-of-type {\n",
              "        vertical-align: middle;\n",
              "    }\n",
              "\n",
              "    .dataframe tbody tr th {\n",
              "        vertical-align: top;\n",
              "    }\n",
              "\n",
              "    .dataframe thead th {\n",
              "        text-align: right;\n",
              "    }\n",
              "</style>\n",
              "<table border=\"1\" class=\"dataframe\">\n",
              "  <thead>\n",
              "    <tr style=\"text-align: right;\">\n",
              "      <th></th>\n",
              "      <th>step</th>\n",
              "      <th>customer</th>\n",
              "      <th>age</th>\n",
              "      <th>gender</th>\n",
              "      <th>merchant</th>\n",
              "      <th>category</th>\n",
              "      <th>amount</th>\n",
              "      <th>fraud</th>\n",
              "    </tr>\n",
              "  </thead>\n",
              "  <tbody>\n",
              "    <tr>\n",
              "      <th>466</th>\n",
              "      <td>0</td>\n",
              "      <td>'C1817318774'</td>\n",
              "      <td>'2'</td>\n",
              "      <td>'F'</td>\n",
              "      <td>'M980657600'</td>\n",
              "      <td>'es_sportsandtoys'</td>\n",
              "      <td>106.29</td>\n",
              "      <td>0</td>\n",
              "    </tr>\n",
              "    <tr>\n",
              "      <th>2414</th>\n",
              "      <td>0</td>\n",
              "      <td>'C1175850429'</td>\n",
              "      <td>'4'</td>\n",
              "      <td>'M'</td>\n",
              "      <td>'M480139044'</td>\n",
              "      <td>'es_health'</td>\n",
              "      <td>142.86</td>\n",
              "      <td>1</td>\n",
              "    </tr>\n",
              "    <tr>\n",
              "      <th>3794</th>\n",
              "      <td>1</td>\n",
              "      <td>'C1464489812'</td>\n",
              "      <td>'4'</td>\n",
              "      <td>'M'</td>\n",
              "      <td>'M980657600'</td>\n",
              "      <td>'es_sportsandtoys'</td>\n",
              "      <td>397.63</td>\n",
              "      <td>1</td>\n",
              "    </tr>\n",
              "    <tr>\n",
              "      <th>3861</th>\n",
              "      <td>1</td>\n",
              "      <td>'C1464489812'</td>\n",
              "      <td>'4'</td>\n",
              "      <td>'M'</td>\n",
              "      <td>'M480139044'</td>\n",
              "      <td>'es_health'</td>\n",
              "      <td>809.46</td>\n",
              "      <td>1</td>\n",
              "    </tr>\n",
              "    <tr>\n",
              "      <th>6741</th>\n",
              "      <td>2</td>\n",
              "      <td>'C1572610482'</td>\n",
              "      <td>'3'</td>\n",
              "      <td>'F'</td>\n",
              "      <td>'M480139044'</td>\n",
              "      <td>'es_health'</td>\n",
              "      <td>644.59</td>\n",
              "      <td>1</td>\n",
              "    </tr>\n",
              "    <tr>\n",
              "      <th>...</th>\n",
              "      <td>...</td>\n",
              "      <td>...</td>\n",
              "      <td>...</td>\n",
              "      <td>...</td>\n",
              "      <td>...</td>\n",
              "      <td>...</td>\n",
              "      <td>...</td>\n",
              "      <td>...</td>\n",
              "    </tr>\n",
              "    <tr>\n",
              "      <th>593179</th>\n",
              "      <td>179</td>\n",
              "      <td>'C2113737065'</td>\n",
              "      <td>'2'</td>\n",
              "      <td>'F'</td>\n",
              "      <td>'M732195782'</td>\n",
              "      <td>'es_travel'</td>\n",
              "      <td>3631.60</td>\n",
              "      <td>1</td>\n",
              "    </tr>\n",
              "    <tr>\n",
              "      <th>593927</th>\n",
              "      <td>179</td>\n",
              "      <td>'C1350963410'</td>\n",
              "      <td>'5'</td>\n",
              "      <td>'F'</td>\n",
              "      <td>'M3697346'</td>\n",
              "      <td>'es_leisure'</td>\n",
              "      <td>308.82</td>\n",
              "      <td>1</td>\n",
              "    </tr>\n",
              "    <tr>\n",
              "      <th>593964</th>\n",
              "      <td>179</td>\n",
              "      <td>'C1175850429'</td>\n",
              "      <td>'4'</td>\n",
              "      <td>'M'</td>\n",
              "      <td>'M348934600'</td>\n",
              "      <td>'es_transportation'</td>\n",
              "      <td>41.84</td>\n",
              "      <td>0</td>\n",
              "    </tr>\n",
              "    <tr>\n",
              "      <th>594096</th>\n",
              "      <td>179</td>\n",
              "      <td>'C1849046345'</td>\n",
              "      <td>'4'</td>\n",
              "      <td>'F'</td>\n",
              "      <td>'M348934600'</td>\n",
              "      <td>'es_transportation'</td>\n",
              "      <td>15.51</td>\n",
              "      <td>0</td>\n",
              "    </tr>\n",
              "    <tr>\n",
              "      <th>594097</th>\n",
              "      <td>179</td>\n",
              "      <td>'C1849046345'</td>\n",
              "      <td>'4'</td>\n",
              "      <td>'F'</td>\n",
              "      <td>'M1823072687'</td>\n",
              "      <td>'es_transportation'</td>\n",
              "      <td>25.82</td>\n",
              "      <td>0</td>\n",
              "    </tr>\n",
              "  </tbody>\n",
              "</table>\n",
              "<p>1620 rows × 8 columns</p>\n",
              "</div>"
            ],
            "text/plain": [
              "        step       customer  age gender       merchant             category  \\\n",
              "466        0  'C1817318774'  '2'    'F'   'M980657600'   'es_sportsandtoys'   \n",
              "2414       0  'C1175850429'  '4'    'M'   'M480139044'          'es_health'   \n",
              "3794       1  'C1464489812'  '4'    'M'   'M980657600'   'es_sportsandtoys'   \n",
              "3861       1  'C1464489812'  '4'    'M'   'M480139044'          'es_health'   \n",
              "6741       2  'C1572610482'  '3'    'F'   'M480139044'          'es_health'   \n",
              "...      ...            ...  ...    ...            ...                  ...   \n",
              "593179   179  'C2113737065'  '2'    'F'   'M732195782'          'es_travel'   \n",
              "593927   179  'C1350963410'  '5'    'F'     'M3697346'         'es_leisure'   \n",
              "593964   179  'C1175850429'  '4'    'M'   'M348934600'  'es_transportation'   \n",
              "594096   179  'C1849046345'  '4'    'F'   'M348934600'  'es_transportation'   \n",
              "594097   179  'C1849046345'  '4'    'F'  'M1823072687'  'es_transportation'   \n",
              "\n",
              "         amount  fraud  \n",
              "466      106.29      0  \n",
              "2414     142.86      1  \n",
              "3794     397.63      1  \n",
              "3861     809.46      1  \n",
              "6741     644.59      1  \n",
              "...         ...    ...  \n",
              "593179  3631.60      1  \n",
              "593927   308.82      1  \n",
              "593964    41.84      0  \n",
              "594096    15.51      0  \n",
              "594097    25.82      0  \n",
              "\n",
              "[1620 rows x 8 columns]"
            ]
          },
          "execution_count": 482,
          "metadata": {},
          "output_type": "execute_result"
        }
      ],
      "source": [
        "custTrans = dft[dft['customer'].isin(worstHitCustsDf['customer'].values)]\n",
        "custTrans\n"
      ]
    },
    {
      "cell_type": "code",
      "execution_count": 492,
      "metadata": {},
      "outputs": [
        {
          "data": {
            "text/plain": [
              "<AxesSubplot:xlabel='step', ylabel='customer'>"
            ]
          },
          "execution_count": 492,
          "metadata": {},
          "output_type": "execute_result"
        },
        {
          "data": {
            "image/png": "[encoded data removed]",
            "text/plain": [
              "<Figure size 432x288 with 1 Axes>"
            ]
          },
          "metadata": {
            "needs_background": "light"
          },
          "output_type": "display_data"
        }
      ],
      "source": [
        "sns.scatterplot(x='step', y='customer', hue='fraud',\n",
        "            data=custTrans,)\n"
      ]
    },
    {
      "cell_type": "code",
      "execution_count": 506,
      "metadata": {},
      "outputs": [
        {
          "data": {
            "text/plain": [
              "Text(0.5, 1.0, \"Customer: 'C1817318774'\")"
            ]
          },
          "execution_count": 506,
          "metadata": {},
          "output_type": "execute_result"
        },
        {
          "data": {
            "image/png": "[encoded data removed]",
            "text/plain": [
              "<Figure size 432x288 with 1 Axes>"
            ]
          },
          "metadata": {
            "needs_background": "light"
          },
          "output_type": "display_data"
        }
      ],
      "source": [
        "slectCust = \"'C1817318774'\"\n",
        "thisCust = dft[dft['customer'] == slectCust]\n",
        "sns.scatterplot(x='step', y='merchant', hue='fraud',\n",
        "                data=thisCust,).set_title('Customer: ' + slectCust)\n"
      ]
    },
    {
      "cell_type": "code",
      "execution_count": 509,
      "metadata": {},
      "outputs": [
        {
          "data": {
            "text/html": [
              "<div>\n",
              "<style scoped>\n",
              "    .dataframe tbody tr th:only-of-type {\n",
              "        vertical-align: middle;\n",
              "    }\n",
              "\n",
              "    .dataframe tbody tr th {\n",
              "        vertical-align: top;\n",
              "    }\n",
              "\n",
              "    .dataframe thead th {\n",
              "        text-align: right;\n",
              "    }\n",
              "</style>\n",
              "<table border=\"1\" class=\"dataframe\">\n",
              "  <thead>\n",
              "    <tr style=\"text-align: right;\">\n",
              "      <th></th>\n",
              "      <th>step</th>\n",
              "      <th>customer</th>\n",
              "      <th>age</th>\n",
              "      <th>gender</th>\n",
              "      <th>merchant</th>\n",
              "      <th>category</th>\n",
              "      <th>amount</th>\n",
              "      <th>fraud</th>\n",
              "    </tr>\n",
              "  </thead>\n",
              "  <tbody>\n",
              "    <tr>\n",
              "      <th>254055</th>\n",
              "      <td>85</td>\n",
              "      <td>'C1817318774'</td>\n",
              "      <td>'2'</td>\n",
              "      <td>'F'</td>\n",
              "      <td>'M1535107174'</td>\n",
              "      <td>'es_wellnessandbeauty'</td>\n",
              "      <td>73.47</td>\n",
              "      <td>1</td>\n",
              "    </tr>\n",
              "    <tr>\n",
              "      <th>335458</th>\n",
              "      <td>108</td>\n",
              "      <td>'C1817318774'</td>\n",
              "      <td>'2'</td>\n",
              "      <td>'F'</td>\n",
              "      <td>'M1535107174'</td>\n",
              "      <td>'es_wellnessandbeauty'</td>\n",
              "      <td>274.41</td>\n",
              "      <td>1</td>\n",
              "    </tr>\n",
              "    <tr>\n",
              "      <th>351928</th>\n",
              "      <td>113</td>\n",
              "      <td>'C1817318774'</td>\n",
              "      <td>'2'</td>\n",
              "      <td>'F'</td>\n",
              "      <td>'M1535107174'</td>\n",
              "      <td>'es_wellnessandbeauty'</td>\n",
              "      <td>440.71</td>\n",
              "      <td>1</td>\n",
              "    </tr>\n",
              "    <tr>\n",
              "      <th>418399</th>\n",
              "      <td>132</td>\n",
              "      <td>'C1817318774'</td>\n",
              "      <td>'2'</td>\n",
              "      <td>'F'</td>\n",
              "      <td>'M1535107174'</td>\n",
              "      <td>'es_wellnessandbeauty'</td>\n",
              "      <td>38.31</td>\n",
              "      <td>0</td>\n",
              "    </tr>\n",
              "    <tr>\n",
              "      <th>532745</th>\n",
              "      <td>163</td>\n",
              "      <td>'C1817318774'</td>\n",
              "      <td>'2'</td>\n",
              "      <td>'F'</td>\n",
              "      <td>'M1535107174'</td>\n",
              "      <td>'es_wellnessandbeauty'</td>\n",
              "      <td>54.31</td>\n",
              "      <td>0</td>\n",
              "    </tr>\n",
              "  </tbody>\n",
              "</table>\n",
              "</div>"
            ],
            "text/plain": [
              "        step       customer  age gender       merchant  \\\n",
              "254055    85  'C1817318774'  '2'    'F'  'M1535107174'   \n",
              "335458   108  'C1817318774'  '2'    'F'  'M1535107174'   \n",
              "351928   113  'C1817318774'  '2'    'F'  'M1535107174'   \n",
              "418399   132  'C1817318774'  '2'    'F'  'M1535107174'   \n",
              "532745   163  'C1817318774'  '2'    'F'  'M1535107174'   \n",
              "\n",
              "                      category  amount  fraud  \n",
              "254055  'es_wellnessandbeauty'   73.47      1  \n",
              "335458  'es_wellnessandbeauty'  274.41      1  \n",
              "351928  'es_wellnessandbeauty'  440.71      1  \n",
              "418399  'es_wellnessandbeauty'   38.31      0  \n",
              "532745  'es_wellnessandbeauty'   54.31      0  "
            ]
          },
          "execution_count": 509,
          "metadata": {},
          "output_type": "execute_result"
        }
      ],
      "source": [
        "thisScenario = thisCust[thisCust['merchant'] == \"'M1535107174'\"]\n",
        "thisScenario\n"
      ]
    },
    {
      "cell_type": "code",
      "execution_count": 487,
      "metadata": {},
      "outputs": [
        {
          "data": {
            "text/plain": [
              "<seaborn.axisgrid.FacetGrid at 0x7fefade14af0>"
            ]
          },
          "execution_count": 487,
          "metadata": {},
          "output_type": "execute_result"
        },
        {
          "data": {
            "image/png": "[encoded data removed]",
            "text/plain": [
              "<Figure size 720x360 with 1 Axes>"
            ]
          },
          "metadata": {
            "needs_background": "light"
          },
          "output_type": "display_data"
        }
      ],
      "source": [
        "sns.catplot(x='step', y='customer',\n",
        "            data=custTrans[custTrans['fraud'] == 0], kind='point', aspect=2)\n"
      ]
    },
    {
      "cell_type": "markdown",
      "metadata": {},
      "source": [
        "### categories"
      ]
    },
    {
      "cell_type": "code",
      "execution_count": 382,
      "metadata": {},
      "outputs": [
        {
          "data": {
            "text/html": [
              "<div>\n",
              "<style scoped>\n",
              "    .dataframe tbody tr th:only-of-type {\n",
              "        vertical-align: middle;\n",
              "    }\n",
              "\n",
              "    .dataframe tbody tr th {\n",
              "        vertical-align: top;\n",
              "    }\n",
              "\n",
              "    .dataframe thead th {\n",
              "        text-align: right;\n",
              "    }\n",
              "</style>\n",
              "<table border=\"1\" class=\"dataframe\">\n",
              "  <thead>\n",
              "    <tr style=\"text-align: right;\">\n",
              "      <th></th>\n",
              "      <th>category</th>\n",
              "    </tr>\n",
              "  </thead>\n",
              "  <tbody>\n",
              "    <tr>\n",
              "      <th>'es_sportsandtoys'</th>\n",
              "      <td>1982</td>\n",
              "    </tr>\n",
              "    <tr>\n",
              "      <th>'es_health'</th>\n",
              "      <td>1696</td>\n",
              "    </tr>\n",
              "    <tr>\n",
              "      <th>'es_wellnessandbeauty'</th>\n",
              "      <td>718</td>\n",
              "    </tr>\n",
              "    <tr>\n",
              "      <th>'es_travel'</th>\n",
              "      <td>578</td>\n",
              "    </tr>\n",
              "    <tr>\n",
              "      <th>'es_hotelservices'</th>\n",
              "      <td>548</td>\n",
              "    </tr>\n",
              "    <tr>\n",
              "      <th>'es_leisure'</th>\n",
              "      <td>474</td>\n",
              "    </tr>\n",
              "    <tr>\n",
              "      <th>'es_home'</th>\n",
              "      <td>302</td>\n",
              "    </tr>\n",
              "    <tr>\n",
              "      <th>'es_hyper'</th>\n",
              "      <td>280</td>\n",
              "    </tr>\n",
              "    <tr>\n",
              "      <th>'es_otherservices'</th>\n",
              "      <td>228</td>\n",
              "    </tr>\n",
              "    <tr>\n",
              "      <th>'es_tech'</th>\n",
              "      <td>158</td>\n",
              "    </tr>\n",
              "    <tr>\n",
              "      <th>'es_barsandrestaurants'</th>\n",
              "      <td>120</td>\n",
              "    </tr>\n",
              "    <tr>\n",
              "      <th>'es_fashion'</th>\n",
              "      <td>116</td>\n",
              "    </tr>\n",
              "  </tbody>\n",
              "</table>\n",
              "</div>"
            ],
            "text/plain": [
              "                         category\n",
              "'es_sportsandtoys'           1982\n",
              "'es_health'                  1696\n",
              "'es_wellnessandbeauty'        718\n",
              "'es_travel'                   578\n",
              "'es_hotelservices'            548\n",
              "'es_leisure'                  474\n",
              "'es_home'                     302\n",
              "'es_hyper'                    280\n",
              "'es_otherservices'            228\n",
              "'es_tech'                     158\n",
              "'es_barsandrestaurants'       120\n",
              "'es_fashion'                  116"
            ]
          },
          "execution_count": 382,
          "metadata": {},
          "output_type": "execute_result"
        }
      ],
      "source": [
        "# Categories by fraud cases:\n",
        "pd.DataFrame(trans_fraud['category'].value_counts())\n"
      ]
    },
    {
      "cell_type": "code",
      "execution_count": 383,
      "metadata": {},
      "outputs": [
        {
          "data": {
            "image/png": "[encoded data removed]",
            "text/plain": [
              "<Figure size 720x1080 with 1 Axes>"
            ]
          },
          "metadata": {
            "needs_background": "light"
          },
          "output_type": "display_data"
        }
      ],
      "source": [
        "dft3 = pd.DataFrame(dft['category'].value_counts())\n",
        "plt.figure(figsize=(10,15))\n",
        "sns.barplot(dft3.index,dft3.category,data=dft3,ec=\"black\")\n",
        "plt.title(\"Category-wise transactions\",fontsize=21)\n",
        "plt.xticks(rotation=90)\n",
        "addlabels_1(dft3.index,dft3.category)\n"
      ]
    },
    {
      "cell_type": "code",
      "execution_count": 384,
      "metadata": {},
      "outputs": [],
      "source": [
        "# Note:  The two largest categories (es_transportation and es_food) have absolutely no fraud ....."
      ]
    },
    {
      "cell_type": "markdown",
      "metadata": {},
      "source": [
        "### amount"
      ]
    },
    {
      "cell_type": "code",
      "execution_count": 385,
      "metadata": {},
      "outputs": [
        {
          "data": {
            "text/html": [
              "<div>\n",
              "<style scoped>\n",
              "    .dataframe tbody tr th:only-of-type {\n",
              "        vertical-align: middle;\n",
              "    }\n",
              "\n",
              "    .dataframe tbody tr th {\n",
              "        vertical-align: top;\n",
              "    }\n",
              "\n",
              "    .dataframe thead th {\n",
              "        text-align: right;\n",
              "    }\n",
              "</style>\n",
              "<table border=\"1\" class=\"dataframe\">\n",
              "  <thead>\n",
              "    <tr style=\"text-align: right;\">\n",
              "      <th></th>\n",
              "      <th>amount</th>\n",
              "    </tr>\n",
              "  </thead>\n",
              "  <tbody>\n",
              "    <tr>\n",
              "      <th>count</th>\n",
              "      <td>594643.000000</td>\n",
              "    </tr>\n",
              "    <tr>\n",
              "      <th>mean</th>\n",
              "      <td>37.890135</td>\n",
              "    </tr>\n",
              "    <tr>\n",
              "      <th>std</th>\n",
              "      <td>111.402831</td>\n",
              "    </tr>\n",
              "    <tr>\n",
              "      <th>min</th>\n",
              "      <td>0.000000</td>\n",
              "    </tr>\n",
              "    <tr>\n",
              "      <th>25%</th>\n",
              "      <td>13.740000</td>\n",
              "    </tr>\n",
              "    <tr>\n",
              "      <th>50%</th>\n",
              "      <td>26.900000</td>\n",
              "    </tr>\n",
              "    <tr>\n",
              "      <th>75%</th>\n",
              "      <td>42.540000</td>\n",
              "    </tr>\n",
              "    <tr>\n",
              "      <th>max</th>\n",
              "      <td>8329.960000</td>\n",
              "    </tr>\n",
              "  </tbody>\n",
              "</table>\n",
              "</div>"
            ],
            "text/plain": [
              "              amount\n",
              "count  594643.000000\n",
              "mean       37.890135\n",
              "std       111.402831\n",
              "min         0.000000\n",
              "25%        13.740000\n",
              "50%        26.900000\n",
              "75%        42.540000\n",
              "max      8329.960000"
            ]
          },
          "execution_count": 385,
          "metadata": {},
          "output_type": "execute_result"
        }
      ],
      "source": [
        "dft[['amount']].describe()\n"
      ]
    },
    {
      "cell_type": "code",
      "execution_count": 386,
      "metadata": {},
      "outputs": [
        {
          "data": {
            "text/html": [
              "<div>\n",
              "<style scoped>\n",
              "    .dataframe tbody tr th:only-of-type {\n",
              "        vertical-align: middle;\n",
              "    }\n",
              "\n",
              "    .dataframe tbody tr th {\n",
              "        vertical-align: top;\n",
              "    }\n",
              "\n",
              "    .dataframe thead th {\n",
              "        text-align: right;\n",
              "    }\n",
              "</style>\n",
              "<table border=\"1\" class=\"dataframe\">\n",
              "  <thead>\n",
              "    <tr style=\"text-align: right;\">\n",
              "      <th></th>\n",
              "      <th>amount</th>\n",
              "    </tr>\n",
              "  </thead>\n",
              "  <tbody>\n",
              "    <tr>\n",
              "      <th>count</th>\n",
              "      <td>7200.000000</td>\n",
              "    </tr>\n",
              "    <tr>\n",
              "      <th>mean</th>\n",
              "      <td>530.926551</td>\n",
              "    </tr>\n",
              "    <tr>\n",
              "      <th>std</th>\n",
              "      <td>835.587112</td>\n",
              "    </tr>\n",
              "    <tr>\n",
              "      <th>min</th>\n",
              "      <td>0.030000</td>\n",
              "    </tr>\n",
              "    <tr>\n",
              "      <th>25%</th>\n",
              "      <td>159.980000</td>\n",
              "    </tr>\n",
              "    <tr>\n",
              "      <th>50%</th>\n",
              "      <td>319.175000</td>\n",
              "    </tr>\n",
              "    <tr>\n",
              "      <th>75%</th>\n",
              "      <td>548.977500</td>\n",
              "    </tr>\n",
              "    <tr>\n",
              "      <th>max</th>\n",
              "      <td>8329.960000</td>\n",
              "    </tr>\n",
              "  </tbody>\n",
              "</table>\n",
              "</div>"
            ],
            "text/plain": [
              "            amount\n",
              "count  7200.000000\n",
              "mean    530.926551\n",
              "std     835.587112\n",
              "min       0.030000\n",
              "25%     159.980000\n",
              "50%     319.175000\n",
              "75%     548.977500\n",
              "max    8329.960000"
            ]
          },
          "execution_count": 386,
          "metadata": {},
          "output_type": "execute_result"
        }
      ],
      "source": [
        "trans_fraud[['amount']].describe()\n"
      ]
    },
    {
      "cell_type": "code",
      "execution_count": 387,
      "metadata": {},
      "outputs": [],
      "source": [
        "# The higher amount the higher the likelihood of being fraud"
      ]
    },
    {
      "cell_type": "markdown",
      "metadata": {},
      "source": [
        "# Advanced EDA"
      ]
    },
    {
      "cell_type": "markdown",
      "metadata": {},
      "source": [
        "### Related cases not identified as fraud"
      ]
    },
    {
      "cell_type": "code",
      "execution_count": 388,
      "metadata": {},
      "outputs": [
        {
          "name": "stdout",
          "output_type": "stream",
          "text": [
            "10\n",
            "[Int64Index([17015], dtype='int64'), Int64Index([247317, 369060, 398912], dtype='int64'), Int64Index([], dtype='int64'), Int64Index([], dtype='int64'), Int64Index([98011], dtype='int64'), Int64Index([], dtype='int64'), Int64Index([170375, 210412], dtype='int64'), Int64Index([], dtype='int64'), Int64Index([], dtype='int64'), Int64Index([], dtype='int64')]\n"
          ]
        }
      ],
      "source": [
        "trans_benign = dft[dft['fraud'] == 0]\n",
        "\n",
        "indicators = []\n",
        "\n",
        "for i, element in enumerate( trans_fraud):\n",
        "    case = trans_fraud.iloc[i]\n",
        "    x = trans_benign[(trans_benign['merchant'] == case['merchant']) & (\n",
        "        trans_benign['customer'] == case['customer'])]\n",
        "    indicators.append(x.index)\n",
        "\n",
        "print(len(indicators))\n",
        "\n",
        "print (indicators)\n"
      ]
    },
    {
      "cell_type": "code",
      "execution_count": 389,
      "metadata": {},
      "outputs": [],
      "source": [
        "# not enough cases to be relevant"
      ]
    },
    {
      "cell_type": "markdown",
      "metadata": {},
      "source": [
        "### Cases with multiple transactions"
      ]
    },
    {
      "cell_type": "code",
      "execution_count": 390,
      "metadata": {},
      "outputs": [
        {
          "name": "stdout",
          "output_type": "stream",
          "text": [
            "10\n",
            "[Int64Index([88, 853, 3906, 37947], dtype='int64'), Int64Index([89, 245420, 357436, 432259], dtype='int64'), Int64Index([434, 53059], dtype='int64'), Int64Index([435], dtype='int64'), Int64Index([553], dtype='int64'), Int64Index([554], dtype='int64'), Int64Index([   604,   1005,   2362,   9972, 100096, 148706, 213295, 219350,\n",
            "            232730, 289310, 310188, 350137, 362736, 401290, 402421],\n",
            "           dtype='int64'), Int64Index([   605,   1004,   5536,  12128,  17660,  20461,  21918,  29605,\n",
            "             44048,  46954,  50993,  58021,  58406,  60908,  60909,  71699,\n",
            "             80850,  91297,  94326, 102764, 107053, 111507, 111594, 118670,\n",
            "            142176, 142177, 173500, 176208, 198625, 214869, 248193, 283599,\n",
            "            325489, 335847, 346585, 364248, 429699, 429700],\n",
            "           dtype='int64'), Int64Index([801], dtype='int64'), Int64Index([802, 82502], dtype='int64')]\n"
          ]
        }
      ],
      "source": [
        "indicators = []\n",
        "\n",
        "for i, element in enumerate(trans_fraud):\n",
        "    case = trans_fraud.iloc[i]\n",
        "    x = trans_fraud[(trans_fraud['merchant'] == case['merchant']) & (\n",
        "        trans_fraud['customer'] == case['customer'])]\n",
        "    indicators.append(x.index)\n",
        "\n",
        "print(len(indicators))\n",
        "\n",
        "print(indicators)\n"
      ]
    },
    {
      "cell_type": "code",
      "execution_count": 391,
      "metadata": {},
      "outputs": [],
      "source": [
        "# not enough cases to be relevant\n",
        "\n",
        "# => we can drop 'step'"
      ]
    },
    {
      "cell_type": "markdown",
      "metadata": {},
      "source": [
        "# Conclusions:"
      ]
    },
    {
      "cell_type": "code",
      "execution_count": 392,
      "metadata": {},
      "outputs": [],
      "source": [
        "# (4) Choose the label and features\n",
        "\n",
        "# label = 'fraud'\n",
        "\n"
      ]
    },
    {
      "cell_type": "code",
      "execution_count": 393,
      "metadata": {
        "id": "qgKdodxeNbSg"
      },
      "outputs": [
        {
          "data": {
            "text/html": [
              "<div>\n",
              "<style scoped>\n",
              "    .dataframe tbody tr th:only-of-type {\n",
              "        vertical-align: middle;\n",
              "    }\n",
              "\n",
              "    .dataframe tbody tr th {\n",
              "        vertical-align: top;\n",
              "    }\n",
              "\n",
              "    .dataframe thead th {\n",
              "        text-align: right;\n",
              "    }\n",
              "</style>\n",
              "<table border=\"1\" class=\"dataframe\">\n",
              "  <thead>\n",
              "    <tr style=\"text-align: right;\">\n",
              "      <th></th>\n",
              "      <th>step</th>\n",
              "      <th>customer</th>\n",
              "      <th>age</th>\n",
              "      <th>gender</th>\n",
              "      <th>merchant</th>\n",
              "      <th>category</th>\n",
              "      <th>amount</th>\n",
              "      <th>fraud</th>\n",
              "    </tr>\n",
              "  </thead>\n",
              "  <tbody>\n",
              "    <tr>\n",
              "      <th>0</th>\n",
              "      <td>0</td>\n",
              "      <td>'C1093826151'</td>\n",
              "      <td>'4'</td>\n",
              "      <td>'M'</td>\n",
              "      <td>'M348934600'</td>\n",
              "      <td>'es_transportation'</td>\n",
              "      <td>4.55</td>\n",
              "      <td>0</td>\n",
              "    </tr>\n",
              "    <tr>\n",
              "      <th>1</th>\n",
              "      <td>0</td>\n",
              "      <td>'C352968107'</td>\n",
              "      <td>'2'</td>\n",
              "      <td>'M'</td>\n",
              "      <td>'M348934600'</td>\n",
              "      <td>'es_transportation'</td>\n",
              "      <td>39.68</td>\n",
              "      <td>0</td>\n",
              "    </tr>\n",
              "    <tr>\n",
              "      <th>2</th>\n",
              "      <td>0</td>\n",
              "      <td>'C2054744914'</td>\n",
              "      <td>'4'</td>\n",
              "      <td>'F'</td>\n",
              "      <td>'M1823072687'</td>\n",
              "      <td>'es_transportation'</td>\n",
              "      <td>26.89</td>\n",
              "      <td>0</td>\n",
              "    </tr>\n",
              "    <tr>\n",
              "      <th>3</th>\n",
              "      <td>0</td>\n",
              "      <td>'C1760612790'</td>\n",
              "      <td>'3'</td>\n",
              "      <td>'M'</td>\n",
              "      <td>'M348934600'</td>\n",
              "      <td>'es_transportation'</td>\n",
              "      <td>17.25</td>\n",
              "      <td>0</td>\n",
              "    </tr>\n",
              "    <tr>\n",
              "      <th>4</th>\n",
              "      <td>0</td>\n",
              "      <td>'C757503768'</td>\n",
              "      <td>'5'</td>\n",
              "      <td>'M'</td>\n",
              "      <td>'M348934600'</td>\n",
              "      <td>'es_transportation'</td>\n",
              "      <td>35.72</td>\n",
              "      <td>0</td>\n",
              "    </tr>\n",
              "  </tbody>\n",
              "</table>\n",
              "</div>"
            ],
            "text/plain": [
              "   step       customer  age gender       merchant             category  \\\n",
              "0     0  'C1093826151'  '4'    'M'   'M348934600'  'es_transportation'   \n",
              "1     0   'C352968107'  '2'    'M'   'M348934600'  'es_transportation'   \n",
              "2     0  'C2054744914'  '4'    'F'  'M1823072687'  'es_transportation'   \n",
              "3     0  'C1760612790'  '3'    'M'   'M348934600'  'es_transportation'   \n",
              "4     0   'C757503768'  '5'    'M'   'M348934600'  'es_transportation'   \n",
              "\n",
              "   amount  fraud  \n",
              "0    4.55      0  \n",
              "1   39.68      0  \n",
              "2   26.89      0  \n",
              "3   17.25      0  \n",
              "4   35.72      0  "
            ]
          },
          "execution_count": 393,
          "metadata": {},
          "output_type": "execute_result"
        }
      ],
      "source": [
        "# (5) Feature engineer for data that is\n",
        "# (a) relevant \n",
        "# (b) unique\n",
        "# (c) correct \n",
        "# (d) not missing\n",
        "\n",
        "irrelevantFeats = [\n",
        "    'zipMerchant', # as same for all\n",
        "    'zipcodeOri',  # as same for all\n",
        "]\n",
        "\n",
        "# Drop data that is not a,b,c, or d\n",
        "dft = dft.drop(irrelevantFeats, axis=1, inplace=False)\n",
        "dft.head()\n"
      ]
    },
    {
      "cell_type": "code",
      "execution_count": 394,
      "metadata": {},
      "outputs": [
        {
          "data": {
            "text/html": [
              "<div>\n",
              "<style scoped>\n",
              "    .dataframe tbody tr th:only-of-type {\n",
              "        vertical-align: middle;\n",
              "    }\n",
              "\n",
              "    .dataframe tbody tr th {\n",
              "        vertical-align: top;\n",
              "    }\n",
              "\n",
              "    .dataframe thead th {\n",
              "        text-align: right;\n",
              "    }\n",
              "</style>\n",
              "<table border=\"1\" class=\"dataframe\">\n",
              "  <thead>\n",
              "    <tr style=\"text-align: right;\">\n",
              "      <th></th>\n",
              "      <th>step</th>\n",
              "      <th>customer</th>\n",
              "      <th>age</th>\n",
              "      <th>gender</th>\n",
              "      <th>merchant</th>\n",
              "      <th>category</th>\n",
              "      <th>amount</th>\n",
              "      <th>fraud</th>\n",
              "    </tr>\n",
              "  </thead>\n",
              "  <tbody>\n",
              "    <tr>\n",
              "      <th>0</th>\n",
              "      <td>0</td>\n",
              "      <td>210</td>\n",
              "      <td>4</td>\n",
              "      <td>2</td>\n",
              "      <td>30</td>\n",
              "      <td>12</td>\n",
              "      <td>4.55</td>\n",
              "      <td>0</td>\n",
              "    </tr>\n",
              "    <tr>\n",
              "      <th>1</th>\n",
              "      <td>0</td>\n",
              "      <td>2753</td>\n",
              "      <td>2</td>\n",
              "      <td>2</td>\n",
              "      <td>30</td>\n",
              "      <td>12</td>\n",
              "      <td>39.68</td>\n",
              "      <td>0</td>\n",
              "    </tr>\n",
              "    <tr>\n",
              "      <th>2</th>\n",
              "      <td>0</td>\n",
              "      <td>2285</td>\n",
              "      <td>4</td>\n",
              "      <td>1</td>\n",
              "      <td>18</td>\n",
              "      <td>12</td>\n",
              "      <td>26.89</td>\n",
              "      <td>0</td>\n",
              "    </tr>\n",
              "    <tr>\n",
              "      <th>3</th>\n",
              "      <td>0</td>\n",
              "      <td>1650</td>\n",
              "      <td>3</td>\n",
              "      <td>2</td>\n",
              "      <td>30</td>\n",
              "      <td>12</td>\n",
              "      <td>17.25</td>\n",
              "      <td>0</td>\n",
              "    </tr>\n",
              "    <tr>\n",
              "      <th>4</th>\n",
              "      <td>0</td>\n",
              "      <td>3585</td>\n",
              "      <td>5</td>\n",
              "      <td>2</td>\n",
              "      <td>30</td>\n",
              "      <td>12</td>\n",
              "      <td>35.72</td>\n",
              "      <td>0</td>\n",
              "    </tr>\n",
              "  </tbody>\n",
              "</table>\n",
              "</div>"
            ],
            "text/plain": [
              "   step  customer  age  gender  merchant  category  amount  fraud\n",
              "0     0       210    4       2        30        12    4.55      0\n",
              "1     0      2753    2       2        30        12   39.68      0\n",
              "2     0      2285    4       1        18        12   26.89      0\n",
              "3     0      1650    3       2        30        12   17.25      0\n",
              "4     0      3585    5       2        30        12   35.72      0"
            ]
          },
          "execution_count": 394,
          "metadata": {},
          "output_type": "execute_result"
        }
      ],
      "source": [
        "# Conversion of categorical features into numerical features:\n",
        "\n",
        "df = dft.copy()  # pd.get_dummies(features, columns=['category', 'gender'])\n",
        "encoder = LabelEncoder()\n",
        "df['customer'] = encoder.fit_transform(df['customer'])\n",
        "df['age'] = encoder.fit_transform(df['age'])\n",
        "df['gender'] = encoder.fit_transform(df['gender'])\n",
        "df['merchant'] = encoder.fit_transform(df['merchant'])\n",
        "df['category'] = encoder.fit_transform(df['category'])\n",
        "df.head()\n"
      ]
    },
    {
      "cell_type": "code",
      "execution_count": 395,
      "metadata": {},
      "outputs": [],
      "source": [
        "# Set features:\n",
        "label = df['fraud']\n",
        "features = df.drop(['fraud'], axis=1)"
      ]
    },
    {
      "cell_type": "code",
      "execution_count": 396,
      "metadata": {},
      "outputs": [],
      "source": [
        "\n",
        "# Reduce dimensions of your features\n",
        "\n",
        "# Correlation is unlcear therefore no further reduction."
      ]
    },
    {
      "cell_type": "code",
      "execution_count": 397,
      "metadata": {
        "id": "qQUJ5CbjNbSg"
      },
      "outputs": [
        {
          "data": {
            "text/html": [
              "<div>\n",
              "<style scoped>\n",
              "    .dataframe tbody tr th:only-of-type {\n",
              "        vertical-align: middle;\n",
              "    }\n",
              "\n",
              "    .dataframe tbody tr th {\n",
              "        vertical-align: top;\n",
              "    }\n",
              "\n",
              "    .dataframe thead th {\n",
              "        text-align: right;\n",
              "    }\n",
              "</style>\n",
              "<table border=\"1\" class=\"dataframe\">\n",
              "  <thead>\n",
              "    <tr style=\"text-align: right;\">\n",
              "      <th></th>\n",
              "      <th>step</th>\n",
              "      <th>customer</th>\n",
              "      <th>age</th>\n",
              "      <th>gender</th>\n",
              "      <th>merchant</th>\n",
              "      <th>category</th>\n",
              "      <th>amount</th>\n",
              "    </tr>\n",
              "  </thead>\n",
              "  <tbody>\n",
              "    <tr>\n",
              "      <th>0</th>\n",
              "      <td>0</td>\n",
              "      <td>210</td>\n",
              "      <td>4</td>\n",
              "      <td>2</td>\n",
              "      <td>30</td>\n",
              "      <td>12</td>\n",
              "      <td>4.55</td>\n",
              "    </tr>\n",
              "    <tr>\n",
              "      <th>1</th>\n",
              "      <td>0</td>\n",
              "      <td>2753</td>\n",
              "      <td>2</td>\n",
              "      <td>2</td>\n",
              "      <td>30</td>\n",
              "      <td>12</td>\n",
              "      <td>39.68</td>\n",
              "    </tr>\n",
              "    <tr>\n",
              "      <th>2</th>\n",
              "      <td>0</td>\n",
              "      <td>2285</td>\n",
              "      <td>4</td>\n",
              "      <td>1</td>\n",
              "      <td>18</td>\n",
              "      <td>12</td>\n",
              "      <td>26.89</td>\n",
              "    </tr>\n",
              "    <tr>\n",
              "      <th>3</th>\n",
              "      <td>0</td>\n",
              "      <td>1650</td>\n",
              "      <td>3</td>\n",
              "      <td>2</td>\n",
              "      <td>30</td>\n",
              "      <td>12</td>\n",
              "      <td>17.25</td>\n",
              "    </tr>\n",
              "    <tr>\n",
              "      <th>4</th>\n",
              "      <td>0</td>\n",
              "      <td>3585</td>\n",
              "      <td>5</td>\n",
              "      <td>2</td>\n",
              "      <td>30</td>\n",
              "      <td>12</td>\n",
              "      <td>35.72</td>\n",
              "    </tr>\n",
              "  </tbody>\n",
              "</table>\n",
              "</div>"
            ],
            "text/plain": [
              "   step  customer  age  gender  merchant  category  amount\n",
              "0     0       210    4       2        30        12    4.55\n",
              "1     0      2753    2       2        30        12   39.68\n",
              "2     0      2285    4       1        18        12   26.89\n",
              "3     0      1650    3       2        30        12   17.25\n",
              "4     0      3585    5       2        30        12   35.72"
            ]
          },
          "execution_count": 397,
          "metadata": {},
          "output_type": "execute_result"
        }
      ],
      "source": [
        "# (6) Confirm data is ready with further exploratory analysis\n",
        "features.head()\n"
      ]
    },
    {
      "cell_type": "code",
      "execution_count": 401,
      "metadata": {
        "id": "b6iXRi3DNbSh"
      },
      "outputs": [],
      "source": [
        "# (7) Training, Testing (and/or Validation) data split: 60/20/20\n",
        "\n",
        "trainF, testF, trainL, testL = train_test_split(\n",
        "    features, label, test_size=0.4, random_state=42)\n",
        "\n",
        "testF, valF, testL, valL = train_test_split(\n",
        "    testF, testL, test_size=0.5, random_state=42)\n"
      ]
    },
    {
      "cell_type": "code",
      "execution_count": 399,
      "metadata": {},
      "outputs": [],
      "source": [
        "# (8) Training the Machine Learning Model (i.e, Fitting the Model)\n"
      ]
    },
    {
      "cell_type": "code",
      "execution_count": 402,
      "metadata": {},
      "outputs": [
        {
          "data": {
            "text/plain": [
              "GridSearchCV(cv=5, estimator=RandomForestClassifier(),\n",
              "             param_grid={'max_depth': [2, 10], 'n_estimators': [5, 50, 100]})"
            ]
          },
          "execution_count": 402,
          "metadata": {},
          "output_type": "execute_result"
        }
      ],
      "source": [
        "# Instantiate the model and set the hyperparameters\n",
        "\n",
        "rfModel = RandomForestClassifier()\n",
        "\n",
        "hyperparameters = {\n",
        "    'n_estimators': [5, 50, 100],\n",
        "    'max_depth': [2, 10, ]  # 20, None\n",
        "}\n",
        "\n",
        "\n",
        "# GridSearchCV will search and rank the models according their parameters\n",
        "gridSearch = GridSearchCV(rfModel, hyperparameters, cv=5)\n",
        "\n",
        "# .fit() will have the model, rfModel, learn the parameters of the features\n",
        "gridSearch.fit(trainF, trainL.values.ravel())\n"
      ]
    },
    {
      "cell_type": "code",
      "execution_count": 403,
      "metadata": {},
      "outputs": [
        {
          "name": "stdout",
          "output_type": "stream",
          "text": [
            "Best ML Hyperparameters: {'max_depth': 10, 'n_estimators': 50}\n",
            "\n",
            "0.992 (+/-0.003) for {'max_depth': 2, 'n_estimators': 5}\n",
            "0.989 (+/-0.001) for {'max_depth': 2, 'n_estimators': 50}\n",
            "0.989 (+/-0.001) for {'max_depth': 2, 'n_estimators': 100}\n",
            "0.995 (+/-0.0) for {'max_depth': 10, 'n_estimators': 5}\n",
            "0.995 (+/-0.001) for {'max_depth': 10, 'n_estimators': 50}\n",
            "0.995 (+/-0.001) for {'max_depth': 10, 'n_estimators': 100}\n"
          ]
        }
      ],
      "source": [
        "# (9a) Evaluate the model metrics for Training data\n",
        "\n",
        "def printResults(gridSearchResults):\n",
        "    \n",
        "    print( 'Best ML Hyperparameters: {}\\n'.format(gridSearchResults.best_params_) )\n",
        "\n",
        "    means = gridSearchResults.cv_results_['mean_test_score']\n",
        "    stnDvs = gridSearchResults.cv_results_['std_test_score']\n",
        "\n",
        "    for mean, stnDvs, parameters in zip( means, stnDvs, gridSearchResults.cv_results_['params'] ):\n",
        "        print(\n",
        "            '{} (+/-{}) for {}'.format(\n",
        "                round(mean, 3),\n",
        "                round(stnDvs*2, 3),\n",
        "                parameters\n",
        "            ) \n",
        "        )\n",
        "\n",
        "printResults(gridSearch)\n"
      ]
    },
    {
      "cell_type": "code",
      "execution_count": 404,
      "metadata": {},
      "outputs": [
        {
          "name": "stdout",
          "output_type": "stream",
          "text": [
            "[RandomForestClassifier(max_depth=10, n_estimators=50), RandomForestClassifier(max_depth=10), RandomForestClassifier(max_depth=10, n_estimators=5)]\n"
          ]
        }
      ],
      "source": [
        "# Determine best 3:\n",
        "\n",
        "\n",
        "rfModels = []\n",
        "\n",
        "for i in range(3):\n",
        "\n",
        "    p = gridSearch.cv_results_['params'][\n",
        "        np.argsort(\n",
        "            np.array(gridSearch.cv_results_['rank_test_score'])\n",
        "        )[i]\n",
        "    ]\n",
        "\n",
        "    rfModels.append(\n",
        "        RandomForestClassifier(\n",
        "            n_estimators=p['n_estimators'], max_depth=p['max_depth']\n",
        "        ).fit(trainF, trainL.values.ravel())\n",
        "    )\n",
        "\n",
        "print(rfModels)\n"
      ]
    },
    {
      "cell_type": "code",
      "execution_count": 405,
      "metadata": {},
      "outputs": [
        {
          "name": "stdout",
          "output_type": "stream",
          "text": [
            "Max depth: 10 and Estimators: 50\n",
            "Accuracy: 0.996, Precision: 0.904, Recall: 0.699\n",
            "------------------------------\n",
            "Max depth: 10 and Estimators: 100\n",
            "Accuracy: 0.996, Precision: 0.909, Recall: 0.7\n",
            "------------------------------\n",
            "Max depth: 10 and Estimators: 5\n",
            "Accuracy: 0.995, Precision: 0.907, Recall: 0.668\n",
            "------------------------------\n"
          ]
        }
      ],
      "source": [
        "# (9b) Evaluate the model metrics for Validation data\n",
        "\n",
        "# Iterate over the top 3 models and have each predict the label\n",
        "# then, compare the metric for each model to find the best of 3.\n",
        "\n",
        "for rfML in rfModels:  # ( rfModel1, rfModel2, rfModel3):\n",
        "    predictedLabells = rfML.predict(valF)\n",
        "\n",
        "    # Find the metric for the model: a) acuracy,b) precision, and c) recall\n",
        "    accuracy = round(accuracy_score(valL, predictedLabells), 3)\n",
        "    precision = round(precision_score(valL, predictedLabells), 3)\n",
        "    recall = round(recall_score(valL, predictedLabells), 3)\n",
        "\n",
        "    print(\n",
        "        'Max depth: {} and Estimators: {}'.format(\n",
        "            rfML.max_depth, rfML.n_estimators)\n",
        "    )\n",
        "\n",
        "    print(\n",
        "        'Accuracy: {}, Precision: {}, Recall: {}'.format(\n",
        "            accuracy, precision, recall)\n",
        "    )\n",
        "    print('------------------------------')\n"
      ]
    },
    {
      "cell_type": "code",
      "execution_count": 415,
      "metadata": {},
      "outputs": [
        {
          "data": {
            "text/plain": [
              "RandomForestClassifier(max_depth=10, n_estimators=5)"
            ]
          },
          "execution_count": 415,
          "metadata": {},
          "output_type": "execute_result"
        }
      ],
      "source": [
        "rfModels[2]\n"
      ]
    },
    {
      "cell_type": "code",
      "execution_count": 417,
      "metadata": {},
      "outputs": [
        {
          "name": "stdout",
          "output_type": "stream",
          "text": [
            "Max depth: 10 and Estimators: 100\n",
            "Accuracy: 0.996, Precision: 0.901, Recall: 0.731\n",
            "------------------------------\n"
          ]
        }
      ],
      "source": [
        "# (10) Evaluate the model metris for Testing data\n",
        "\n",
        "rfModel = rfModels[1]\n",
        "\n",
        "# Predict for best model:\n",
        "predictedLabells = rfModel.predict(testF)\n",
        "\n",
        "# Find the metric for the model: a) acuracy,b) precision, and c) recall\n",
        "accuracy = round(accuracy_score(testL, predictedLabells), 3)\n",
        "precision = round(precision_score(testL, predictedLabells), 3)\n",
        "recall = round(recall_score(testL, predictedLabells), 3)\n",
        "\n",
        "print(\n",
        "    'Max depth: {} and Estimators: {}'.format(\n",
        "        rfModel.max_depth, rfModel.n_estimators)\n",
        ")\n",
        "\n",
        "print(\n",
        "    'Accuracy: {}, Precision: {}, Recall: {}'.format(\n",
        "        accuracy, precision, recall)\n",
        ")\n",
        "print('------------------------------')\n"
      ]
    },
    {
      "cell_type": "code",
      "execution_count": 427,
      "metadata": {
        "id": "2nKxnZfqNbSk"
      },
      "outputs": [
        {
          "data": {
            "text/html": [
              "<div>\n",
              "<style scoped>\n",
              "    .dataframe tbody tr th:only-of-type {\n",
              "        vertical-align: middle;\n",
              "    }\n",
              "\n",
              "    .dataframe tbody tr th {\n",
              "        vertical-align: top;\n",
              "    }\n",
              "\n",
              "    .dataframe thead th {\n",
              "        text-align: right;\n",
              "    }\n",
              "</style>\n",
              "<table border=\"1\" class=\"dataframe\">\n",
              "  <thead>\n",
              "    <tr style=\"text-align: right;\">\n",
              "      <th></th>\n",
              "      <th>step</th>\n",
              "      <th>customer</th>\n",
              "      <th>age</th>\n",
              "      <th>gender</th>\n",
              "      <th>merchant</th>\n",
              "      <th>category</th>\n",
              "      <th>amount</th>\n",
              "      <th>fraud</th>\n",
              "    </tr>\n",
              "  </thead>\n",
              "  <tbody>\n",
              "    <tr>\n",
              "      <th>0</th>\n",
              "      <td>0</td>\n",
              "      <td>Hergen</td>\n",
              "      <td>3</td>\n",
              "      <td>M</td>\n",
              "      <td>M480139044</td>\n",
              "      <td>es_health</td>\n",
              "      <td>300</td>\n",
              "      <td>1</td>\n",
              "    </tr>\n",
              "    <tr>\n",
              "      <th>1</th>\n",
              "      <td>0</td>\n",
              "      <td>Nafitha</td>\n",
              "      <td>3</td>\n",
              "      <td>F</td>\n",
              "      <td>M480139044</td>\n",
              "      <td>es_health</td>\n",
              "      <td>200</td>\n",
              "      <td>0</td>\n",
              "    </tr>\n",
              "    <tr>\n",
              "      <th>2</th>\n",
              "      <td>0</td>\n",
              "      <td>Maitha</td>\n",
              "      <td>2</td>\n",
              "      <td>F</td>\n",
              "      <td>Amazon</td>\n",
              "      <td>es_sportsandtoys</td>\n",
              "      <td>1000000</td>\n",
              "      <td>0</td>\n",
              "    </tr>\n",
              "  </tbody>\n",
              "</table>\n",
              "</div>"
            ],
            "text/plain": [
              "   step customer age gender    merchant          category   amount  fraud\n",
              "0     0   Hergen   3      M  M480139044         es_health      300      1\n",
              "1     0  Nafitha   3      F  M480139044         es_health      200      0\n",
              "2     0   Maitha   2      F      Amazon  es_sportsandtoys  1000000      0"
            ]
          },
          "execution_count": 427,
          "metadata": {},
          "output_type": "execute_result"
        }
      ],
      "source": [
        "# (11) Use the model for prediction\n",
        "\n",
        "def convertFeature(fLabel):\n",
        "    for index in testFeaturesDF.index:\n",
        "        value = newDataFeaturesDF[fLabel].loc[index]\n",
        "        firstIndex = dft[dft[fLabel] ==\n",
        "                         \"'{}'\".format(value)].first_valid_index()\n",
        "        if firstIndex or firstIndex == 0:\n",
        "            testFeaturesDF.at[index, fLabel] = df.loc[firstIndex][fLabel].astype(\n",
        "                'int64', copy=False)\n",
        "        else:\n",
        "            testFeaturesDF.at[index, fLabel] = 0\n",
        "\n",
        "\n",
        "newDataFeatures = {\n",
        "    \"step\": [0,0,0],\n",
        "    \"customer\": [\"Hergen\", \"Nafitha\", \"Maitha\"],\n",
        "    \"age\":[\"3\",\"3\",\"2\"],\n",
        "    \"gender\":[\"M\",\"F\",\"F\"],\n",
        "    \"merchant\": [\"M480139044\", \"M480139044\", \"Amazon\"],\n",
        "    \"category\": [\"es_health\", \"es_health\", \"es_sportsandtoys\"],\n",
        "    \"amount\":[300, 200, 1000000],\n",
        "}\n",
        "\n",
        "newDataFeaturesDF = pd.DataFrame(data=newDataFeatures)\n",
        "\n",
        "testFeaturesDF = newDataFeaturesDF.copy() # .drop(irrelevantFeats, axis=1, inplace=False)\n",
        "\n",
        "convertFeature('customer')\n",
        "convertFeature('age')\n",
        "convertFeature('gender')\n",
        "convertFeature('category')\n",
        "convertFeature('merchant')\n",
        "\n",
        "newDataFeaturesDF['fraud'] = rfModel.predict(testFeaturesDF)\n",
        "\n",
        "newDataFeaturesDF.head()\n"
      ]
    },
    {
      "cell_type": "code",
      "execution_count": 408,
      "metadata": {
        "id": "dEcPvK3PNbSk"
      },
      "outputs": [],
      "source": [
        "# (12) Write final predicted data  (e.g, to CSV or JSON, etc.)\n",
        "\n",
        "pd.DataFrame(newDataFeaturesDF).to_csv('./predictions.csv', index=False)\n"
      ]
    }
  ],
  "metadata": {
    "colab": {
      "name": "option-c-guide.ipynb",
      "provenance": []
    },
    "interpreter": {
      "hash": "aee8b7b246df8f9039afb4144a1f6fd8d2ca17a180786b69acc140d282b71a49"
    },
    "kernelspec": {
      "display_name": "Python 3.9.7 64-bit",
      "name": "python3"
    },
    "language_info": {
      "codemirror_mode": {
        "name": "ipython",
        "version": 3
      },
      "file_extension": ".py",
      "mimetype": "text/x-python",
      "name": "python",
      "nbconvert_exporter": "python",
      "pygments_lexer": "ipython3",
      "version": "3.9.7"
    },
    "orig_nbformat": 2
  },
  "nbformat": 4,
  "nbformat_minor": 2
}